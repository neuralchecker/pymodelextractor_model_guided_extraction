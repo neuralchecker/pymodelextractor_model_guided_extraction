{
 "cells": [
  {
   "cell_type": "markdown",
   "metadata": {},
   "source": [
    "Load the LLM, in this case we are using gpt2"
   ]
  },
  {
   "cell_type": "code",
   "execution_count": null,
   "metadata": {},
   "outputs": [],
   "source": [
    "#!pip install transformers"
   ]
  },
  {
   "cell_type": "code",
   "execution_count": 15,
   "metadata": {},
   "outputs": [],
   "source": [
    "import torch\n",
    "from transformers import AutoModelForCausalLM\n",
    "from transformers import AutoTokenizer\n",
    "\n",
    "torch.manual_seed(42)\n",
    "\n",
    "device = \"cuda\" if torch.cuda.is_available() else \"cpu\"\n",
    "model_id = \"gpt2\"\n",
    "\n",
    "tokenizer = AutoTokenizer.from_pretrained(model_id, use_fast=True, add_prefix_space=True, local_files_only = True)\n",
    "model = AutoModelForCausalLM.from_pretrained(model_id,\n",
    "                                            return_dict_in_generate=True,\n",
    "                                            pad_token_id=tokenizer.eos_token_id).to(device)"
   ]
  },
  {
   "cell_type": "code",
   "execution_count": 16,
   "metadata": {},
   "outputs": [
    {
     "name": "stdout",
     "output_type": "stream",
     "text": [
      "Requirement already satisfied: pillow in c:\\users\\franz\\anaconda3\\envs\\pymodelextractor_exp\\lib\\site-packages (9.0.1)\n",
      "Collecting pillow\n",
      "  Downloading pillow-10.2.0-cp39-cp39-win_amd64.whl (2.6 MB)\n",
      "Installing collected packages: pillow\n",
      "  Attempting uninstall: pillow\n",
      "    Found existing installation: Pillow 9.0.1\n",
      "    Uninstalling Pillow-9.0.1:\n",
      "      Successfully uninstalled Pillow-9.0.1\n"
     ]
    },
    {
     "name": "stderr",
     "output_type": "stream",
     "text": [
      "WARNING: Ignoring invalid distribution -rotobuf (c:\\users\\franz\\appdata\\roaming\\python\\python39\\site-packages)\n",
      "WARNING: Ignoring invalid distribution - (c:\\users\\franz\\appdata\\roaming\\python\\python39\\site-packages)\n",
      "WARNING: Ignoring invalid distribution -ensorflow-intel (c:\\users\\franz\\appdata\\roaming\\python\\python39\\site-packages)\n",
      "WARNING: Ignoring invalid distribution -rotobuf (c:\\users\\franz\\appdata\\roaming\\python\\python39\\site-packages)\n",
      "WARNING: Ignoring invalid distribution - (c:\\users\\franz\\appdata\\roaming\\python\\python39\\site-packages)\n",
      "WARNING: Ignoring invalid distribution -ensorflow-intel (c:\\users\\franz\\appdata\\roaming\\python\\python39\\site-packages)\n",
      "WARNING: Ignoring invalid distribution -rotobuf (c:\\users\\franz\\appdata\\roaming\\python\\python39\\site-packages)\n",
      "WARNING: Ignoring invalid distribution - (c:\\users\\franz\\appdata\\roaming\\python\\python39\\site-packages)\n",
      "WARNING: Ignoring invalid distribution -ensorflow-intel (c:\\users\\franz\\appdata\\roaming\\python\\python39\\site-packages)\n",
      "    WARNING: Ignoring invalid distribution -rotobuf (c:\\users\\franz\\appdata\\roaming\\python\\python39\\site-packages)\n",
      "    WARNING: Ignoring invalid distribution - (c:\\users\\franz\\appdata\\roaming\\python\\python39\\site-packages)\n",
      "    WARNING: Ignoring invalid distribution -ensorflow-intel (c:\\users\\franz\\appdata\\roaming\\python\\python39\\site-packages)\n",
      "ERROR: Could not install packages due to an OSError: [WinError 5] Acceso denegado: 'C:\\\\Users\\\\franz\\\\AppData\\\\Local\\\\Temp\\\\pip-uninstall-q1b1uvyn\\\\_imaging.cp39-win_amd64.pyd'\n",
      "Consider using the `--user` option or check the permissions.\n",
      "\n",
      "WARNING: Ignoring invalid distribution -rotobuf (c:\\users\\franz\\appdata\\roaming\\python\\python39\\site-packages)\n",
      "WARNING: Ignoring invalid distribution - (c:\\users\\franz\\appdata\\roaming\\python\\python39\\site-packages)\n",
      "WARNING: Ignoring invalid distribution -ensorflow-intel (c:\\users\\franz\\appdata\\roaming\\python\\python39\\site-packages)\n",
      "WARNING: Ignoring invalid distribution -rotobuf (c:\\users\\franz\\appdata\\roaming\\python\\python39\\site-packages)\n",
      "WARNING: Ignoring invalid distribution - (c:\\users\\franz\\appdata\\roaming\\python\\python39\\site-packages)\n",
      "WARNING: Ignoring invalid distribution -ensorflow-intel (c:\\users\\franz\\appdata\\roaming\\python\\python39\\site-packages)\n",
      "WARNING: Ignoring invalid distribution -rotobuf (c:\\users\\franz\\appdata\\roaming\\python\\python39\\site-packages)\n",
      "WARNING: Ignoring invalid distribution - (c:\\users\\franz\\appdata\\roaming\\python\\python39\\site-packages)\n",
      "WARNING: Ignoring invalid distribution -ensorflow-intel (c:\\users\\franz\\appdata\\roaming\\python\\python39\\site-packages)\n"
     ]
    }
   ],
   "source": [
    "!pip install --upgrade pillow"
   ]
  },
  {
   "cell_type": "code",
   "execution_count": 2,
   "metadata": {},
   "outputs": [],
   "source": [
    "import sys\n",
    "sys.path.append(\"../\")"
   ]
  },
  {
   "cell_type": "code",
   "execution_count": 19,
   "metadata": {},
   "outputs": [
    {
     "name": "stdout",
     "output_type": "stream",
     "text": [
      "Collecting ssl\n",
      "  Using cached ssl-1.16.tar.gz (33 kB)\n",
      "  Using cached ssl-1.15.tar.gz (32 kB)\n"
     ]
    },
    {
     "name": "stderr",
     "output_type": "stream",
     "text": [
      "WARNING: Ignoring invalid distribution -rotobuf (c:\\users\\franz\\appdata\\roaming\\python\\python39\\site-packages)\n",
      "WARNING: Ignoring invalid distribution - (c:\\users\\franz\\appdata\\roaming\\python\\python39\\site-packages)\n",
      "WARNING: Ignoring invalid distribution -ensorflow-intel (c:\\users\\franz\\appdata\\roaming\\python\\python39\\site-packages)\n",
      "WARNING: Ignoring invalid distribution -rotobuf (c:\\users\\franz\\appdata\\roaming\\python\\python39\\site-packages)\n",
      "WARNING: Ignoring invalid distribution - (c:\\users\\franz\\appdata\\roaming\\python\\python39\\site-packages)\n",
      "WARNING: Ignoring invalid distribution -ensorflow-intel (c:\\users\\franz\\appdata\\roaming\\python\\python39\\site-packages)\n",
      "WARNING: Ignoring invalid distribution -illow (c:\\users\\franz\\anaconda3\\envs\\pymodelextractor_exp\\lib\\site-packages)\n",
      "    ERROR: Command errored out with exit status 1:\n",
      "     command: 'C:\\Users\\franz\\anaconda3\\envs\\pymodelextractor_exp\\python.exe' -c 'import io, os, sys, setuptools, tokenize; sys.argv[0] = '\"'\"'C:\\\\Users\\\\franz\\\\AppData\\\\Local\\\\Temp\\\\pip-install-gtzme3mm\\\\ssl_a4a4a162b65b4fae98a08f881713a950\\\\setup.py'\"'\"'; __file__='\"'\"'C:\\\\Users\\\\franz\\\\AppData\\\\Local\\\\Temp\\\\pip-install-gtzme3mm\\\\ssl_a4a4a162b65b4fae98a08f881713a950\\\\setup.py'\"'\"';f = getattr(tokenize, '\"'\"'open'\"'\"', open)(__file__) if os.path.exists(__file__) else io.StringIO('\"'\"'from setuptools import setup; setup()'\"'\"');code = f.read().replace('\"'\"'\\r\\n'\"'\"', '\"'\"'\\n'\"'\"');f.close();exec(compile(code, __file__, '\"'\"'exec'\"'\"'))' egg_info --egg-base 'C:\\Users\\franz\\AppData\\Local\\Temp\\pip-pip-egg-info-pu7bj6j_'\n",
      "         cwd: C:\\Users\\franz\\AppData\\Local\\Temp\\pip-install-gtzme3mm\\ssl_a4a4a162b65b4fae98a08f881713a950\\\n",
      "    Complete output (24 lines):\n",
      "    Traceback (most recent call last):\n",
      "      File \"<string>\", line 1, in <module>\n",
      "      File \"C:\\Users\\franz\\AppData\\Roaming\\Python\\Python39\\site-packages\\setuptools\\__init__.py\", line 266, in <module>\n",
      "        monkey.patch_all()\n",
      "      File \"C:\\Users\\franz\\AppData\\Roaming\\Python\\Python39\\site-packages\\setuptools\\monkey.py\", line 98, in patch_all\n",
      "        patch_for_msvc_specialized_compiler()\n",
      "      File \"C:\\Users\\franz\\AppData\\Roaming\\Python\\Python39\\site-packages\\setuptools\\monkey.py\", line 165, in patch_for_msvc_specialized_compiler\n",
      "        patch_func(*msvc14('_get_vc_env'))\n",
      "      File \"C:\\Users\\franz\\AppData\\Roaming\\Python\\Python39\\site-packages\\setuptools\\monkey.py\", line 155, in patch_params\n",
      "        mod = import_module(mod_name)\n",
      "      File \"C:\\Users\\franz\\anaconda3\\envs\\pymodelextractor_exp\\lib\\importlib\\__init__.py\", line 127, in import_module\n",
      "        return _bootstrap._gcd_import(name[level:], package, level)\n",
      "      File \"C:\\Users\\franz\\AppData\\Roaming\\Python\\Python39\\site-packages\\setuptools\\_distutils\\_msvccompiler.py\", line 20, in <module>\n",
      "        import unittest.mock as mock\n",
      "      File \"C:\\Users\\franz\\anaconda3\\envs\\pymodelextractor_exp\\lib\\unittest\\mock.py\", line 26, in <module>\n",
      "        import asyncio\n",
      "      File \"C:\\Users\\franz\\anaconda3\\envs\\pymodelextractor_exp\\lib\\asyncio\\__init__.py\", line 8, in <module>\n",
      "        from .base_events import *\n",
      "      File \"C:\\Users\\franz\\anaconda3\\envs\\pymodelextractor_exp\\lib\\asyncio\\base_events.py\", line 34, in <module>\n",
      "        import ssl\n",
      "      File \"C:\\Users\\franz\\AppData\\Local\\Temp\\pip-install-gtzme3mm\\ssl_a4a4a162b65b4fae98a08f881713a950\\ssl\\__init__.py\", line 140\n",
      "        except SSLError, x:\n",
      "                       ^\n",
      "    SyntaxError: invalid syntax\n",
      "    ----------------------------------------\n",
      "WARNING: Discarding https://files.pythonhosted.org/packages/83/21/f469c9923235f8c36d5fd5334ed11e2681abad7e0032c5aba964dcaf9bbb/ssl-1.16.tar.gz#sha256=ac21156fee6aee9eb8d765bbb16f5f49492d81ff4b22f7b8fc001d2251120930 (from https://pypi.org/simple/ssl/). Command errored out with exit status 1: python setup.py egg_info Check the logs for full command output.\n",
      "    ERROR: Command errored out with exit status 1:\n",
      "     command: 'C:\\Users\\franz\\anaconda3\\envs\\pymodelextractor_exp\\python.exe' -c 'import io, os, sys, setuptools, tokenize; sys.argv[0] = '\"'\"'C:\\\\Users\\\\franz\\\\AppData\\\\Local\\\\Temp\\\\pip-install-gtzme3mm\\\\ssl_3a0cada55abd482fb6d4de988b7ea54d\\\\setup.py'\"'\"'; __file__='\"'\"'C:\\\\Users\\\\franz\\\\AppData\\\\Local\\\\Temp\\\\pip-install-gtzme3mm\\\\ssl_3a0cada55abd482fb6d4de988b7ea54d\\\\setup.py'\"'\"';f = getattr(tokenize, '\"'\"'open'\"'\"', open)(__file__) if os.path.exists(__file__) else io.StringIO('\"'\"'from setuptools import setup; setup()'\"'\"');code = f.read().replace('\"'\"'\\r\\n'\"'\"', '\"'\"'\\n'\"'\"');f.close();exec(compile(code, __file__, '\"'\"'exec'\"'\"'))' egg_info --egg-base 'C:\\Users\\franz\\AppData\\Local\\Temp\\pip-pip-egg-info-xfig_fpz'\n",
      "         cwd: C:\\Users\\franz\\AppData\\Local\\Temp\\pip-install-gtzme3mm\\ssl_3a0cada55abd482fb6d4de988b7ea54d\\\n",
      "    Complete output (24 lines):\n",
      "    Traceback (most recent call last):\n",
      "      File \"<string>\", line 1, in <module>\n",
      "      File \"C:\\Users\\franz\\AppData\\Roaming\\Python\\Python39\\site-packages\\setuptools\\__init__.py\", line 266, in <module>\n",
      "        monkey.patch_all()\n",
      "      File \"C:\\Users\\franz\\AppData\\Roaming\\Python\\Python39\\site-packages\\setuptools\\monkey.py\", line 98, in patch_all\n",
      "        patch_for_msvc_specialized_compiler()\n",
      "      File \"C:\\Users\\franz\\AppData\\Roaming\\Python\\Python39\\site-packages\\setuptools\\monkey.py\", line 165, in patch_for_msvc_specialized_compiler\n",
      "        patch_func(*msvc14('_get_vc_env'))\n",
      "      File \"C:\\Users\\franz\\AppData\\Roaming\\Python\\Python39\\site-packages\\setuptools\\monkey.py\", line 155, in patch_params\n",
      "        mod = import_module(mod_name)\n",
      "      File \"C:\\Users\\franz\\anaconda3\\envs\\pymodelextractor_exp\\lib\\importlib\\__init__.py\", line 127, in import_module\n",
      "        return _bootstrap._gcd_import(name[level:], package, level)\n",
      "      File \"C:\\Users\\franz\\AppData\\Roaming\\Python\\Python39\\site-packages\\setuptools\\_distutils\\_msvccompiler.py\", line 20, in <module>\n",
      "        import unittest.mock as mock\n",
      "      File \"C:\\Users\\franz\\anaconda3\\envs\\pymodelextractor_exp\\lib\\unittest\\mock.py\", line 26, in <module>\n",
      "        import asyncio\n",
      "      File \"C:\\Users\\franz\\anaconda3\\envs\\pymodelextractor_exp\\lib\\asyncio\\__init__.py\", line 8, in <module>\n",
      "        from .base_events import *\n",
      "      File \"C:\\Users\\franz\\anaconda3\\envs\\pymodelextractor_exp\\lib\\asyncio\\base_events.py\", line 34, in <module>\n",
      "        import ssl\n",
      "      File \"C:\\Users\\franz\\AppData\\Local\\Temp\\pip-install-gtzme3mm\\ssl_3a0cada55abd482fb6d4de988b7ea54d\\ssl\\__init__.py\", line 136\n",
      "        except SSLError, x:\n",
      "                       ^\n",
      "    SyntaxError: invalid syntax\n",
      "    ----------------------------------------\n",
      "WARNING: Discarding https://files.pythonhosted.org/packages/3a/c2/846a19d1572ec6cb8ac438d58a898de8926d32e13f0355cdf4ab00864b5f/ssl-1.15.tar.gz#sha256=1266302ce62c4b60c7ca0e1d3d104ba11d2749e5881d8ac4f006cf9a0446d589 (from https://pypi.org/simple/ssl/). Command errored out with exit status 1: python setup.py egg_info Check the logs for full command output.\n",
      "ERROR: Could not find a version that satisfies the requirement ssl (from versions: 1.15, 1.16)\n",
      "ERROR: No matching distribution found for ssl\n",
      "WARNING: Ignoring invalid distribution -rotobuf (c:\\users\\franz\\appdata\\roaming\\python\\python39\\site-packages)\n",
      "WARNING: Ignoring invalid distribution - (c:\\users\\franz\\appdata\\roaming\\python\\python39\\site-packages)\n",
      "WARNING: Ignoring invalid distribution -ensorflow-intel (c:\\users\\franz\\appdata\\roaming\\python\\python39\\site-packages)\n",
      "WARNING: Ignoring invalid distribution -rotobuf (c:\\users\\franz\\appdata\\roaming\\python\\python39\\site-packages)\n",
      "WARNING: Ignoring invalid distribution - (c:\\users\\franz\\appdata\\roaming\\python\\python39\\site-packages)\n",
      "WARNING: Ignoring invalid distribution -ensorflow-intel (c:\\users\\franz\\appdata\\roaming\\python\\python39\\site-packages)\n",
      "WARNING: Ignoring invalid distribution -illow (c:\\users\\franz\\anaconda3\\envs\\pymodelextractor_exp\\lib\\site-packages)\n",
      "WARNING: Ignoring invalid distribution -rotobuf (c:\\users\\franz\\appdata\\roaming\\python\\python39\\site-packages)\n",
      "WARNING: Ignoring invalid distribution - (c:\\users\\franz\\appdata\\roaming\\python\\python39\\site-packages)\n",
      "WARNING: Ignoring invalid distribution -ensorflow-intel (c:\\users\\franz\\appdata\\roaming\\python\\python39\\site-packages)\n",
      "WARNING: Ignoring invalid distribution -illow (c:\\users\\franz\\anaconda3\\envs\\pymodelextractor_exp\\lib\\site-packages)\n"
     ]
    }
   ],
   "source": [
    "!pip install ssl"
   ]
  },
  {
   "cell_type": "code",
   "execution_count": 3,
   "metadata": {},
   "outputs": [],
   "source": [
    "from case_studies.gpt2.gpt2_probabilistic_model_wrapper import GPT2_probabilistic_model_wrapper\n",
    "from mini_relm_resources.automata_examples.man_woman_wfa import alphabet\n",
    "\n",
    "wrapper = GPT2_probabilistic_model_wrapper(50, alphabet, device, model, tokenizer)"
   ]
  },
  {
   "cell_type": "code",
   "execution_count": 4,
   "metadata": {},
   "outputs": [],
   "source": [
    "from mini_relm_resources.automata_examples.man_woman_wfa import get_man_woman_wfa\n",
    "property_model = get_man_woman_wfa(wrapper.terminal_symbol)"
   ]
  },
  {
   "cell_type": "code",
   "execution_count": 5,
   "metadata": {},
   "outputs": [
    {
     "data": {
      "text/plain": [
       "[The,woman,studied,science,\n",
       " The,woman,studied,art,\n",
       " The,man,studied,engineering,\n",
       " The,man,studied,science,\n",
       " The,woman,studied,art,\n",
       " The,woman,studied,science,\n",
       " The,woman,studied,maths,\n",
       " The,man,studied,medicine,\n",
       " The,man,studied,music,\n",
       " The,woman,studied,maths]"
      ]
     },
     "execution_count": 5,
     "metadata": {},
     "output_type": "execute_result"
    }
   ],
   "source": [
    "from pythautomata.utilities.pdfa_operations import get_representative_sample\n",
    "get_representative_sample(property_model, 10)"
   ]
  },
  {
   "cell_type": "code",
   "execution_count": 6,
   "metadata": {},
   "outputs": [],
   "source": [
    "from pythautomata.base_types.alphabet import Alphabet\n",
    "from pythautomata.utilities.sequence_generator import SequenceGenerator\n",
    "from pythautomata.utilities.pdfa_operations import get_representative_sample\n",
    "\n",
    "\n",
    "class PDFASequenceGenerator(SequenceGenerator):    \n",
    "    def __init__(self, pdfa, max_seq_length: int, random_seed: int = 21):\n",
    "        self.pdfa = pdfa\n",
    "        super().__init__(pdfa.alphabet, max_seq_length, random_seed)\n",
    "    \n",
    "    def generate_words(self, number_of_words: int):\n",
    "        return get_representative_sample(self.pdfa, number_of_words)\n",
    "\n",
    "    def generate_single_word(self, length):\n",
    "        raise NotImplementedError"
   ]
  },
  {
   "cell_type": "code",
   "execution_count": 7,
   "metadata": {},
   "outputs": [
    {
     "data": {
      "image/svg+xml": [
       "<?xml version=\"1.0\" encoding=\"UTF-8\" standalone=\"no\"?>\n",
       "<!DOCTYPE svg PUBLIC \"-//W3C//DTD SVG 1.1//EN\"\n",
       " \"http://www.w3.org/Graphics/SVG/1.1/DTD/svg11.dtd\">\n",
       "<!-- Generated by graphviz version 2.47.1 (20210417.1919)\n",
       " -->\n",
       "<!-- Title: weighted_automaton Pages: 1 -->\n",
       "<svg width=\"1080pt\" height=\"505pt\"\n",
       " viewBox=\"0.00 0.00 1080.00 504.62\" xmlns=\"http://www.w3.org/2000/svg\" xmlns:xlink=\"http://www.w3.org/1999/xlink\">\n",
       "<g id=\"graph0\" class=\"graph\" transform=\"scale(0.87 0.87) rotate(0) translate(4 577)\">\n",
       "<title>weighted_automaton</title>\n",
       "<polygon fill=\"white\" stroke=\"transparent\" points=\"-4,4 -4,-577 1239.48,-577 1239.48,4 -4,4\"/>\n",
       "<!-- A -->\n",
       "<g id=\"node1\" class=\"node\">\n",
       "<title>A</title>\n",
       "<polygon fill=\"none\" stroke=\"black\" points=\"27,-76 0,-38 27,0 54,-38 27,-76\"/>\n",
       "<text text-anchor=\"middle\" x=\"27\" y=\"-41.8\" font-family=\"Times New Roman,serif\" font-size=\"14.00\">A</text>\n",
       "<text text-anchor=\"middle\" x=\"27\" y=\"-26.8\" font-family=\"Times New Roman,serif\" font-size=\"14.00\">0</text>\n",
       "</g>\n",
       "<!-- B -->\n",
       "<g id=\"node2\" class=\"node\">\n",
       "<title>B</title>\n",
       "<ellipse fill=\"none\" stroke=\"black\" cx=\"150.87\" cy=\"-273\" rx=\"26.74\" ry=\"26.74\"/>\n",
       "<text text-anchor=\"middle\" x=\"150.87\" y=\"-276.8\" font-family=\"Times New Roman,serif\" font-size=\"14.00\">B</text>\n",
       "<text text-anchor=\"middle\" x=\"150.87\" y=\"-261.8\" font-family=\"Times New Roman,serif\" font-size=\"14.00\">0</text>\n",
       "</g>\n",
       "<!-- A&#45;&gt;B -->\n",
       "<g id=\"edge1\" class=\"edge\">\n",
       "<title>A&#45;&gt;B</title>\n",
       "<path fill=\"none\" stroke=\"black\" d=\"M39.03,-59.27C60.44,-100.56 107.76,-191.79 133.09,-240.64\"/>\n",
       "<polygon fill=\"black\" stroke=\"black\" points=\"129.99,-242.27 137.7,-249.53 136.2,-239.04 129.99,-242.27\"/>\n",
       "<text text-anchor=\"middle\" x=\"89\" y=\"-187.8\" font-family=\"Times New Roman,serif\" font-size=\"14.00\">The&#45;1</text>\n",
       "</g>\n",
       "<!-- hole -->\n",
       "<g id=\"node3\" class=\"node\">\n",
       "<title>hole</title>\n",
       "<ellipse fill=\"none\" stroke=\"black\" cx=\"1149.48\" cy=\"-220\" rx=\"28.07\" ry=\"28.07\"/>\n",
       "<text text-anchor=\"middle\" x=\"1149.48\" y=\"-223.8\" font-family=\"Times New Roman,serif\" font-size=\"14.00\">hole</text>\n",
       "<text text-anchor=\"middle\" x=\"1149.48\" y=\"-208.8\" font-family=\"Times New Roman,serif\" font-size=\"14.00\">0</text>\n",
       "</g>\n",
       "<!-- A&#45;&gt;hole -->\n",
       "<g id=\"edge2\" class=\"edge\">\n",
       "<title>A&#45;&gt;hole</title>\n",
       "<path fill=\"none\" stroke=\"black\" d=\"M50.79,-33.2C75.19,-28.49 115.09,-22 149.87,-22 149.87,-22 149.87,-22 860.48,-22 947.88,-22 983.96,10.78 1056.48,-38 1105.98,-71.29 1130.17,-139.6 1140.93,-182.41\"/>\n",
       "<polygon fill=\"black\" stroke=\"black\" points=\"1137.54,-183.27 1143.27,-192.18 1144.35,-181.64 1137.54,-183.27\"/>\n",
       "<text text-anchor=\"middle\" x=\"390.98\" y=\"-145.8\" font-family=\"Times New Roman,serif\" font-size=\"14.00\">woman&#45;0.0</text>\n",
       "<text text-anchor=\"middle\" x=\"390.98\" y=\"-130.8\" font-family=\"Times New Roman,serif\" font-size=\"14.00\">maths&#45;0.0</text>\n",
       "<text text-anchor=\"middle\" x=\"390.98\" y=\"-115.8\" font-family=\"Times New Roman,serif\" font-size=\"14.00\">studied&#45;0.0</text>\n",
       "<text text-anchor=\"middle\" x=\"390.98\" y=\"-100.8\" font-family=\"Times New Roman,serif\" font-size=\"14.00\">man&#45;0.0</text>\n",
       "<text text-anchor=\"middle\" x=\"390.98\" y=\"-85.8\" font-family=\"Times New Roman,serif\" font-size=\"14.00\">science&#45;0.0</text>\n",
       "<text text-anchor=\"middle\" x=\"390.98\" y=\"-70.8\" font-family=\"Times New Roman,serif\" font-size=\"14.00\">engineering&#45;0.0</text>\n",
       "<text text-anchor=\"middle\" x=\"390.98\" y=\"-55.8\" font-family=\"Times New Roman,serif\" font-size=\"14.00\">art&#45;0.0</text>\n",
       "<text text-anchor=\"middle\" x=\"390.98\" y=\"-40.8\" font-family=\"Times New Roman,serif\" font-size=\"14.00\">music&#45;0.0</text>\n",
       "<text text-anchor=\"middle\" x=\"390.98\" y=\"-25.8\" font-family=\"Times New Roman,serif\" font-size=\"14.00\">medicine&#45;0.0</text>\n",
       "</g>\n",
       "<!-- B&#45;&gt;hole -->\n",
       "<g id=\"edge4\" class=\"edge\">\n",
       "<title>B&#45;&gt;hole</title>\n",
       "<path fill=\"none\" stroke=\"black\" d=\"M159.8,-298.41C177.03,-348.02 222.92,-453 302.61,-453 302.61,-453 302.61,-453 860.48,-453 986.4,-453 1088.17,-316.71 1129.08,-252.6\"/>\n",
       "<polygon fill=\"black\" stroke=\"black\" points=\"1132.09,-254.39 1134.44,-244.06 1126.16,-250.67 1132.09,-254.39\"/>\n",
       "<text text-anchor=\"middle\" x=\"493.98\" y=\"-561.8\" font-family=\"Times New Roman,serif\" font-size=\"14.00\">maths&#45;0.0</text>\n",
       "<text text-anchor=\"middle\" x=\"493.98\" y=\"-546.8\" font-family=\"Times New Roman,serif\" font-size=\"14.00\">studied&#45;0.0</text>\n",
       "<text text-anchor=\"middle\" x=\"493.98\" y=\"-531.8\" font-family=\"Times New Roman,serif\" font-size=\"14.00\">science&#45;0.0</text>\n",
       "<text text-anchor=\"middle\" x=\"493.98\" y=\"-516.8\" font-family=\"Times New Roman,serif\" font-size=\"14.00\">engineering&#45;0.0</text>\n",
       "<text text-anchor=\"middle\" x=\"493.98\" y=\"-501.8\" font-family=\"Times New Roman,serif\" font-size=\"14.00\">art&#45;0.0</text>\n",
       "<text text-anchor=\"middle\" x=\"493.98\" y=\"-486.8\" font-family=\"Times New Roman,serif\" font-size=\"14.00\">music&#45;0.0</text>\n",
       "<text text-anchor=\"middle\" x=\"493.98\" y=\"-471.8\" font-family=\"Times New Roman,serif\" font-size=\"14.00\">medicine&#45;0.0</text>\n",
       "<text text-anchor=\"middle\" x=\"493.98\" y=\"-456.8\" font-family=\"Times New Roman,serif\" font-size=\"14.00\">The&#45;0.0</text>\n",
       "</g>\n",
       "<!-- C -->\n",
       "<g id=\"node4\" class=\"node\">\n",
       "<title>C</title>\n",
       "<ellipse fill=\"none\" stroke=\"black\" cx=\"303.61\" cy=\"-273\" rx=\"26.74\" ry=\"26.74\"/>\n",
       "<text text-anchor=\"middle\" x=\"303.61\" y=\"-276.8\" font-family=\"Times New Roman,serif\" font-size=\"14.00\">C</text>\n",
       "<text text-anchor=\"middle\" x=\"303.61\" y=\"-261.8\" font-family=\"Times New Roman,serif\" font-size=\"14.00\">0</text>\n",
       "</g>\n",
       "<!-- B&#45;&gt;C -->\n",
       "<g id=\"edge3\" class=\"edge\">\n",
       "<title>B&#45;&gt;C</title>\n",
       "<path fill=\"none\" stroke=\"black\" d=\"M177.78,-273C202.16,-273 238.89,-273 266.2,-273\"/>\n",
       "<polygon fill=\"black\" stroke=\"black\" points=\"266.53,-276.5 276.53,-273 266.53,-269.5 266.53,-276.5\"/>\n",
       "<text text-anchor=\"middle\" x=\"227.24\" y=\"-291.8\" font-family=\"Times New Roman,serif\" font-size=\"14.00\">man&#45;0.5</text>\n",
       "<text text-anchor=\"middle\" x=\"227.24\" y=\"-276.8\" font-family=\"Times New Roman,serif\" font-size=\"14.00\">woman&#45;0.5</text>\n",
       "</g>\n",
       "<!-- hole&#45;&gt;hole -->\n",
       "<g id=\"edge10\" class=\"edge\">\n",
       "<title>hole&#45;&gt;hole</title>\n",
       "<path fill=\"none\" stroke=\"black\" d=\"M1127.6,-238.05C1119.42,-252.03 1126.71,-266.28 1149.48,-266.28 1166.91,-266.28 1175.27,-257.93 1174.56,-247.74\"/>\n",
       "<polygon fill=\"black\" stroke=\"black\" points=\"1177.82,-246.45 1171.36,-238.05 1171.18,-248.65 1177.82,-246.45\"/>\n",
       "<text text-anchor=\"middle\" x=\"1149.48\" y=\"-405.08\" font-family=\"Times New Roman,serif\" font-size=\"14.00\">woman&#45;0.1</text>\n",
       "<text text-anchor=\"middle\" x=\"1149.48\" y=\"-390.08\" font-family=\"Times New Roman,serif\" font-size=\"14.00\">maths&#45;0.1111111111111111</text>\n",
       "<text text-anchor=\"middle\" x=\"1149.48\" y=\"-375.08\" font-family=\"Times New Roman,serif\" font-size=\"14.00\">studied&#45;0.125</text>\n",
       "<text text-anchor=\"middle\" x=\"1149.48\" y=\"-360.08\" font-family=\"Times New Roman,serif\" font-size=\"14.00\">man&#45;0.14285714285714285</text>\n",
       "<text text-anchor=\"middle\" x=\"1149.48\" y=\"-345.08\" font-family=\"Times New Roman,serif\" font-size=\"14.00\">science&#45;0.16666666666666666</text>\n",
       "<text text-anchor=\"middle\" x=\"1149.48\" y=\"-330.08\" font-family=\"Times New Roman,serif\" font-size=\"14.00\">engineering&#45;0.2</text>\n",
       "<text text-anchor=\"middle\" x=\"1149.48\" y=\"-315.08\" font-family=\"Times New Roman,serif\" font-size=\"14.00\">art&#45;0.25</text>\n",
       "<text text-anchor=\"middle\" x=\"1149.48\" y=\"-300.08\" font-family=\"Times New Roman,serif\" font-size=\"14.00\">music&#45;0.3333333333333333</text>\n",
       "<text text-anchor=\"middle\" x=\"1149.48\" y=\"-285.08\" font-family=\"Times New Roman,serif\" font-size=\"14.00\">medicine&#45;0.5</text>\n",
       "<text text-anchor=\"middle\" x=\"1149.48\" y=\"-270.08\" font-family=\"Times New Roman,serif\" font-size=\"14.00\">The&#45;1.0</text>\n",
       "</g>\n",
       "<!-- C&#45;&gt;hole -->\n",
       "<g id=\"edge6\" class=\"edge\">\n",
       "<title>C&#45;&gt;hole</title>\n",
       "<path fill=\"none\" stroke=\"black\" d=\"M330.49,-276.55C418.48,-287.94 713.92,-320.74 953.48,-283 1011.23,-273.9 1075.18,-250.53 1113.58,-234.95\"/>\n",
       "<polygon fill=\"black\" stroke=\"black\" points=\"1115.32,-238.02 1123.24,-230.98 1112.66,-231.55 1115.32,-238.02\"/>\n",
       "<text text-anchor=\"middle\" x=\"650.98\" y=\"-423.8\" font-family=\"Times New Roman,serif\" font-size=\"14.00\">woman&#45;0.0</text>\n",
       "<text text-anchor=\"middle\" x=\"650.98\" y=\"-408.8\" font-family=\"Times New Roman,serif\" font-size=\"14.00\">maths&#45;0.0</text>\n",
       "<text text-anchor=\"middle\" x=\"650.98\" y=\"-393.8\" font-family=\"Times New Roman,serif\" font-size=\"14.00\">man&#45;0.0</text>\n",
       "<text text-anchor=\"middle\" x=\"650.98\" y=\"-378.8\" font-family=\"Times New Roman,serif\" font-size=\"14.00\">science&#45;0.0</text>\n",
       "<text text-anchor=\"middle\" x=\"650.98\" y=\"-363.8\" font-family=\"Times New Roman,serif\" font-size=\"14.00\">engineering&#45;0.0</text>\n",
       "<text text-anchor=\"middle\" x=\"650.98\" y=\"-348.8\" font-family=\"Times New Roman,serif\" font-size=\"14.00\">art&#45;0.0</text>\n",
       "<text text-anchor=\"middle\" x=\"650.98\" y=\"-333.8\" font-family=\"Times New Roman,serif\" font-size=\"14.00\">music&#45;0.0</text>\n",
       "<text text-anchor=\"middle\" x=\"650.98\" y=\"-318.8\" font-family=\"Times New Roman,serif\" font-size=\"14.00\">medicine&#45;0.0</text>\n",
       "<text text-anchor=\"middle\" x=\"650.98\" y=\"-303.8\" font-family=\"Times New Roman,serif\" font-size=\"14.00\">The&#45;0.0</text>\n",
       "</g>\n",
       "<!-- D -->\n",
       "<g id=\"node5\" class=\"node\">\n",
       "<title>D</title>\n",
       "<ellipse fill=\"none\" stroke=\"black\" cx=\"493.98\" cy=\"-215\" rx=\"26.74\" ry=\"26.74\"/>\n",
       "<text text-anchor=\"middle\" x=\"493.98\" y=\"-218.8\" font-family=\"Times New Roman,serif\" font-size=\"14.00\">D</text>\n",
       "<text text-anchor=\"middle\" x=\"493.98\" y=\"-203.8\" font-family=\"Times New Roman,serif\" font-size=\"14.00\">0</text>\n",
       "</g>\n",
       "<!-- C&#45;&gt;D -->\n",
       "<g id=\"edge5\" class=\"edge\">\n",
       "<title>C&#45;&gt;D</title>\n",
       "<path fill=\"none\" stroke=\"black\" d=\"M329.62,-265.3C362.65,-255.13 420.96,-237.18 458.24,-225.7\"/>\n",
       "<polygon fill=\"black\" stroke=\"black\" points=\"459.64,-228.93 468.16,-222.64 457.58,-222.24 459.64,-228.93\"/>\n",
       "<text text-anchor=\"middle\" x=\"390.98\" y=\"-261.8\" font-family=\"Times New Roman,serif\" font-size=\"14.00\">studied&#45;1</text>\n",
       "</g>\n",
       "<!-- D&#45;&gt;hole -->\n",
       "<g id=\"edge8\" class=\"edge\">\n",
       "<title>D&#45;&gt;hole</title>\n",
       "<path fill=\"none\" stroke=\"black\" d=\"M521,-215.2C622.39,-215.97 991.28,-218.8 1110.81,-219.71\"/>\n",
       "<polygon fill=\"black\" stroke=\"black\" points=\"1110.91,-223.21 1120.94,-219.79 1110.97,-216.21 1110.91,-223.21\"/>\n",
       "<text text-anchor=\"middle\" x=\"859.48\" y=\"-267.8\" font-family=\"Times New Roman,serif\" font-size=\"14.00\">woman&#45;2.7755575615628914e&#45;17</text>\n",
       "<text text-anchor=\"middle\" x=\"859.48\" y=\"-252.8\" font-family=\"Times New Roman,serif\" font-size=\"14.00\">studied&#45;3.700743415417188e&#45;17</text>\n",
       "<text text-anchor=\"middle\" x=\"859.48\" y=\"-237.8\" font-family=\"Times New Roman,serif\" font-size=\"14.00\">man&#45;5.551115123125783e&#45;17</text>\n",
       "<text text-anchor=\"middle\" x=\"859.48\" y=\"-222.8\" font-family=\"Times New Roman,serif\" font-size=\"14.00\">The&#45;1.1102230246251565e&#45;16</text>\n",
       "</g>\n",
       "<!-- E -->\n",
       "<g id=\"node6\" class=\"node\">\n",
       "<title>E</title>\n",
       "<ellipse fill=\"none\" stroke=\"black\" cx=\"859.48\" cy=\"-86\" rx=\"26.74\" ry=\"26.74\"/>\n",
       "<text text-anchor=\"middle\" x=\"859.48\" y=\"-89.8\" font-family=\"Times New Roman,serif\" font-size=\"14.00\">E</text>\n",
       "<text text-anchor=\"middle\" x=\"859.48\" y=\"-74.8\" font-family=\"Times New Roman,serif\" font-size=\"14.00\">1</text>\n",
       "</g>\n",
       "<!-- D&#45;&gt;E -->\n",
       "<g id=\"edge7\" class=\"edge\">\n",
       "<title>D&#45;&gt;E</title>\n",
       "<path fill=\"none\" stroke=\"black\" d=\"M502.11,-189.17C510.38,-164.57 526.57,-128.75 554.48,-111 638.15,-57.77 762.07,-69.04 822.59,-78.93\"/>\n",
       "<polygon fill=\"black\" stroke=\"black\" points=\"822.33,-82.43 832.78,-80.68 823.52,-75.53 822.33,-82.43\"/>\n",
       "<text text-anchor=\"middle\" x=\"650.98\" y=\"-189.8\" font-family=\"Times New Roman,serif\" font-size=\"14.00\">medicine&#45;0.16666666666666666</text>\n",
       "<text text-anchor=\"middle\" x=\"650.98\" y=\"-174.8\" font-family=\"Times New Roman,serif\" font-size=\"14.00\">science&#45;0.16666666666666666</text>\n",
       "<text text-anchor=\"middle\" x=\"650.98\" y=\"-159.8\" font-family=\"Times New Roman,serif\" font-size=\"14.00\">engineering&#45;0.16666666666666666</text>\n",
       "<text text-anchor=\"middle\" x=\"650.98\" y=\"-144.8\" font-family=\"Times New Roman,serif\" font-size=\"14.00\">maths&#45;0.16666666666666666</text>\n",
       "<text text-anchor=\"middle\" x=\"650.98\" y=\"-129.8\" font-family=\"Times New Roman,serif\" font-size=\"14.00\">art&#45;0.16666666666666666</text>\n",
       "<text text-anchor=\"middle\" x=\"650.98\" y=\"-114.8\" font-family=\"Times New Roman,serif\" font-size=\"14.00\">music&#45;0.16666666666666666</text>\n",
       "</g>\n",
       "<!-- E&#45;&gt;hole -->\n",
       "<g id=\"edge9\" class=\"edge\">\n",
       "<title>E&#45;&gt;hole</title>\n",
       "<path fill=\"none\" stroke=\"black\" d=\"M883.41,-73.55C921.95,-54.47 1000.93,-23.47 1056.48,-56 1102.87,-83.17 1127.64,-143.24 1139.42,-182.64\"/>\n",
       "<polygon fill=\"black\" stroke=\"black\" points=\"1136.1,-183.77 1142.2,-192.43 1142.83,-181.85 1136.1,-183.77\"/>\n",
       "<text text-anchor=\"middle\" x=\"1013.98\" y=\"-194.8\" font-family=\"Times New Roman,serif\" font-size=\"14.00\">woman&#45;0.0</text>\n",
       "<text text-anchor=\"middle\" x=\"1013.98\" y=\"-179.8\" font-family=\"Times New Roman,serif\" font-size=\"14.00\">maths&#45;0.0</text>\n",
       "<text text-anchor=\"middle\" x=\"1013.98\" y=\"-164.8\" font-family=\"Times New Roman,serif\" font-size=\"14.00\">studied&#45;0.0</text>\n",
       "<text text-anchor=\"middle\" x=\"1013.98\" y=\"-149.8\" font-family=\"Times New Roman,serif\" font-size=\"14.00\">man&#45;0.0</text>\n",
       "<text text-anchor=\"middle\" x=\"1013.98\" y=\"-134.8\" font-family=\"Times New Roman,serif\" font-size=\"14.00\">science&#45;0.0</text>\n",
       "<text text-anchor=\"middle\" x=\"1013.98\" y=\"-119.8\" font-family=\"Times New Roman,serif\" font-size=\"14.00\">engineering&#45;0.0</text>\n",
       "<text text-anchor=\"middle\" x=\"1013.98\" y=\"-104.8\" font-family=\"Times New Roman,serif\" font-size=\"14.00\">art&#45;0.0</text>\n",
       "<text text-anchor=\"middle\" x=\"1013.98\" y=\"-89.8\" font-family=\"Times New Roman,serif\" font-size=\"14.00\">music&#45;0.0</text>\n",
       "<text text-anchor=\"middle\" x=\"1013.98\" y=\"-74.8\" font-family=\"Times New Roman,serif\" font-size=\"14.00\">medicine&#45;0.0</text>\n",
       "<text text-anchor=\"middle\" x=\"1013.98\" y=\"-59.8\" font-family=\"Times New Roman,serif\" font-size=\"14.00\">The&#45;0.0</text>\n",
       "</g>\n",
       "</g>\n",
       "</svg>\n"
      ],
      "text/plain": [
       "<graphviz.graphs.Digraph at 0x1948b708fd0>"
      ]
     },
     "metadata": {},
     "output_type": "display_data"
    }
   ],
   "source": [
    "from pythautomata.model_exporters.dot_exporters.wfa_dot_exporting_strategy import WFADotExportingStrategy\n",
    "from IPython.display import display\n",
    "\n",
    "exporter = WFADotExportingStrategy()\n",
    "graph = exporter.create_graph(property_model)\n",
    "\n",
    "display(graph)"
   ]
  },
  {
   "cell_type": "code",
   "execution_count": 8,
   "metadata": {},
   "outputs": [],
   "source": [
    "from utilities.syncronic_model_guided_language_model import SyncronicModelGuidedLanguageModel\n",
    "syncrhronic_model = SyncronicModelGuidedLanguageModel(wrapper, property_model, model_name=\"GUIDED_GPT2\", max_seq_length=10)"
   ]
  },
  {
   "cell_type": "code",
   "execution_count": 12,
   "metadata": {},
   "outputs": [],
   "source": [
    "from pymodelextractor.teachers.pac_probabilistic_teacher import PACProbabilisticTeacher\n",
    "from pymodelextractor.learners.observation_tree_learners.bounded_pdfa_quantization_n_ary_tree_learner import BoundedPDFAQuantizationNAryTreeLearner\n",
    "from pythautomata.utilities.probability_partitioner import TopKProbabilityPartitioner, QuantizationProbabilityPartitioner, RankingPartitioner\n",
    "from pythautomata.model_comparators.wfa_partition_comparison_strategy import WFAPartitionComparator\n",
    "from pythautomata.utilities.uniform_word_sequence_generator import UniformWordSequenceGenerator\n",
    "partitioner = QuantizationProbabilityPartitioner(100)\n",
    "comparator = WFAPartitionComparator(partitioner)\n",
    "epsilon = 0.1\n",
    "delta = epsilon\n",
    "sequence_generator = PDFASequenceGenerator(property_model, max_seq_length=10)\n",
    "max_states = 10\n",
    "max_query_length = 10\n"
   ]
  },
  {
   "cell_type": "code",
   "execution_count": 13,
   "metadata": {},
   "outputs": [],
   "source": [
    "teacher  = PACProbabilisticTeacher(syncrhronic_model, epsilon = epsilon, delta = delta, max_seq_length = None, comparator = comparator, sequence_generator=sequence_generator, compute_epsilon_star=False)\n",
    "learner = BoundedPDFAQuantizationNAryTreeLearner(partitioner, max_states, max_query_length, None, generate_partial_hipothesis = True, pre_cache_queries_for_building_hipothesis = True,  check_probabilistic_hipothesis = False)"
   ]
  },
  {
   "cell_type": "code",
   "execution_count": 14,
   "metadata": {},
   "outputs": [
    {
     "ename": "KeyboardInterrupt",
     "evalue": "",
     "output_type": "error",
     "traceback": [
      "\u001b[1;31m---------------------------------------------------------------------------\u001b[0m",
      "\u001b[1;31mKeyboardInterrupt\u001b[0m                         Traceback (most recent call last)",
      "Input \u001b[1;32mIn [14]\u001b[0m, in \u001b[0;36m<module>\u001b[1;34m\u001b[0m\n\u001b[1;32m----> 1\u001b[0m learning_result \u001b[38;5;241m=\u001b[39m \u001b[43mlearner\u001b[49m\u001b[38;5;241;43m.\u001b[39;49m\u001b[43mlearn\u001b[49m\u001b[43m(\u001b[49m\u001b[43mteacher\u001b[49m\u001b[43m,\u001b[49m\u001b[43m \u001b[49m\u001b[43mverbose\u001b[49m\u001b[38;5;241;43m=\u001b[39;49m\u001b[38;5;28;43;01mTrue\u001b[39;49;00m\u001b[43m)\u001b[49m\n",
      "File \u001b[1;32mc:\\Users\\franz\\anaconda3\\envs\\pymodelextractor_exp\\lib\\site-packages\\pymodelextractor\\learners\\observation_tree_learners\\bounded_pdfa_quantization_n_ary_tree_learner.py:50\u001b[0m, in \u001b[0;36mBoundedPDFAQuantizationNAryTreeLearner.learn\u001b[1;34m(self, teacher, verbose)\u001b[0m\n\u001b[0;32m     48\u001b[0m         \u001b[38;5;28mself\u001b[39m\u001b[38;5;241m.\u001b[39mrun_learning_with_time_bound(teacher, verbose)\n\u001b[0;32m     49\u001b[0m     \u001b[38;5;28;01melse\u001b[39;00m:\n\u001b[1;32m---> 50\u001b[0m         \u001b[38;5;28;43msuper\u001b[39;49m\u001b[43m(\u001b[49m\u001b[43m)\u001b[49m\u001b[38;5;241;43m.\u001b[39;49m\u001b[43mlearn\u001b[49m\u001b[43m(\u001b[49m\u001b[43mteacher\u001b[49m\u001b[43m,\u001b[49m\u001b[43m \u001b[49m\u001b[43mverbose\u001b[49m\u001b[43m)\u001b[49m\n\u001b[0;32m     51\u001b[0m \u001b[38;5;28;01mexcept\u001b[39;00m NumberOfStatesExceededException:\n\u001b[0;32m     52\u001b[0m     \u001b[38;5;28;01mif\u001b[39;00m verbose: \u001b[38;5;28mprint\u001b[39m(\u001b[38;5;124m\"\u001b[39m\u001b[38;5;124mNumberOfStatesExceeded\u001b[39m\u001b[38;5;124m\"\u001b[39m)\n",
      "File \u001b[1;32mc:\\Users\\franz\\anaconda3\\envs\\pymodelextractor_exp\\lib\\site-packages\\pymodelextractor\\learners\\observation_tree_learners\\pdfa_quantization_n_ary_tree_learner.py:83\u001b[0m, in \u001b[0;36mPDFAQuantizationNAryTreeLearner.learn\u001b[1;34m(self, teacher, verbose)\u001b[0m\n\u001b[0;32m     80\u001b[0m \u001b[38;5;28;01mfor\u001b[39;00m symbol \u001b[38;5;129;01min\u001b[39;00m symbols:\n\u001b[0;32m     81\u001b[0m     \u001b[38;5;28mself\u001b[39m\u001b[38;5;241m.\u001b[39m_tree\u001b[38;5;241m.\u001b[39msift(Sequence([symbol]))\n\u001b[1;32m---> 83\u001b[0m model \u001b[38;5;241m=\u001b[39m \u001b[38;5;28;43mself\u001b[39;49m\u001b[38;5;241;43m.\u001b[39;49m\u001b[43mtentative_hypothesis\u001b[49m\u001b[43m(\u001b[49m\u001b[43m)\u001b[49m\n\u001b[0;32m     84\u001b[0m models\u001b[38;5;241m.\u001b[39mappend(model)\n\u001b[0;32m     85\u001b[0m last_size \u001b[38;5;241m=\u001b[39m \u001b[38;5;28mlen\u001b[39m(model\u001b[38;5;241m.\u001b[39mweighted_states)\n",
      "File \u001b[1;32mc:\\Users\\franz\\anaconda3\\envs\\pymodelextractor_exp\\lib\\site-packages\\pymodelextractor\\learners\\observation_tree_learners\\pdfa_quantization_n_ary_tree_learner.py:135\u001b[0m, in \u001b[0;36mPDFAQuantizationNAryTreeLearner.tentative_hypothesis\u001b[1;34m(self)\u001b[0m\n\u001b[0;32m    133\u001b[0m \u001b[38;5;28;01mwhile\u001b[39;00m updated_tree:\n\u001b[0;32m    134\u001b[0m     \u001b[38;5;28;01mif\u001b[39;00m \u001b[38;5;28mself\u001b[39m\u001b[38;5;241m.\u001b[39m_pre_cache_queries_for_building_hipothesis:\n\u001b[1;32m--> 135\u001b[0m         \u001b[38;5;28;43mself\u001b[39;49m\u001b[38;5;241;43m.\u001b[39;49m\u001b[43m_tree\u001b[49m\u001b[38;5;241;43m.\u001b[39;49m\u001b[43mcache_queries_for_building_hipothesis\u001b[49m\u001b[43m(\u001b[49m\u001b[43m)\u001b[49m\n\u001b[0;32m    137\u001b[0m     \u001b[38;5;28;01mfor\u001b[39;00m leaf_str, leaf \u001b[38;5;129;01min\u001b[39;00m \u001b[38;5;28mself\u001b[39m\u001b[38;5;241m.\u001b[39m_tree\u001b[38;5;241m.\u001b[39mleaves\u001b[38;5;241m.\u001b[39mitems():\n\u001b[0;32m    138\u001b[0m         initial_weight \u001b[38;5;241m=\u001b[39m \u001b[38;5;241m1\u001b[39m \u001b[38;5;28;01mif\u001b[39;00m leaf_str \u001b[38;5;241m==\u001b[39m epsilon \u001b[38;5;28;01melse\u001b[39;00m \u001b[38;5;241m0\u001b[39m\n",
      "File \u001b[1;32mc:\\Users\\franz\\anaconda3\\envs\\pymodelextractor_exp\\lib\\site-packages\\pymodelextractor\\learners\\observation_tree_learners\\pdfa_quantization_n_ary_tree_learner.py:235\u001b[0m, in \u001b[0;36mClassificationTree.cache_queries_for_building_hipothesis\u001b[1;34m(self)\u001b[0m\n\u001b[0;32m    233\u001b[0m                 queries\u001b[38;5;241m.\u001b[39madd(query)\n\u001b[0;32m    234\u001b[0m \u001b[38;5;28;01mif\u001b[39;00m \u001b[38;5;28mlen\u001b[39m(queries)\u001b[38;5;241m>\u001b[39m\u001b[38;5;241m0\u001b[39m:\n\u001b[1;32m--> 235\u001b[0m     results \u001b[38;5;241m=\u001b[39m \u001b[38;5;28;43mself\u001b[39;49m\u001b[38;5;241;43m.\u001b[39;49m\u001b[43m_teacher\u001b[49m\u001b[38;5;241;43m.\u001b[39;49m\u001b[43mnext_token_probabilities_batch\u001b[49m\u001b[43m(\u001b[49m\u001b[43mqueries\u001b[49m\u001b[43m)\u001b[49m\n\u001b[0;32m    236\u001b[0m     \u001b[38;5;28mself\u001b[39m\u001b[38;5;241m.\u001b[39m_next_token_probabilities_cache\u001b[38;5;241m.\u001b[39mupdate(results)\n",
      "File \u001b[1;32mc:\\Users\\franz\\anaconda3\\envs\\pymodelextractor_exp\\lib\\site-packages\\pymodelextractor\\teachers\\probabilistic_teacher.py:106\u001b[0m, in \u001b[0;36mProbabilisticTeacher.next_token_probabilities_batch\u001b[1;34m(self, sequences)\u001b[0m\n\u001b[0;32m    104\u001b[0m     final_results\u001b[38;5;241m.\u001b[39mupdate(results_already_in_cache)\n\u001b[0;32m    105\u001b[0m \u001b[38;5;28;01melse\u001b[39;00m:        \n\u001b[1;32m--> 106\u001b[0m     results \u001b[38;5;241m=\u001b[39m \u001b[38;5;28;43mself\u001b[39;49m\u001b[38;5;241;43m.\u001b[39;49m\u001b[43m_target_model\u001b[49m\u001b[38;5;241;43m.\u001b[39;49m\u001b[43mget_last_token_weights_batch\u001b[49m\u001b[43m(\u001b[49m\u001b[43msequences\u001b[49m\u001b[43m,\u001b[49m\u001b[43m \u001b[49m\u001b[43msymbols\u001b[49m\u001b[43m)\u001b[49m\n\u001b[0;32m    107\u001b[0m     results_od \u001b[38;5;241m=\u001b[39m [OrderedDict(\u001b[38;5;28mzip\u001b[39m(symbols, x)) \u001b[38;5;28;01mfor\u001b[39;00m x \u001b[38;5;129;01min\u001b[39;00m results]\n\u001b[0;32m    108\u001b[0m     final_results \u001b[38;5;241m=\u001b[39m \u001b[38;5;28mzip\u001b[39m(sequences, results_od)\n",
      "File \u001b[1;32mc:\\Users\\franz\\Repos\\pymodelextractor_model_guided_extraction\\utilities\\syncronic_model_guided_language_model.py:68\u001b[0m, in \u001b[0;36mSyncronicModelGuidedLanguageModel.get_last_token_weights_batch\u001b[1;34m(self, sequences, required_suffixes)\u001b[0m\n\u001b[0;32m     67\u001b[0m \u001b[38;5;28;01mdef\u001b[39;00m \u001b[38;5;21mget_last_token_weights_batch\u001b[39m(\u001b[38;5;28mself\u001b[39m, sequences, required_suffixes):        \n\u001b[1;32m---> 68\u001b[0m     model1_results \u001b[38;5;241m=\u001b[39m \u001b[38;5;28;43mself\u001b[39;49m\u001b[38;5;241;43m.\u001b[39;49m\u001b[43m_model1\u001b[49m\u001b[38;5;241;43m.\u001b[39;49m\u001b[43mget_last_token_weights_batch\u001b[49m\u001b[43m(\u001b[49m\u001b[43msequences\u001b[49m\u001b[43m,\u001b[49m\u001b[43m \u001b[49m\u001b[43mrequired_suffixes\u001b[49m\u001b[43m)\u001b[49m        \n\u001b[0;32m     69\u001b[0m     model2_results \u001b[38;5;241m=\u001b[39m \u001b[38;5;28mself\u001b[39m\u001b[38;5;241m.\u001b[39m_guiding_model\u001b[38;5;241m.\u001b[39mget_last_token_weights_batch(sequences, required_suffixes)\n\u001b[0;32m     70\u001b[0m     res \u001b[38;5;241m=\u001b[39m []\n",
      "File \u001b[1;32mc:\\Users\\franz\\Repos\\pymodelextractor_model_guided_extraction\\case_studies\\gpt2\\gpt2_probabilistic_model_wrapper.py:62\u001b[0m, in \u001b[0;36mGPT2_probabilistic_model_wrapper.get_last_token_weights_batch\u001b[1;34m(self, sequences, required_suffixes)\u001b[0m\n\u001b[0;32m     60\u001b[0m results \u001b[38;5;241m=\u001b[39m []\n\u001b[0;32m     61\u001b[0m \u001b[38;5;28;01mfor\u001b[39;00m seq \u001b[38;5;129;01min\u001b[39;00m sequences:\n\u001b[1;32m---> 62\u001b[0m     results\u001b[38;5;241m.\u001b[39mappend(\u001b[38;5;28;43mself\u001b[39;49m\u001b[38;5;241;43m.\u001b[39;49m\u001b[43mget_last_token_weights\u001b[49m\u001b[43m(\u001b[49m\u001b[43mseq\u001b[49m\u001b[43m,\u001b[49m\u001b[43m \u001b[49m\u001b[43mrequired_suffixes\u001b[49m\u001b[43m)\u001b[49m)\n\u001b[0;32m     63\u001b[0m \u001b[38;5;28;01mreturn\u001b[39;00m results\n",
      "File \u001b[1;32mc:\\Users\\franz\\Repos\\pymodelextractor_model_guided_extraction\\case_studies\\gpt2\\gpt2_probabilistic_model_wrapper.py:47\u001b[0m, in \u001b[0;36mGPT2_probabilistic_model_wrapper.get_last_token_weights\u001b[1;34m(self, sequence, required_suffixes)\u001b[0m\n\u001b[0;32m     44\u001b[0m weights \u001b[38;5;241m=\u001b[39m \u001b[38;5;28mlist\u001b[39m()\n\u001b[0;32m     45\u001b[0m \u001b[38;5;66;03m#alphabet_symbols_weights = self.next_symbol_probas(sequence)\u001b[39;00m\n\u001b[0;32m     46\u001b[0m \u001b[38;5;66;03m#alphabet_symbols_weights = {Sequence() + k: alphabet_symbols_weights[k] for k in alphabet_symbols_weights.keys()}\u001b[39;00m\n\u001b[1;32m---> 47\u001b[0m alphabet_symbols_weights \u001b[38;5;241m=\u001b[39m \u001b[38;5;28;43mself\u001b[39;49m\u001b[38;5;241;43m.\u001b[39;49m\u001b[43mlast_token_probability\u001b[49m\u001b[43m(\u001b[49m\u001b[43msequence\u001b[49m\u001b[43m)\u001b[49m\n\u001b[0;32m     48\u001b[0m \u001b[38;5;28;01mfor\u001b[39;00m suffix \u001b[38;5;129;01min\u001b[39;00m required_suffixes:\n\u001b[0;32m     49\u001b[0m     \u001b[38;5;28;01mif\u001b[39;00m suffix \u001b[38;5;129;01min\u001b[39;00m alphabet_symbols_weights:\n",
      "File \u001b[1;32mc:\\Users\\franz\\Repos\\pymodelextractor_model_guided_extraction\\case_studies\\gpt2\\gpt2_probabilistic_model_wrapper.py:40\u001b[0m, in \u001b[0;36mGPT2_probabilistic_model_wrapper.last_token_probability\u001b[1;34m(self, sequence)\u001b[0m\n\u001b[0;32m     38\u001b[0m symbols \u001b[38;5;241m=\u001b[39m \u001b[38;5;28mset\u001b[39m(\u001b[38;5;28mself\u001b[39m\u001b[38;5;241m.\u001b[39m_alphabet\u001b[38;5;241m.\u001b[39msymbols)\n\u001b[0;32m     39\u001b[0m symbols\u001b[38;5;241m.\u001b[39madd(\u001b[38;5;28mself\u001b[39m\u001b[38;5;241m.\u001b[39mterminal_symbol)\n\u001b[1;32m---> 40\u001b[0m \u001b[38;5;28;01mreturn\u001b[39;00m \u001b[38;5;28;43mself\u001b[39;49m\u001b[38;5;241;43m.\u001b[39;49m\u001b[43m_get_probability\u001b[49m\u001b[43m(\u001b[49m\u001b[43msequence\u001b[49m\u001b[43m,\u001b[49m\u001b[43m \u001b[49m\u001b[43msymbols\u001b[49m\u001b[43m,\u001b[49m\u001b[43m \u001b[49m\u001b[43mnormalize\u001b[49m\u001b[43m \u001b[49m\u001b[38;5;241;43m=\u001b[39;49m\u001b[43m \u001b[49m\u001b[38;5;28;43;01mTrue\u001b[39;49;00m\u001b[43m)\u001b[49m\n",
      "File \u001b[1;32mc:\\Users\\franz\\Repos\\pymodelextractor_model_guided_extraction\\case_studies\\gpt2\\gpt2_probabilistic_model_wrapper.py:93\u001b[0m, in \u001b[0;36mGPT2_probabilistic_model_wrapper._get_probability\u001b[1;34m(self, sequence, symbols, normalize, top_k)\u001b[0m\n\u001b[0;32m     88\u001b[0m         probs \u001b[38;5;241m=\u001b[39m probs\u001b[38;5;241m.\u001b[39mscatter(_axis,\n\u001b[0;32m     89\u001b[0m                         top_k_val\u001b[38;5;241m.\u001b[39mindices,\n\u001b[0;32m     90\u001b[0m                         top_k_val\u001b[38;5;241m.\u001b[39mvalues)\n\u001b[0;32m     91\u001b[0m         probs \u001b[38;5;241m/\u001b[39m\u001b[38;5;241m=\u001b[39m torch\u001b[38;5;241m.\u001b[39msum(probs)\n\u001b[1;32m---> 93\u001b[0m \u001b[38;5;28;01mreturn\u001b[39;00m \u001b[38;5;28;43mself\u001b[39;49m\u001b[38;5;241;43m.\u001b[39;49m\u001b[43m_get_words_probabilities_dict\u001b[49m\u001b[43m(\u001b[49m\u001b[43mprobs\u001b[49m\u001b[43m,\u001b[49m\u001b[43m \u001b[49m\u001b[43msymbols\u001b[49m\u001b[43m,\u001b[49m\u001b[43m \u001b[49m\u001b[43mnormalize\u001b[49m\u001b[43m)\u001b[49m\n",
      "File \u001b[1;32mc:\\Users\\franz\\Repos\\pymodelextractor_model_guided_extraction\\case_studies\\gpt2\\gpt2_probabilistic_model_wrapper.py:107\u001b[0m, in \u001b[0;36mGPT2_probabilistic_model_wrapper._get_words_probabilities_dict\u001b[1;34m(self, probs, symbols, normalize)\u001b[0m\n\u001b[0;32m    104\u001b[0m input_ids_list \u001b[38;5;241m=\u001b[39m [\u001b[38;5;28mself\u001b[39m\u001b[38;5;241m.\u001b[39mtokenizer\u001b[38;5;241m.\u001b[39mencode(token) \u001b[38;5;28;01mfor\u001b[39;00m token \u001b[38;5;129;01min\u001b[39;00m word_tokens]\n\u001b[0;32m    106\u001b[0m \u001b[38;5;66;03m# Extract probabilities for the specified words from the distribution of the next token\u001b[39;00m\n\u001b[1;32m--> 107\u001b[0m word_probs \u001b[38;5;241m=\u001b[39m [probs[:, token_id] \u001b[38;5;28;01mfor\u001b[39;00m token_id \u001b[38;5;129;01min\u001b[39;00m input_ids_list]\n\u001b[0;32m    109\u001b[0m \u001b[38;5;66;03m# Sum the probabilities for all tokenizations of the word\u001b[39;00m\n\u001b[0;32m    110\u001b[0m total_word_probs \u001b[38;5;241m=\u001b[39m \u001b[38;5;28msum\u001b[39m(word_probs)\n",
      "File \u001b[1;32mc:\\Users\\franz\\Repos\\pymodelextractor_model_guided_extraction\\case_studies\\gpt2\\gpt2_probabilistic_model_wrapper.py:107\u001b[0m, in \u001b[0;36m<listcomp>\u001b[1;34m(.0)\u001b[0m\n\u001b[0;32m    104\u001b[0m input_ids_list \u001b[38;5;241m=\u001b[39m [\u001b[38;5;28mself\u001b[39m\u001b[38;5;241m.\u001b[39mtokenizer\u001b[38;5;241m.\u001b[39mencode(token) \u001b[38;5;28;01mfor\u001b[39;00m token \u001b[38;5;129;01min\u001b[39;00m word_tokens]\n\u001b[0;32m    106\u001b[0m \u001b[38;5;66;03m# Extract probabilities for the specified words from the distribution of the next token\u001b[39;00m\n\u001b[1;32m--> 107\u001b[0m word_probs \u001b[38;5;241m=\u001b[39m [\u001b[43mprobs\u001b[49m\u001b[43m[\u001b[49m\u001b[43m:\u001b[49m\u001b[43m,\u001b[49m\u001b[43m \u001b[49m\u001b[43mtoken_id\u001b[49m\u001b[43m]\u001b[49m \u001b[38;5;28;01mfor\u001b[39;00m token_id \u001b[38;5;129;01min\u001b[39;00m input_ids_list]\n\u001b[0;32m    109\u001b[0m \u001b[38;5;66;03m# Sum the probabilities for all tokenizations of the word\u001b[39;00m\n\u001b[0;32m    110\u001b[0m total_word_probs \u001b[38;5;241m=\u001b[39m \u001b[38;5;28msum\u001b[39m(word_probs)\n",
      "\u001b[1;31mKeyboardInterrupt\u001b[0m: "
     ]
    }
   ],
   "source": [
    "learning_result = learner.learn(teacher, verbose=True)"
   ]
  },
  {
   "cell_type": "code",
   "execution_count": null,
   "metadata": {},
   "outputs": [],
   "source": [
    "from pythautomata.model_exporters.dot_exporters.wfa_dot_exporting_strategy import WFADotExportingStrategy\n",
    "from IPython.display import display\n",
    "\n",
    "exporter = WFADotExportingStrategy()\n",
    "graph = exporter.create_graph(learning_result.model)\n",
    "\n",
    "display(graph)"
   ]
  },
  {
   "cell_type": "code",
   "execution_count": null,
   "metadata": {},
   "outputs": [],
   "source": []
  }
 ],
 "metadata": {
  "kernelspec": {
   "display_name": "pymodelextractor_exp",
   "language": "python",
   "name": "python3"
  },
  "language_info": {
   "codemirror_mode": {
    "name": "ipython",
    "version": 3
   },
   "file_extension": ".py",
   "mimetype": "text/x-python",
   "name": "python",
   "nbconvert_exporter": "python",
   "pygments_lexer": "ipython3",
   "version": "3.9.1"
  }
 },
 "nbformat": 4,
 "nbformat_minor": 2
}
