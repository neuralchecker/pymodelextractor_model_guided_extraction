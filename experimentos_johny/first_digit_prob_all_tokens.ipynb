{
 "cells": [
  {
   "cell_type": "code",
   "execution_count": null,
   "metadata": {},
   "outputs": [],
   "source": [
    "import torch\n",
    "from transformers import AutoModelForCausalLM\n",
    "from transformers import AutoTokenizer\n",
    "\n",
    "torch.manual_seed(42)\n",
    "\n",
    "device = \"cuda\" if torch.cuda.is_available() else \"cpu\"\n",
    "model_id = \"gpt2\"  # Change this to \"gpt2\" if you get memory issues\n",
    "\n",
    "tokenizer = AutoTokenizer.from_pretrained(model_id, use_fast=True, add_prefix_space=False)\n",
    "model = AutoModelForCausalLM.from_pretrained(model_id,\n",
    "                                            return_dict_in_generate=True,\n",
    "                                            pad_token_id=tokenizer.eos_token_id).to(device)"
   ]
  },
  {
   "cell_type": "code",
   "execution_count": null,
   "metadata": {},
   "outputs": [],
   "source": [
    "prompt = tokenizer.decode(tokenizer.bos_token_id) + \".\"\n",
    "input_ids = torch.tensor(tokenizer.encode(prompt)).reshape(1, -1).to(device)\n",
    "\n",
    "with torch.no_grad():\n",
    "    output = model(input_ids)\n",
    "    logits = output[0]\n",
    "    probs = torch.softmax(logits, dim=-1)"
   ]
  },
  {
   "cell_type": "code",
   "execution_count": null,
   "metadata": {},
   "outputs": [],
   "source": [
    "import re\n",
    "digits_probs = {}\n",
    "for i in range(probs.shape[-1]):\n",
    "    prob = probs[0, -1, i].item()\n",
    "    if re.fullmatch(\"[0-9]+\", tokenizer.decode(i)):\n",
    "        digits_probs[(tokenizer.decode(i)).replace(\" \", \"\")] = prob\n",
    "\n",
    "        \n",
    "total_value = 0\n",
    "one_digit = {str(x):0 for x in range(10)}\n",
    "for key, value in digits_probs.items():\n",
    "    one_digit[key[0]] += value\n",
    "    total_value += value\n",
    "\n",
    "for key, value in one_digit.items():\n",
    "    one_digit[key] = value/total_value\n",
    "\n",
    "\n",
    "    \n",
    "print(one_digit)"
   ]
  }
 ],
 "metadata": {
  "language_info": {
   "name": "python"
  }
 },
 "nbformat": 4,
 "nbformat_minor": 2
}
