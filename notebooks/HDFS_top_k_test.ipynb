{
 "cells": [
  {
   "cell_type": "markdown",
   "metadata": {},
   "source": [
    "# Train RNN with data extracted from HDFS system traces\n",
    "(Example from: Property Checking with Interpretable Error Characterization)"
   ]
  },
  {
   "cell_type": "code",
   "execution_count": null,
   "metadata": {},
   "outputs": [],
   "source": [
    "#!pip install ml_dtypes==0.2.0"
   ]
  },
  {
   "cell_type": "code",
   "execution_count": 1,
   "metadata": {},
   "outputs": [
    {
     "name": "stderr",
     "output_type": "stream",
     "text": [
      "c:\\Users\\franz\\anaconda3\\envs\\pymodelextractor_exp\\lib\\site-packages\\requests\\__init__.py:102: RequestsDependencyWarning: urllib3 (2.1.0) or chardet (None)/charset_normalizer (3.3.2) doesn't match a supported version!\n",
      "  warnings.warn(\"urllib3 ({}) or chardet ({})/charset_normalizer ({}) doesn't match a supported \"\n"
     ]
    }
   ],
   "source": [
    "import sys\n",
    "sys.path.append(\"../\")\n",
    "from pythautomata.model_comparators.wfa_partition_comparison_strategy import WFAPartitionComparator\n",
    "from pythautomata.utilities.probability_partitioner import TopKProbabilityPartitioner\n",
    "from pythautomata.model_exporters.partition_mapper import TopKPartitionMapper\n",
    "from pythautomata.model_exporters.image_exporters.wfa_image_exporter_with_partition_mapper import WFAImageExporterWithPartitionMapper\n",
    "from pythautomata.base_types.symbol import SymbolStr\n",
    "\n",
    "from pymodelextractor.learners.observation_tree_learners.bounded_pdfa_quantization_n_ary_tree_learner import BoundedPDFAQuantizationNAryTreeLearner\n",
    "from pymodelextractor.teachers.pac_batch_probabilistic_teacher import PACBatchProbabilisticTeacher\n",
    "\n",
    "from utilities.neural_networks.model_definitions import Models \n",
    "from data.data_loaders.deeplog_data_loader import DeepLogDataLoader\n",
    "from utilities.neural_networks.neural_nets_train_auxiliar import load_data_and_train_last_token_language_model_network\n",
    "from  tensorflow.keras.optimizers import Adam\n",
    "from IPython.display import Image"
   ]
  },
  {
   "cell_type": "markdown",
   "metadata": {},
   "source": [
    "### Get DataLoader "
   ]
  },
  {
   "cell_type": "code",
   "execution_count": 2,
   "metadata": {},
   "outputs": [],
   "source": [
    "dataloader = DeepLogDataLoader(\"../data/deep_log/hdfs_train\")\n",
    "alphabet = dataloader.alphabet"
   ]
  },
  {
   "cell_type": "markdown",
   "metadata": {},
   "source": [
    "### Select network architecture from predefined ones "
   ]
  },
  {
   "cell_type": "code",
   "execution_count": 3,
   "metadata": {},
   "outputs": [],
   "source": [
    "has_embedding = False\n",
    "input_vocab_size = len(alphabet) + 1  #to consider padding symbol\n",
    "output_vocab_size = len(alphabet) + 1 #to consider terminal symbol\n",
    "keras_network_architecture = Models.last_token_lstm_model(input_vocab_size, output_vocab_size, has_embedding)"
   ]
  },
  {
   "cell_type": "markdown",
   "metadata": {},
   "source": [
    "### Define data generation and training parametters"
   ]
  },
  {
   "cell_type": "code",
   "execution_count": 4,
   "metadata": {},
   "outputs": [],
   "source": [
    "max_sequence_length_for_training = 20\n",
    "generated_training_data_size = 10000\n",
    "window_size = 40\n",
    "output_path=\"neural_networks/trained_models/hdfs_last_token_language_model/\"\n",
    "padding_symbol= SymbolStr('x')\n",
    "terminal_symbol= SymbolStr('$')\n",
    "training_params = {'patience':10, 'epochs':50, 'batch_size':100, 'learning_rate':0.01, 'criterion':Adam, 'loss':'categorical_crossentropy'}\n",
    "seed = 28"
   ]
  },
  {
   "cell_type": "code",
   "execution_count": 5,
   "metadata": {},
   "outputs": [
    {
     "name": "stdout",
     "output_type": "stream",
     "text": [
      "The model has been successfully loaded\n"
     ]
    }
   ],
   "source": [
    "from utilities.neural_networks.rnn_language_models.last_token_language_model import LastTokenLanguageModel\n",
    "model = LastTokenLanguageModel(\"../neural_networks/trained_models/hdfs_last_token_language_model/\", verbose=0)"
   ]
  },
  {
   "cell_type": "markdown",
   "metadata": {},
   "source": [
    "### Generate data and Train\n",
    "(These abstractions are made for the sake of simplicity, any model and architecture is valid, as long as it implements the ProbabilisticModel interface)"
   ]
  },
  {
   "cell_type": "code",
   "execution_count": 6,
   "metadata": {},
   "outputs": [],
   "source": [
    "#model, eval = load_data_and_train_last_token_language_model_network(dataloader, output_path, window_size, padding_symbol, terminal_symbol, keras_network_architecture, training_params, seed, not has_embedding)"
   ]
  },
  {
   "attachments": {},
   "cell_type": "markdown",
   "metadata": {},
   "source": [
    "### Define Probability Partitioner"
   ]
  },
  {
   "cell_type": "code",
   "execution_count": 7,
   "metadata": {},
   "outputs": [],
   "source": [
    "partitioner = TopKProbabilityPartitioner(6)"
   ]
  },
  {
   "cell_type": "markdown",
   "metadata": {},
   "source": [
    "### Define a Synchronic-Model\n",
    "The Synchornic-Model will wrap the Model and is responsible of making transitions below K zero, (if required it is also able to mask the Model)"
   ]
  },
  {
   "cell_type": "code",
   "execution_count": 8,
   "metadata": {},
   "outputs": [],
   "source": [
    "from utilities.syncronic_model_guided_language_model import SyncronicModelGuidedLanguageModel\n",
    "syncrhronic_model = SyncronicModelGuidedLanguageModel(model, guiding_model=None, model_name=\"HDFS_SYNCH\", max_seq_length=10, normalize_outputs=True, top_k=2)"
   ]
  },
  {
   "cell_type": "markdown",
   "metadata": {},
   "source": [
    "### Define a Learner, a Comparator, and a Teacher"
   ]
  },
  {
   "cell_type": "code",
   "execution_count": 19,
   "metadata": {},
   "outputs": [],
   "source": [
    "from utilities.hypothesis_aware_sample_probabilistic_teacher import HypothesisAwareSampleProbabilisticTeacher\n",
    "\n",
    "comparator = WFAPartitionComparator(partitioner)\n",
    "\n",
    "learner = BoundedPDFAQuantizationNAryTreeLearner(partitioner, max_states = 20, max_query_length = 5, max_seconds_run=None, generate_partial_hipothesis = True, pre_cache_queries_for_building_hipothesis = True,  check_probabilistic_hipothesis = False, omit_zero_transitions=True)\n",
    "\n",
    "teacher = HypothesisAwareSampleProbabilisticTeacher(syncrhronic_model, comparator, 100, 5)"
   ]
  },
  {
   "cell_type": "code",
   "execution_count": 20,
   "metadata": {},
   "outputs": [
    {
     "name": "stdout",
     "output_type": "stream",
     "text": [
      "frozenset({1, 2, 3, 4, 5, 6, 7, 8, 9, 10, 11, 12, 13, 14, 15, 16, 17, 18, 19, 20, 21, 22, 23, 24, 25, 26, 27, 28, 29})\n"
     ]
    }
   ],
   "source": [
    "print(model.alphabet)"
   ]
  },
  {
   "cell_type": "markdown",
   "metadata": {},
   "source": [
    "### Run extraction"
   ]
  },
  {
   "cell_type": "code",
   "execution_count": 21,
   "metadata": {},
   "outputs": [
    {
     "name": "stdout",
     "output_type": "stream",
     "text": [
      "Size before update: 8\n",
      "CE: 5,9,21,23,23\n",
      "----update_node----\n",
      "Old Node (new Leaf) 5,9,21\n",
      "New Leaf 5,9,21,23\n",
      "dict_keys([5, ϵ, 22, 5,9, 5,21, 5,9,4, 5,9,21])\n",
      "dict_keys([5, ϵ, 22, 5,9, 5,21, 5,9,4, 5,9,21, 5,9,21,23])\n",
      "--------\n",
      "Size after update: 9\n",
      "Size before update: 9\n",
      "CE: 5,9,4,3,4\n",
      "----update_node----\n",
      "Old Node (new Leaf) 5,9,4\n",
      "New Leaf 5,9,4,3\n",
      "dict_keys([5, ϵ, 22, 5,9, 5,21, 5,9,4, 5,9,21, 5,9,21,23, 5,9,4,3,4])\n",
      "dict_keys([5, ϵ, 22, 5,9, 5,21, 5,9,4, 5,9,21, 5,9,21,23, 5,9,4,3,4, 5,9,4,3])\n",
      "--------\n",
      "QueryLengthExceeded\n"
     ]
    }
   ],
   "source": [
    "extracted_model = learner.learn(teacher, verbose = True).model"
   ]
  },
  {
   "cell_type": "code",
   "execution_count": null,
   "metadata": {},
   "outputs": [],
   "source": [
    "path = 'learning_outputs/'\n",
    "mapped_name = extracted_model.name+\"_partitioned_top_6\"\n",
    "WFAImageExporterWithPartitionMapper(TopKProbabilityPartitioner(\n",
    "            6), TopKPartitionMapper()).export(extracted_model, path, mapped_name)\n"
   ]
  },
  {
   "cell_type": "code",
   "execution_count": null,
   "metadata": {},
   "outputs": [],
   "source": [
    "Image(path+mapped_name+'.png')"
   ]
  },
  {
   "cell_type": "code",
   "execution_count": null,
   "metadata": {},
   "outputs": [],
   "source": [
    "extracted_model.export(path)\n",
    "Image(path+extracted_model.name+'.png')"
   ]
  },
  {
   "cell_type": "code",
   "execution_count": null,
   "metadata": {},
   "outputs": [],
   "source": [
    "for state in extracted_model.weighted_states:\n",
    "    print(state.transitions_set)"
   ]
  }
 ],
 "metadata": {
  "kernelspec": {
   "display_name": "Python 3 (ipykernel)",
   "language": "python",
   "name": "python3"
  },
  "language_info": {
   "codemirror_mode": {
    "name": "ipython",
    "version": 3
   },
   "file_extension": ".py",
   "mimetype": "text/x-python",
   "name": "python",
   "nbconvert_exporter": "python",
   "pygments_lexer": "ipython3",
   "version": "3.9.1"
  },
  "vscode": {
   "interpreter": {
    "hash": "a62c4331fe3c271027f7fb0009202e3e241e4834edb3e939062d865ae9660ef9"
   }
  }
 },
 "nbformat": 4,
 "nbformat_minor": 2
}
