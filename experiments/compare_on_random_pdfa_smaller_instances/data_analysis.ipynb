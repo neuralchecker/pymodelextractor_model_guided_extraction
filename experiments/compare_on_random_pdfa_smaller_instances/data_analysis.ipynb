{
 "cells": [
  {
   "cell_type": "code",
   "execution_count": 1,
   "metadata": {},
   "outputs": [],
   "source": [
    "import pandas as pd\n",
    "import numpy as np\n",
    "import matplotlib.pyplot as plt\n",
    "import seaborn as sns"
   ]
  },
  {
   "cell_type": "markdown",
   "metadata": {},
   "source": [
    "# Data Loading"
   ]
  },
  {
   "cell_type": "code",
   "execution_count": 2,
   "metadata": {},
   "outputs": [],
   "source": [
    "evaluation_data = pd.read_csv('./results/results_08_04_2024_08_50_36.csv')"
   ]
  },
  {
   "cell_type": "markdown",
   "metadata": {},
   "source": [
    "# Results Analysis"
   ]
  },
  {
   "cell_type": "code",
   "execution_count": 3,
   "metadata": {},
   "outputs": [],
   "source": [
    "evaluation_data.drop('Unnamed: 0', axis = 1, inplace = True)"
   ]
  },
  {
   "cell_type": "code",
   "execution_count": 4,
   "metadata": {},
   "outputs": [
    {
     "name": "stdout",
     "output_type": "stream",
     "text": [
      "1500\n"
     ]
    },
    {
     "data": {
      "text/html": [
       "<div>\n",
       "<style scoped>\n",
       "    .dataframe tbody tr th:only-of-type {\n",
       "        vertical-align: middle;\n",
       "    }\n",
       "\n",
       "    .dataframe tbody tr th {\n",
       "        vertical-align: top;\n",
       "    }\n",
       "\n",
       "    .dataframe thead th {\n",
       "        text-align: right;\n",
       "    }\n",
       "</style>\n",
       "<table border=\"1\" class=\"dataframe\">\n",
       "  <thead>\n",
       "    <tr style=\"text-align: right;\">\n",
       "      <th></th>\n",
       "      <th>Algorithm</th>\n",
       "      <th>Instance</th>\n",
       "      <th>Number of States</th>\n",
       "      <th>Extracted Number of States</th>\n",
       "      <th>RunNumber</th>\n",
       "      <th>Time(s)</th>\n",
       "      <th>LastTokenQuery</th>\n",
       "      <th>EquivalenceQuery</th>\n",
       "      <th>Tree Depth</th>\n",
       "      <th>Inner Nodes</th>\n",
       "      <th>Accuracy_in_target</th>\n",
       "      <th>Accuracy_anywhere</th>\n",
       "      <th>IsEquivalentExact</th>\n",
       "      <th>IsEquivalentOmitZero</th>\n",
       "      <th>IsMinimal</th>\n",
       "    </tr>\n",
       "  </thead>\n",
       "  <tbody>\n",
       "    <tr>\n",
       "      <th>1490</th>\n",
       "      <td>QuantNaryTreeLearner_Standard_Teacher_exact_te...</td>\n",
       "      <td>random_PDFA_nominal_size_500_9</td>\n",
       "      <td>501</td>\n",
       "      <td>501</td>\n",
       "      <td>1</td>\n",
       "      <td>237.681271</td>\n",
       "      <td>111408</td>\n",
       "      <td>108</td>\n",
       "      <td>6</td>\n",
       "      <td>7</td>\n",
       "      <td>1.0</td>\n",
       "      <td>1.0</td>\n",
       "      <td>True</td>\n",
       "      <td>True</td>\n",
       "      <td>True</td>\n",
       "    </tr>\n",
       "    <tr>\n",
       "      <th>1491</th>\n",
       "      <td>QuantNaryTreeLearner_Standard_Teacher_exact_te...</td>\n",
       "      <td>random_PDFA_nominal_size_500_9</td>\n",
       "      <td>501</td>\n",
       "      <td>501</td>\n",
       "      <td>2</td>\n",
       "      <td>234.020839</td>\n",
       "      <td>111408</td>\n",
       "      <td>108</td>\n",
       "      <td>6</td>\n",
       "      <td>7</td>\n",
       "      <td>1.0</td>\n",
       "      <td>1.0</td>\n",
       "      <td>True</td>\n",
       "      <td>True</td>\n",
       "      <td>True</td>\n",
       "    </tr>\n",
       "    <tr>\n",
       "      <th>1492</th>\n",
       "      <td>QuantNaryTreeLearner_Standard_Teacher_exact_te...</td>\n",
       "      <td>random_PDFA_nominal_size_500_9</td>\n",
       "      <td>501</td>\n",
       "      <td>501</td>\n",
       "      <td>3</td>\n",
       "      <td>234.826716</td>\n",
       "      <td>111408</td>\n",
       "      <td>108</td>\n",
       "      <td>6</td>\n",
       "      <td>7</td>\n",
       "      <td>1.0</td>\n",
       "      <td>1.0</td>\n",
       "      <td>True</td>\n",
       "      <td>True</td>\n",
       "      <td>True</td>\n",
       "    </tr>\n",
       "    <tr>\n",
       "      <th>1493</th>\n",
       "      <td>QuantNaryTreeLearner_Standard_Teacher_exact_te...</td>\n",
       "      <td>random_PDFA_nominal_size_500_9</td>\n",
       "      <td>501</td>\n",
       "      <td>501</td>\n",
       "      <td>4</td>\n",
       "      <td>231.682293</td>\n",
       "      <td>111408</td>\n",
       "      <td>108</td>\n",
       "      <td>6</td>\n",
       "      <td>7</td>\n",
       "      <td>1.0</td>\n",
       "      <td>1.0</td>\n",
       "      <td>True</td>\n",
       "      <td>True</td>\n",
       "      <td>True</td>\n",
       "    </tr>\n",
       "    <tr>\n",
       "      <th>1494</th>\n",
       "      <td>QuantNaryTreeLearner_Standard_Teacher_exact_te...</td>\n",
       "      <td>random_PDFA_nominal_size_500_9</td>\n",
       "      <td>501</td>\n",
       "      <td>501</td>\n",
       "      <td>5</td>\n",
       "      <td>230.006618</td>\n",
       "      <td>111408</td>\n",
       "      <td>108</td>\n",
       "      <td>6</td>\n",
       "      <td>7</td>\n",
       "      <td>1.0</td>\n",
       "      <td>1.0</td>\n",
       "      <td>True</td>\n",
       "      <td>True</td>\n",
       "      <td>True</td>\n",
       "    </tr>\n",
       "    <tr>\n",
       "      <th>1495</th>\n",
       "      <td>QuantNaryTreeLearner_Standard_Teacher_exact_te...</td>\n",
       "      <td>random_PDFA_nominal_size_500_9</td>\n",
       "      <td>501</td>\n",
       "      <td>501</td>\n",
       "      <td>6</td>\n",
       "      <td>230.484695</td>\n",
       "      <td>111408</td>\n",
       "      <td>108</td>\n",
       "      <td>6</td>\n",
       "      <td>7</td>\n",
       "      <td>1.0</td>\n",
       "      <td>1.0</td>\n",
       "      <td>True</td>\n",
       "      <td>True</td>\n",
       "      <td>True</td>\n",
       "    </tr>\n",
       "    <tr>\n",
       "      <th>1496</th>\n",
       "      <td>QuantNaryTreeLearner_Standard_Teacher_exact_te...</td>\n",
       "      <td>random_PDFA_nominal_size_500_9</td>\n",
       "      <td>501</td>\n",
       "      <td>501</td>\n",
       "      <td>7</td>\n",
       "      <td>233.487910</td>\n",
       "      <td>111408</td>\n",
       "      <td>108</td>\n",
       "      <td>6</td>\n",
       "      <td>7</td>\n",
       "      <td>1.0</td>\n",
       "      <td>1.0</td>\n",
       "      <td>True</td>\n",
       "      <td>True</td>\n",
       "      <td>True</td>\n",
       "    </tr>\n",
       "    <tr>\n",
       "      <th>1497</th>\n",
       "      <td>QuantNaryTreeLearner_Standard_Teacher_exact_te...</td>\n",
       "      <td>random_PDFA_nominal_size_500_9</td>\n",
       "      <td>501</td>\n",
       "      <td>501</td>\n",
       "      <td>8</td>\n",
       "      <td>234.248723</td>\n",
       "      <td>111408</td>\n",
       "      <td>108</td>\n",
       "      <td>6</td>\n",
       "      <td>7</td>\n",
       "      <td>1.0</td>\n",
       "      <td>1.0</td>\n",
       "      <td>True</td>\n",
       "      <td>True</td>\n",
       "      <td>True</td>\n",
       "    </tr>\n",
       "    <tr>\n",
       "      <th>1498</th>\n",
       "      <td>QuantNaryTreeLearner_Standard_Teacher_exact_te...</td>\n",
       "      <td>random_PDFA_nominal_size_500_9</td>\n",
       "      <td>501</td>\n",
       "      <td>501</td>\n",
       "      <td>9</td>\n",
       "      <td>230.738873</td>\n",
       "      <td>111408</td>\n",
       "      <td>108</td>\n",
       "      <td>6</td>\n",
       "      <td>7</td>\n",
       "      <td>1.0</td>\n",
       "      <td>1.0</td>\n",
       "      <td>True</td>\n",
       "      <td>True</td>\n",
       "      <td>True</td>\n",
       "    </tr>\n",
       "    <tr>\n",
       "      <th>1499</th>\n",
       "      <td>QuantNaryTreeLearner_Standard_Teacher_exact_te...</td>\n",
       "      <td>random_PDFA_nominal_size_500_9</td>\n",
       "      <td>501</td>\n",
       "      <td>501</td>\n",
       "      <td>10</td>\n",
       "      <td>238.970656</td>\n",
       "      <td>111408</td>\n",
       "      <td>108</td>\n",
       "      <td>6</td>\n",
       "      <td>7</td>\n",
       "      <td>1.0</td>\n",
       "      <td>1.0</td>\n",
       "      <td>True</td>\n",
       "      <td>True</td>\n",
       "      <td>True</td>\n",
       "    </tr>\n",
       "  </tbody>\n",
       "</table>\n",
       "</div>"
      ],
      "text/plain": [
       "                                              Algorithm  \\\n",
       "1490  QuantNaryTreeLearner_Standard_Teacher_exact_te...   \n",
       "1491  QuantNaryTreeLearner_Standard_Teacher_exact_te...   \n",
       "1492  QuantNaryTreeLearner_Standard_Teacher_exact_te...   \n",
       "1493  QuantNaryTreeLearner_Standard_Teacher_exact_te...   \n",
       "1494  QuantNaryTreeLearner_Standard_Teacher_exact_te...   \n",
       "1495  QuantNaryTreeLearner_Standard_Teacher_exact_te...   \n",
       "1496  QuantNaryTreeLearner_Standard_Teacher_exact_te...   \n",
       "1497  QuantNaryTreeLearner_Standard_Teacher_exact_te...   \n",
       "1498  QuantNaryTreeLearner_Standard_Teacher_exact_te...   \n",
       "1499  QuantNaryTreeLearner_Standard_Teacher_exact_te...   \n",
       "\n",
       "                            Instance  Number of States  \\\n",
       "1490  random_PDFA_nominal_size_500_9               501   \n",
       "1491  random_PDFA_nominal_size_500_9               501   \n",
       "1492  random_PDFA_nominal_size_500_9               501   \n",
       "1493  random_PDFA_nominal_size_500_9               501   \n",
       "1494  random_PDFA_nominal_size_500_9               501   \n",
       "1495  random_PDFA_nominal_size_500_9               501   \n",
       "1496  random_PDFA_nominal_size_500_9               501   \n",
       "1497  random_PDFA_nominal_size_500_9               501   \n",
       "1498  random_PDFA_nominal_size_500_9               501   \n",
       "1499  random_PDFA_nominal_size_500_9               501   \n",
       "\n",
       "      Extracted Number of States  RunNumber     Time(s)  LastTokenQuery  \\\n",
       "1490                         501          1  237.681271          111408   \n",
       "1491                         501          2  234.020839          111408   \n",
       "1492                         501          3  234.826716          111408   \n",
       "1493                         501          4  231.682293          111408   \n",
       "1494                         501          5  230.006618          111408   \n",
       "1495                         501          6  230.484695          111408   \n",
       "1496                         501          7  233.487910          111408   \n",
       "1497                         501          8  234.248723          111408   \n",
       "1498                         501          9  230.738873          111408   \n",
       "1499                         501         10  238.970656          111408   \n",
       "\n",
       "      EquivalenceQuery  Tree Depth  Inner Nodes  Accuracy_in_target  \\\n",
       "1490               108           6            7                 1.0   \n",
       "1491               108           6            7                 1.0   \n",
       "1492               108           6            7                 1.0   \n",
       "1493               108           6            7                 1.0   \n",
       "1494               108           6            7                 1.0   \n",
       "1495               108           6            7                 1.0   \n",
       "1496               108           6            7                 1.0   \n",
       "1497               108           6            7                 1.0   \n",
       "1498               108           6            7                 1.0   \n",
       "1499               108           6            7                 1.0   \n",
       "\n",
       "      Accuracy_anywhere  IsEquivalentExact  IsEquivalentOmitZero  IsMinimal  \n",
       "1490                1.0               True                  True       True  \n",
       "1491                1.0               True                  True       True  \n",
       "1492                1.0               True                  True       True  \n",
       "1493                1.0               True                  True       True  \n",
       "1494                1.0               True                  True       True  \n",
       "1495                1.0               True                  True       True  \n",
       "1496                1.0               True                  True       True  \n",
       "1497                1.0               True                  True       True  \n",
       "1498                1.0               True                  True       True  \n",
       "1499                1.0               True                  True       True  "
      ]
     },
     "execution_count": 4,
     "metadata": {},
     "output_type": "execute_result"
    }
   ],
   "source": [
    "print(len(evaluation_data))\n",
    "evaluation_data.tail(10)"
   ]
  },
  {
   "cell_type": "code",
   "execution_count": 13,
   "metadata": {},
   "outputs": [],
   "source": [
    "def nearest_value(x, values):\n",
    "    return min(values, key=lambda y: abs(y - x))\n",
    "\n",
    "evaluation_data['Nominal_Size'] = evaluation_data['Number of States'].apply(lambda x: nearest_value(x, [100,200,300,400,500] ))"
   ]
  },
  {
   "cell_type": "code",
   "execution_count": 14,
   "metadata": {},
   "outputs": [],
   "source": [
    "import math\n",
    "\n",
    "evaluation_data['TREE_SIZE'] = evaluation_data['Inner Nodes']+evaluation_data['Extracted Number of States']"
   ]
  },
  {
   "cell_type": "code",
   "execution_count": 15,
   "metadata": {},
   "outputs": [],
   "source": [
    "def IQR(data):\n",
    "    Q1 = data.quantile(0.25)\n",
    "    Q3 = data.quantile(0.75)\n",
    "    res = Q3 - Q1\n",
    "    return res\n",
    "\n",
    "cols_to_agg = ['Time(s)', 'LastTokenQuery', 'EquivalenceQuery', 'Extracted Number of States', 'Accuracy_in_target', 'Accuracy_anywhere', 'TREE_SIZE']\n",
    "funcs =  ['median', IQR]  \n",
    "names = ['median', 'IQR']  \n",
    "grouped_multiple = evaluation_data.groupby(['Algorithm', 'Nominal_Size']).agg({x:funcs for x in cols_to_agg})\n",
    "col_names = [x+\"_\"+fun_name for x in cols_to_agg for fun_name in names]\n",
    "grouped_multiple.columns = col_names\n",
    "#grouped_multiple.columns = ['Time(s)_median','Time(s)_IQR', 'MembershipQuery_median', 'MembershipQuery_IQR', \n",
    "#'EquivalenceQuery_median', 'EquivalenceQuery_IQR', 'Extracted Number of States_median', 'Extracted Number of States_IQR',]\n",
    "grouped_multiple.reset_index(inplace = True)"
   ]
  },
  {
   "cell_type": "code",
   "execution_count": 16,
   "metadata": {},
   "outputs": [
    {
     "data": {
      "text/plain": [
       "Index(['Algorithm', 'Instance', 'Number of States',\n",
       "       'Extracted Number of States', 'RunNumber', 'Time(s)', 'LastTokenQuery',\n",
       "       'EquivalenceQuery', 'Tree Depth', 'Inner Nodes', 'Accuracy_in_target',\n",
       "       'Accuracy_anywhere', 'IsEquivalentExact', 'IsEquivalentOmitZero',\n",
       "       'IsMinimal', 'Nominal_Size', 'TREE_SIZE'],\n",
       "      dtype='object')"
      ]
     },
     "execution_count": 16,
     "metadata": {},
     "output_type": "execute_result"
    }
   ],
   "source": [
    "evaluation_data.columns"
   ]
  },
  {
   "cell_type": "code",
   "execution_count": 17,
   "metadata": {},
   "outputs": [
    {
     "data": {
      "text/plain": [
       "15"
      ]
     },
     "execution_count": 17,
     "metadata": {},
     "output_type": "execute_result"
    }
   ],
   "source": [
    "len(grouped_multiple)"
   ]
  },
  {
   "cell_type": "code",
   "execution_count": 18,
   "metadata": {},
   "outputs": [],
   "source": [
    "evaluation_data_exact = evaluation_data[evaluation_data[\"Algorithm\"].apply(lambda x: 'exact' in str(x))]\n",
    "evaluation_data_sampling =  evaluation_data[evaluation_data[\"Algorithm\"].apply(lambda x: 'exact' not in str(x))]"
   ]
  },
  {
   "cell_type": "code",
   "execution_count": 19,
   "metadata": {},
   "outputs": [
    {
     "data": {
      "text/plain": [
       "100    300\n",
       "200    300\n",
       "300    300\n",
       "400    300\n",
       "500    300\n",
       "Name: Nominal_Size, dtype: int64"
      ]
     },
     "execution_count": 19,
     "metadata": {},
     "output_type": "execute_result"
    }
   ],
   "source": [
    "evaluation_data_exact[\"Nominal_Size\"].value_counts()"
   ]
  },
  {
   "cell_type": "code",
   "execution_count": 20,
   "metadata": {},
   "outputs": [
    {
     "data": {
      "image/png": "[encoded data removed]",
      "text/plain": [
       "<Figure size 482.4x595.44 with 1 Axes>"
      ]
     },
     "metadata": {},
     "output_type": "display_data"
    }
   ],
   "source": [
    "import seaborn as sns\n",
    "sns.set(rc={'figure.figsize':(6.7,8.27)})\n",
    "sns.set_style(\"whitegrid\")\n",
    "ax = sns.boxplot(x=\"Nominal_Size\", y=\"Time(s)\", hue=\"Algorithm\",\n",
    "                 data=evaluation_data_exact)\n",
    "#plt.legend(title = 'Algorithm', labels=[\"QuaNT\",\"$\\mathrm{L_{P}^*}$\"], fontsize = 12, frameon=True)\n",
    "ax.set_xlabel(\"Nominal Target Size\", fontsize = 12)\n",
    "ax.set_ylabel(\"Learning Time (s)\", fontsize = 12)\n",
    "new_labels = [\"Omit Zero Transitions\",\" Teacher Filter\",\"Standard Algorithm\"]\n",
    "for t, l in zip(ax.get_legend().get_texts(), new_labels):\n",
    "    t.set_text(l)"
   ]
  },
  {
   "cell_type": "code",
   "execution_count": 24,
   "metadata": {},
   "outputs": [
    {
     "data": {
      "image/png": "[encoded data removed]",
      "text/plain": [
       "<Figure size 482.4x595.44 with 1 Axes>"
      ]
     },
     "metadata": {},
     "output_type": "display_data"
    }
   ],
   "source": [
    "#sns.set(rc={'figure.figsize':(10.7,8.27)})\n",
    "sns.set_style(\"whitegrid\")\n",
    "# Compute quartiles\n",
    "quartiles = evaluation_data_exact.groupby(['Algorithm', 'Nominal_Size'])['Time(s)'].quantile([0.25, 0.5, 0.75]).unstack(level=0)\n",
    "\n",
    "# Calculate means\n",
    "means = evaluation_data_exact.groupby(['Algorithm', 'Nominal_Size'])['Time(s)'].median().unstack(level=0)\n",
    "\n",
    "# Plot quartiles with error bars\n",
    "for algo in evaluation_data_exact['Algorithm'].unique():\n",
    "    sns.lineplot(data=means[algo], marker='o', label=algo, linewidth = 3)\n",
    "    #plt.errorbar(x=means.index, y=means[algo], yerr=[means[algo] - quartiles[algo].loc[:,0.25], quartiles[algo].loc[:,0.75] - means[algo]], fmt='o')\n",
    "    plt.fill_between(x=means.index, y1=quartiles[algo].loc[:,0.25], y2= quartiles[algo].loc[:,0.75], alpha = 0.4)\n",
    "\n",
    "plt.legend(title='Algorithm', fontsize=12, frameon=True, loc = 'upper left')\n",
    "plt.xlabel(\"Nominal Target Size\", fontsize=12)\n",
    "plt.ylabel(\"Learning Time (s)\", fontsize=12)\n",
    "\n",
    "new_labels = [\"Omit Zero Transitions\",\" Teacher Filter\",\"Standard Algorithm\"]\n",
    "for t, l in zip(plt.gca().get_legend().get_texts(), new_labels):\n",
    "    t.set_text(l)\n",
    "\n",
    "plt.show()"
   ]
  },
  {
   "cell_type": "code",
   "execution_count": 26,
   "metadata": {},
   "outputs": [
    {
     "data": {
      "text/plain": [
       "Text(0, 0.5, 'Last Token Queries')"
      ]
     },
     "execution_count": 26,
     "metadata": {},
     "output_type": "execute_result"
    },
    {
     "data": {
      "image/png": "[encoded data removed]",
      "text/plain": [
       "<Figure size 482.4x595.44 with 1 Axes>"
      ]
     },
     "metadata": {},
     "output_type": "display_data"
    }
   ],
   "source": [
    "import seaborn as sns\n",
    "sns.set(rc={'figure.figsize':(6.7,8.27)})\n",
    "sns.set_style(\"whitegrid\")\n",
    "ax = sns.boxplot(x=\"Nominal_Size\", y=\"LastTokenQuery\", hue=\"Algorithm\",\n",
    "                 data=evaluation_data_exact)\n",
    "#plt.legend(title = 'Algorithm', labels=[\"QuaNT\",\"$\\mathrm{L_{P}^*}$\"], fontsize = 12, frameon=True)\n",
    "ax.set_xlabel(\"Nominal Target Size\", fontsize = 12)\n",
    "ax.set_ylabel(\"Last Token Queries\", fontsize = 12)\n",
    "#new_labels = [\"Omit Zero Transitions\",\" Teacher Filter\",\"Standard Algorithm\"]\n",
    "#for t, l in zip(ax.get_legend().get_texts(), new_labels):\n",
    "#    t.set_text(l)"
   ]
  },
  {
   "cell_type": "code",
   "execution_count": 27,
   "metadata": {},
   "outputs": [
    {
     "data": {
      "text/plain": [
       "Text(0, 0.5, 'Equivalence Queries')"
      ]
     },
     "execution_count": 27,
     "metadata": {},
     "output_type": "execute_result"
    },
    {
     "data": {
      "image/png": "[encoded data removed]",
      "text/plain": [
       "<Figure size 482.4x595.44 with 1 Axes>"
      ]
     },
     "metadata": {},
     "output_type": "display_data"
    }
   ],
   "source": [
    "import seaborn as sns\n",
    "#sns.set(rc={'figure.figsize':(6.7,8.27)})\n",
    "sns.set_style(\"whitegrid\")\n",
    "ax = sns.boxplot(x=\"Nominal_Size\", y=\"EquivalenceQuery\", hue=\"Algorithm\",\n",
    "                 data=evaluation_data_exact)\n",
    "#plt.legend(title = 'Algorithm', labels=[\"QuaNT\",\"$\\mathrm{L_{P}^*}$\"], fontsize = 12, frameon=True)\n",
    "ax.set_xlabel(\"Nominal Target Size\", fontsize = 12)\n",
    "ax.set_ylabel(\"Equivalence Queries\", fontsize = 12)\n",
    "#new_labels = [\"Omit Zero Transitions\",\" Teacher Filter\",\"Standard Algorithm\"]\n",
    "#for t, l in zip(ax.get_legend().get_texts(), new_labels):\n",
    "#    t.set_text(l)"
   ]
  },
  {
   "cell_type": "code",
   "execution_count": null,
   "metadata": {},
   "outputs": [],
   "source": [
    "import seaborn as sns\n",
    "#sns.set(rc={'figure.figsize':(6.7,8.27)})\n",
    "sns.set_style(\"whitegrid\")\n",
    "ax = sns.boxplot(x=\"Nominal_Size\", y=\"Extracted Number of States\", hue=\"Algorithm\",\n",
    "                 data=evaluation_data_exact)\n",
    "#plt.legend(title = 'Algorithm', labels=[\"QuaNT\",\"$\\mathrm{L_{P}^*}$\"], fontsize = 12, frameon=True)\n",
    "ax.set_xlabel(\"Nominal Target Size\", fontsize = 12)\n",
    "ax.set_ylabel(\"Extracted Number of States\", fontsize = 12)\n",
    "new_labels = [\"Omit Zero Transitions\",\" Teacher Filter\",\"Standard Algorithm\"]\n",
    "for t, l in zip(ax.get_legend().get_texts(), new_labels):\n",
    "    t.set_text(l)"
   ]
  },
  {
   "cell_type": "code",
   "execution_count": null,
   "metadata": {},
   "outputs": [],
   "source": [
    "evaluation_data_exact[\"IsEquivalentOmitZero\"].value_counts()"
   ]
  },
  {
   "cell_type": "code",
   "execution_count": null,
   "metadata": {},
   "outputs": [],
   "source": [
    "import seaborn as sns\n",
    "#sns.set(rc={'figure.figsize':(6.7,8.27)})\n",
    "sns.set_style(\"whitegrid\")\n",
    "ax = sns.boxplot(x=\"Nominal_Size\", y=\"Time(s)\", hue=\"Algorithm\",\n",
    "                 data=evaluation_data_sampling)\n",
    "\n",
    "ax.set_xlabel(\"Nominal Target Size\", fontsize = 12)\n",
    "ax.set_ylabel(\"Learning Time (s)\", fontsize = 12)\n",
    "new_labels = [\"Omit Zero Transitions\",\" Teacher Filter\",\"Standard Algorithm\"]\n",
    "for t, l in zip(ax.get_legend().get_texts(), new_labels):\n",
    "    t.set_text(l)"
   ]
  },
  {
   "cell_type": "code",
   "execution_count": null,
   "metadata": {},
   "outputs": [],
   "source": []
  },
  {
   "cell_type": "code",
   "execution_count": null,
   "metadata": {},
   "outputs": [],
   "source": [
    "import seaborn as sns\n",
    "#sns.set(rc={'figure.figsize':(6.7,8.27)})\n",
    "pivot = int(len(grouped_multiple)/5)\n",
    "\n",
    "zero = np.array(grouped_multiple[\"Time(s)_median\"][0:pivot])\n",
    "standard = np.array(grouped_multiple[\"Time(s)_median\"][pivot:2*pivot])\n",
    "teacher_filter = np.array(grouped_multiple[\"Time(s)_median\"][2*pivot:])\n",
    "\n",
    "speedup_filter_vs_zero = teacher_filter/zero\n",
    "speedup_standard_vs_zero = standard / zero\n",
    "\n",
    "sns.set_style(\"whitegrid\")\n",
    "ax = sns.regplot(x=grouped_multiple['Number of States'][0:pivot], y=speedup_filter_vs_zero, order=1, ci=None, label=\"Teacher Filter vs Omit Zero\")\n",
    "ax = sns.regplot(x=grouped_multiple['Number of States'][0:pivot], y=speedup_standard_vs_zero, order=1, ci=None, label=\"Standard Teacher vs Omit Zero\")\n",
    "ax.set_xlabel(\"Actual Target Size\", fontsize = 12)\n",
    "ax.set_ylabel(\"Speedup\", fontsize = 12)\n",
    "ax.legend()"
   ]
  },
  {
   "cell_type": "code",
   "execution_count": null,
   "metadata": {},
   "outputs": [],
   "source": [
    "import seaborn as sns\n",
    "#sns.set(rc={'figure.figsize':(6.7,8.27)})\n",
    "sns.set_style(\"whitegrid\")\n",
    "ax = sns.lmplot(x=\"Nominal_Size\", y=\"Accuracy_in_target_median\", hue=\"Algorithm\",\n",
    "                 data=grouped_multiple, legend = True, legend_out = False, order = 2, ci=None, size = 6)\n",
    "#plt.legend(title = 'Algorithm', labels=[\"QuaNT\",\"$\\mathrm{L_{P}^*}$\"], fontsize = 12, frameon=True)\n",
    "ax.axes[0,0].set_xlabel(\"Actual Target Size\", fontsize = 12)\n",
    "ax.axes[0,0].set_ylabel(\"Accuracy in target median\", fontsize = 12)\n",
    "#new_labels = [\"Omit Zero Transitions\",\"Standard Teacher\",\"Teacher Filter\"]\n",
    "#for t, l in zip(ax._legend.texts, new_labels):\n",
    "#    t.set_text(l)"
   ]
  },
  {
   "cell_type": "code",
   "execution_count": null,
   "metadata": {},
   "outputs": [],
   "source": [
    "import seaborn as sns\n",
    "#sns.set(rc={'figure.figsize':(6.7,8.27)})\n",
    "sns.set_style(\"whitegrid\")\n",
    "ax = sns.lmplot(x=\"Nominal_Size\", y=\"Accuracy_anywhere_median\", hue=\"Algorithm\",\n",
    "                 data=grouped_multiple, legend = True, legend_out = False, order = 1, ci=None, size = 6)\n",
    "#plt.legend(title = 'Algorithm', labels=[\"QuaNT\",\"$\\mathrm{L_{P}^*}$\"], fontsize = 12, frameon=True)\n",
    "ax.axes[0,0].set_xlabel(\"Actual Target Size\", fontsize = 12)\n",
    "ax.axes[0,0].set_ylabel(\"Accuracy anywhere median\", fontsize = 12)\n",
    "#new_labels = [\"Omit Zero Transitions\",\"Standard Teacher\",\"Teacher Filter\"]\n",
    "#for t, l in zip(ax._legend.texts, new_labels):\n",
    "#    t.set_text(l)"
   ]
  },
  {
   "cell_type": "code",
   "execution_count": null,
   "metadata": {},
   "outputs": [],
   "source": [
    "import seaborn as sns\n",
    "sns.set(rc={'figure.figsize':(6.7,8.27)})\n",
    "sns.set_style(\"whitegrid\")\n",
    "ax = sns.lmplot(x=\"Nominal_Size\", y=\"Extracted Number of States_median\", hue=\"Algorithm\",\n",
    "                 data=grouped_multiple, legend = True, legend_out = False)\n",
    "#new_labels = [\"Omit Zero Transitions\",\"Standard Teacher\",\"Teacher Filter\"]\n",
    "#for t, l in zip(ax._legend.texts, new_labels):\n",
    "#    t.set_text(l)"
   ]
  },
  {
   "cell_type": "code",
   "execution_count": null,
   "metadata": {},
   "outputs": [],
   "source": [
    "import seaborn as sns\n",
    "sns.set(rc={'figure.figsize':(6.7,8.27)})\n",
    "sns.set_style(\"whitegrid\")\n",
    "ax = sns.lmplot(x=\"Nominal_Size\", y=\"LastTokenQuery_median\", hue=\"Algorithm\",\n",
    "                 data=grouped_multiple, legend = True, legend_out = False)\n",
    "#new_labels = [\"Omit Zero Transitions\",\"Standard Teacher\",\"Teacher Filter\"]\n",
    "#for t, l in zip(ax._legend.texts, new_labels):\n",
    "#    t.set_text(l)"
   ]
  },
  {
   "cell_type": "code",
   "execution_count": null,
   "metadata": {},
   "outputs": [],
   "source": [
    "import seaborn as sns\n",
    "sns.set(rc={'figure.figsize':(6.7,8.27)})\n",
    "sns.set_style(\"whitegrid\")\n",
    "ax = sns.lmplot(x=\"Nominal_Size\", y=\"TREE_SIZE_median\", hue=\"Algorithm\",\n",
    "                 data=grouped_multiple, legend = True, legend_out = False, ci = None, size = 6)\n",
    "ax.axes[0,0].set_xlabel(\"Actual Target Size\", fontsize = 12)\n",
    "ax.axes[0,0].set_ylabel(\"Tree Size Median\", fontsize = 12)\n",
    "#new_labels = [\"Omit Zero Transitions\",\"Standard Teacher\",\"Teacher Filter\"]\n",
    "#for t, l in zip(ax._legend.texts, new_labels):\n",
    "#    t.set_text(l)"
   ]
  },
  {
   "cell_type": "code",
   "execution_count": null,
   "metadata": {},
   "outputs": [],
   "source": []
  }
 ],
 "metadata": {
  "interpreter": {
   "hash": "ccd85e264f409eb34496ed1f618ace649acf293164c04c6c014b744b9959793c"
  },
  "kernelspec": {
   "display_name": "Python 3 (ipykernel)",
   "language": "python",
   "name": "python3"
  },
  "language_info": {
   "codemirror_mode": {
    "name": "ipython",
    "version": 3
   },
   "file_extension": ".py",
   "mimetype": "text/x-python",
   "name": "python",
   "nbconvert_exporter": "python",
   "pygments_lexer": "ipython3",
   "version": "3.9.7"
  }
 },
 "nbformat": 4,
 "nbformat_minor": 2
}
