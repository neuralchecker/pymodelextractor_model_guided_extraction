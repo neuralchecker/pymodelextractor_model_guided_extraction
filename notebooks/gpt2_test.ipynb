{
 "cells": [
  {
   "cell_type": "markdown",
   "metadata": {},
   "source": [
    "Load the LLM, in this case we are using gpt2"
   ]
  },
  {
   "cell_type": "code",
   "execution_count": 1,
   "metadata": {},
   "outputs": [],
   "source": [
    "#!pip install transformers"
   ]
  },
  {
   "cell_type": "code",
   "execution_count": 2,
   "metadata": {},
   "outputs": [
    {
     "name": "stdout",
     "output_type": "stream",
     "text": [
      "Requirement already satisfied: torch in c:\\users\\digital\\anaconda3\\envs\\pymodelextractor_exp\\lib\\site-packages (2.2.0)\n",
      "Requirement already satisfied: pymodelextractor in c:\\users\\digital\\anaconda3\\envs\\pymodelextractor_exp\\lib\\site-packages (0.36.2)\n",
      "Requirement already satisfied: filelock in c:\\users\\digital\\anaconda3\\envs\\pymodelextractor_exp\\lib\\site-packages (from torch) (3.13.1)\n",
      "Requirement already satisfied: typing-extensions>=4.8.0 in c:\\users\\digital\\anaconda3\\envs\\pymodelextractor_exp\\lib\\site-packages (from torch) (4.9.0)\n",
      "Requirement already satisfied: sympy in c:\\users\\digital\\anaconda3\\envs\\pymodelextractor_exp\\lib\\site-packages (from torch) (1.12)\n",
      "Requirement already satisfied: networkx in c:\\users\\digital\\anaconda3\\envs\\pymodelextractor_exp\\lib\\site-packages (from torch) (3.2.1)\n",
      "Requirement already satisfied: jinja2 in c:\\users\\digital\\anaconda3\\envs\\pymodelextractor_exp\\lib\\site-packages (from torch) (3.1.3)\n",
      "Requirement already satisfied: fsspec in c:\\users\\digital\\anaconda3\\envs\\pymodelextractor_exp\\lib\\site-packages (from torch) (2024.2.0)\n",
      "Requirement already satisfied: pythautomata==0.38.1 in c:\\users\\digital\\anaconda3\\envs\\pymodelextractor_exp\\lib\\site-packages (from pymodelextractor) (0.38.1)\n",
      "Requirement already satisfied: scikit-learn<2.0.0,>=1.2.1 in c:\\users\\digital\\anaconda3\\envs\\pymodelextractor_exp\\lib\\site-packages (from pymodelextractor) (1.4.0)\n",
      "Requirement already satisfied: graphviz in c:\\users\\digital\\anaconda3\\envs\\pymodelextractor_exp\\lib\\site-packages (from pythautomata==0.38.1->pymodelextractor) (0.20.1)\n",
      "Requirement already satisfied: numpy in c:\\users\\digital\\anaconda3\\envs\\pymodelextractor_exp\\lib\\site-packages (from pythautomata==0.38.1->pymodelextractor) (1.26.4)\n",
      "Requirement already satisfied: pydot<2.0.0,>=1.4.2 in c:\\users\\digital\\anaconda3\\envs\\pymodelextractor_exp\\lib\\site-packages (from pythautomata==0.38.1->pymodelextractor) (1.4.2)\n",
      "Requirement already satisfied: scipy<2.0.0,>=1.7.3 in c:\\users\\digital\\anaconda3\\envs\\pymodelextractor_exp\\lib\\site-packages (from pythautomata==0.38.1->pymodelextractor) (1.12.0)\n",
      "Requirement already satisfied: joblib>=1.2.0 in c:\\users\\digital\\anaconda3\\envs\\pymodelextractor_exp\\lib\\site-packages (from scikit-learn<2.0.0,>=1.2.1->pymodelextractor) (1.3.2)\n",
      "Requirement already satisfied: threadpoolctl>=2.0.0 in c:\\users\\digital\\anaconda3\\envs\\pymodelextractor_exp\\lib\\site-packages (from scikit-learn<2.0.0,>=1.2.1->pymodelextractor) (3.2.0)\n",
      "Requirement already satisfied: MarkupSafe>=2.0 in c:\\users\\digital\\anaconda3\\envs\\pymodelextractor_exp\\lib\\site-packages (from jinja2->torch) (2.1.5)\n",
      "Requirement already satisfied: mpmath>=0.19 in c:\\users\\digital\\anaconda3\\envs\\pymodelextractor_exp\\lib\\site-packages (from sympy->torch) (1.3.0)\n",
      "Requirement already satisfied: pyparsing>=2.1.4 in c:\\users\\digital\\anaconda3\\envs\\pymodelextractor_exp\\lib\\site-packages (from pydot<2.0.0,>=1.4.2->pythautomata==0.38.1->pymodelextractor) (3.1.1)\n"
     ]
    }
   ],
   "source": [
    "!pip install torch pymodelextractor"
   ]
  },
  {
   "cell_type": "code",
   "execution_count": 3,
   "metadata": {},
   "outputs": [
    {
     "name": "stdout",
     "output_type": "stream",
     "text": [
      "Requirement already satisfied: huggingface_hub in c:\\users\\digital\\anaconda3\\envs\\pymodelextractor_exp\\lib\\site-packages (0.20.3)\n",
      "Requirement already satisfied: filelock in c:\\users\\digital\\anaconda3\\envs\\pymodelextractor_exp\\lib\\site-packages (from huggingface_hub) (3.13.1)\n",
      "Requirement already satisfied: fsspec>=2023.5.0 in c:\\users\\digital\\anaconda3\\envs\\pymodelextractor_exp\\lib\\site-packages (from huggingface_hub) (2024.2.0)\n",
      "Requirement already satisfied: requests in c:\\users\\digital\\anaconda3\\envs\\pymodelextractor_exp\\lib\\site-packages (from huggingface_hub) (2.31.0)\n",
      "Requirement already satisfied: tqdm>=4.42.1 in c:\\users\\digital\\anaconda3\\envs\\pymodelextractor_exp\\lib\\site-packages (from huggingface_hub) (4.66.1)\n",
      "Requirement already satisfied: pyyaml>=5.1 in c:\\users\\digital\\anaconda3\\envs\\pymodelextractor_exp\\lib\\site-packages (from huggingface_hub) (6.0.1)\n",
      "Requirement already satisfied: typing-extensions>=3.7.4.3 in c:\\users\\digital\\anaconda3\\envs\\pymodelextractor_exp\\lib\\site-packages (from huggingface_hub) (4.9.0)\n",
      "Requirement already satisfied: packaging>=20.9 in c:\\users\\digital\\anaconda3\\envs\\pymodelextractor_exp\\lib\\site-packages (from huggingface_hub) (23.2)\n",
      "Requirement already satisfied: colorama in c:\\users\\digital\\anaconda3\\envs\\pymodelextractor_exp\\lib\\site-packages (from tqdm>=4.42.1->huggingface_hub) (0.4.6)\n",
      "Requirement already satisfied: charset-normalizer<4,>=2 in c:\\users\\digital\\anaconda3\\envs\\pymodelextractor_exp\\lib\\site-packages (from requests->huggingface_hub) (3.3.2)\n",
      "Requirement already satisfied: idna<4,>=2.5 in c:\\users\\digital\\anaconda3\\envs\\pymodelextractor_exp\\lib\\site-packages (from requests->huggingface_hub) (3.6)\n",
      "Requirement already satisfied: urllib3<3,>=1.21.1 in c:\\users\\digital\\anaconda3\\envs\\pymodelextractor_exp\\lib\\site-packages (from requests->huggingface_hub) (2.2.0)\n",
      "Requirement already satisfied: certifi>=2017.4.17 in c:\\users\\digital\\anaconda3\\envs\\pymodelextractor_exp\\lib\\site-packages (from requests->huggingface_hub) (2024.2.2)\n"
     ]
    }
   ],
   "source": [
    "!pip install -U huggingface_hub"
   ]
  },
  {
   "cell_type": "code",
   "execution_count": 4,
   "metadata": {},
   "outputs": [
    {
     "name": "stderr",
     "output_type": "stream",
     "text": [
      "c:\\Users\\Digital\\anaconda3\\envs\\pymodelextractor_exp\\lib\\site-packages\\tqdm\\auto.py:21: TqdmWarning: IProgress not found. Please update jupyter and ipywidgets. See https://ipywidgets.readthedocs.io/en/stable/user_install.html\n",
      "  from .autonotebook import tqdm as notebook_tqdm\n"
     ]
    }
   ],
   "source": [
    "import torch\n",
    "from transformers import AutoModelForCausalLM\n",
    "from transformers import AutoTokenizer\n",
    "\n",
    "torch.manual_seed(42)\n",
    "\n",
    "device = \"cuda\" if torch.cuda.is_available() else \"cpu\"\n",
    "model_id = \"gpt2\"\n",
    "\n",
    "tokenizer = AutoTokenizer.from_pretrained(model_id, use_fast=True, add_prefix_space=True, local_files_only = True)\n",
    "model = AutoModelForCausalLM.from_pretrained(model_id,\n",
    "                                            return_dict_in_generate=True,\n",
    "                                            pad_token_id=tokenizer.eos_token_id).to(device)"
   ]
  },
  {
   "cell_type": "code",
   "execution_count": 5,
   "metadata": {},
   "outputs": [],
   "source": [
    "#!pip install --upgrade pillow"
   ]
  },
  {
   "cell_type": "code",
   "execution_count": 6,
   "metadata": {},
   "outputs": [],
   "source": [
    "import sys\n",
    "sys.path.append(\"../\")"
   ]
  },
  {
   "cell_type": "code",
   "execution_count": 7,
   "metadata": {},
   "outputs": [],
   "source": [
    "#!pip install ssl"
   ]
  },
  {
   "cell_type": "code",
   "execution_count": 8,
   "metadata": {},
   "outputs": [],
   "source": [
    "from case_studies.gpt2.gpt2_probabilistic_model_wrapper import GPT2_probabilistic_model_wrapper\n",
    "from mini_relm_resources.automata_examples.man_woman_wfa import alphabet\n",
    "\n",
    "wrapper = GPT2_probabilistic_model_wrapper(50, alphabet, device, model, tokenizer)"
   ]
  },
  {
   "cell_type": "code",
   "execution_count": 9,
   "metadata": {},
   "outputs": [],
   "source": [
    "from mini_relm_resources.automata_examples.man_woman_wfa import get_man_woman_wfa\n",
    "guiding_wfa = get_man_woman_wfa(wrapper.terminal_symbol)"
   ]
  },
  {
   "cell_type": "code",
   "execution_count": 10,
   "metadata": {},
   "outputs": [],
   "source": [
    "from utilities.guiding_wfa_sequence_generator import GuidingWDFASequenceGenerator\n",
    "generator = GuidingWDFASequenceGenerator(guiding_wfa, None)"
   ]
  },
  {
   "cell_type": "code",
   "execution_count": 11,
   "metadata": {},
   "outputs": [
    {
     "data": {
      "text/plain": [
       "[The,woman,studied,music,\n",
       " The,man,studied,art,\n",
       " The,man,studied,engineering,\n",
       " The,man,studied,science,\n",
       " The,woman,studied,medicine,\n",
       " The,man,studied,medicine,\n",
       " The,man,studied,maths,\n",
       " The,woman,studied,science,\n",
       " The,woman,studied,medicine,\n",
       " The,man,studied,art]"
      ]
     },
     "execution_count": 11,
     "metadata": {},
     "output_type": "execute_result"
    }
   ],
   "source": [
    "generator.generate_words(10)"
   ]
  },
  {
   "cell_type": "code",
   "execution_count": 12,
   "metadata": {},
   "outputs": [
    {
     "data": {
      "image/svg+xml": [
       "<?xml version=\"1.0\" encoding=\"UTF-8\" standalone=\"no\"?>\n",
       "<!DOCTYPE svg PUBLIC \"-//W3C//DTD SVG 1.1//EN\"\n",
       " \"http://www.w3.org/Graphics/SVG/1.1/DTD/svg11.dtd\">\n",
       "<!-- Generated by graphviz version 9.0.0 (20230911.1827)\n",
       " -->\n",
       "<!-- Title: weighted_automaton Pages: 1 -->\n",
       "<svg width=\"946pt\" height=\"607pt\"\n",
       " viewBox=\"0.00 0.00 945.83 606.50\" xmlns=\"http://www.w3.org/2000/svg\" xmlns:xlink=\"http://www.w3.org/1999/xlink\">\n",
       "<g id=\"graph0\" class=\"graph\" transform=\"scale(1 1) rotate(0) translate(4 602.5)\">\n",
       "<title>weighted_automaton</title>\n",
       "<polygon fill=\"white\" stroke=\"none\" points=\"-4,4 -4,-602.5 941.83,-602.5 941.83,4 -4,4\"/>\n",
       "<!-- A -->\n",
       "<g id=\"node1\" class=\"node\">\n",
       "<title>A</title>\n",
       "<polygon fill=\"none\" stroke=\"black\" points=\"27,-79 0,-39.5 27,0 54,-39.5 27,-79\"/>\n",
       "<text text-anchor=\"middle\" x=\"27\" y=\"-41.95\" font-family=\"Times New Roman,serif\" font-size=\"14.00\">A</text>\n",
       "<text text-anchor=\"middle\" x=\"27\" y=\"-26.2\" font-family=\"Times New Roman,serif\" font-size=\"14.00\">0</text>\n",
       "</g>\n",
       "<!-- B -->\n",
       "<g id=\"node2\" class=\"node\">\n",
       "<title>B</title>\n",
       "<ellipse fill=\"none\" stroke=\"black\" cx=\"150.93\" cy=\"-284.5\" rx=\"27.93\" ry=\"27.93\"/>\n",
       "<text text-anchor=\"middle\" x=\"150.93\" y=\"-286.95\" font-family=\"Times New Roman,serif\" font-size=\"14.00\">B</text>\n",
       "<text text-anchor=\"middle\" x=\"150.93\" y=\"-271.2\" font-family=\"Times New Roman,serif\" font-size=\"14.00\">0</text>\n",
       "</g>\n",
       "<!-- A&#45;&gt;B -->\n",
       "<g id=\"edge1\" class=\"edge\">\n",
       "<title>A&#45;&gt;B</title>\n",
       "<path fill=\"none\" stroke=\"black\" d=\"M39.04,-61.67C60.27,-104.34 106.97,-198.17 132.47,-249.41\"/>\n",
       "<polygon fill=\"black\" stroke=\"black\" points=\"129.31,-250.92 136.9,-258.31 135.57,-247.8 129.31,-250.92\"/>\n",
       "<text text-anchor=\"middle\" x=\"88.5\" y=\"-193.95\" font-family=\"Times New Roman,serif\" font-size=\"14.00\">The&#45;1</text>\n",
       "</g>\n",
       "<!-- hole -->\n",
       "<g id=\"node3\" class=\"node\">\n",
       "<title>hole</title>\n",
       "<ellipse fill=\"none\" stroke=\"black\" cx=\"859.08\" cy=\"-229.5\" rx=\"27.93\" ry=\"27.93\"/>\n",
       "<text text-anchor=\"middle\" x=\"859.08\" y=\"-231.95\" font-family=\"Times New Roman,serif\" font-size=\"14.00\">hole</text>\n",
       "<text text-anchor=\"middle\" x=\"859.08\" y=\"-216.2\" font-family=\"Times New Roman,serif\" font-size=\"14.00\">0</text>\n",
       "</g>\n",
       "<!-- A&#45;&gt;hole -->\n",
       "<g id=\"edge2\" class=\"edge\">\n",
       "<title>A&#45;&gt;hole</title>\n",
       "<path fill=\"none\" stroke=\"black\" d=\"M51.26,-34.61C75.7,-29.91 115.34,-23.5 149.93,-23.5 149.93,-23.5 149.93,-23.5 643.9,-23.5 697.36,-23.5 719.28,-12.82 762.33,-44.5 811.03,-80.33 836.96,-148.26 849.09,-191.08\"/>\n",
       "<polygon fill=\"black\" stroke=\"black\" points=\"845.71,-191.98 851.69,-200.72 852.46,-190.15 845.71,-191.98\"/>\n",
       "<text text-anchor=\"middle\" x=\"377.22\" y=\"-151.95\" font-family=\"Times New Roman,serif\" font-size=\"14.00\">maths&#45;0</text>\n",
       "<text text-anchor=\"middle\" x=\"377.22\" y=\"-136.2\" font-family=\"Times New Roman,serif\" font-size=\"14.00\">art&#45;0</text>\n",
       "<text text-anchor=\"middle\" x=\"377.22\" y=\"-120.45\" font-family=\"Times New Roman,serif\" font-size=\"14.00\">medicine&#45;0</text>\n",
       "<text text-anchor=\"middle\" x=\"377.22\" y=\"-104.7\" font-family=\"Times New Roman,serif\" font-size=\"14.00\">engineering&#45;0</text>\n",
       "<text text-anchor=\"middle\" x=\"377.22\" y=\"-88.95\" font-family=\"Times New Roman,serif\" font-size=\"14.00\">man&#45;0</text>\n",
       "<text text-anchor=\"middle\" x=\"377.22\" y=\"-73.2\" font-family=\"Times New Roman,serif\" font-size=\"14.00\">music&#45;0</text>\n",
       "<text text-anchor=\"middle\" x=\"377.22\" y=\"-57.45\" font-family=\"Times New Roman,serif\" font-size=\"14.00\">science&#45;0</text>\n",
       "<text text-anchor=\"middle\" x=\"377.22\" y=\"-41.7\" font-family=\"Times New Roman,serif\" font-size=\"14.00\">studied&#45;0</text>\n",
       "<text text-anchor=\"middle\" x=\"377.22\" y=\"-25.95\" font-family=\"Times New Roman,serif\" font-size=\"14.00\">woman&#45;0</text>\n",
       "</g>\n",
       "<!-- B&#45;&gt;hole -->\n",
       "<g id=\"edge4\" class=\"edge\">\n",
       "<title>B&#45;&gt;hole</title>\n",
       "<path fill=\"none\" stroke=\"black\" d=\"M158.65,-311.44C173.4,-363.42 213.86,-472.5 293.54,-472.5 293.54,-472.5 293.54,-472.5 643.9,-472.5 752.31,-472.5 818.9,-334.72 845.18,-266.65\"/>\n",
       "<polygon fill=\"black\" stroke=\"black\" points=\"848.42,-267.98 848.66,-257.38 841.87,-265.51 848.42,-267.98\"/>\n",
       "<text text-anchor=\"middle\" x=\"468.72\" y=\"-585.2\" font-family=\"Times New Roman,serif\" font-size=\"14.00\">maths&#45;0</text>\n",
       "<text text-anchor=\"middle\" x=\"468.72\" y=\"-569.45\" font-family=\"Times New Roman,serif\" font-size=\"14.00\">art&#45;0</text>\n",
       "<text text-anchor=\"middle\" x=\"468.72\" y=\"-553.7\" font-family=\"Times New Roman,serif\" font-size=\"14.00\">medicine&#45;0</text>\n",
       "<text text-anchor=\"middle\" x=\"468.72\" y=\"-537.95\" font-family=\"Times New Roman,serif\" font-size=\"14.00\">engineering&#45;0</text>\n",
       "<text text-anchor=\"middle\" x=\"468.72\" y=\"-522.2\" font-family=\"Times New Roman,serif\" font-size=\"14.00\">The&#45;0</text>\n",
       "<text text-anchor=\"middle\" x=\"468.72\" y=\"-506.45\" font-family=\"Times New Roman,serif\" font-size=\"14.00\">music&#45;0</text>\n",
       "<text text-anchor=\"middle\" x=\"468.72\" y=\"-490.7\" font-family=\"Times New Roman,serif\" font-size=\"14.00\">science&#45;0</text>\n",
       "<text text-anchor=\"middle\" x=\"468.72\" y=\"-474.95\" font-family=\"Times New Roman,serif\" font-size=\"14.00\">studied&#45;0</text>\n",
       "</g>\n",
       "<!-- C -->\n",
       "<g id=\"node4\" class=\"node\">\n",
       "<title>C</title>\n",
       "<ellipse fill=\"none\" stroke=\"black\" cx=\"294.54\" cy=\"-284.5\" rx=\"27.93\" ry=\"27.93\"/>\n",
       "<text text-anchor=\"middle\" x=\"294.54\" y=\"-286.95\" font-family=\"Times New Roman,serif\" font-size=\"14.00\">C</text>\n",
       "<text text-anchor=\"middle\" x=\"294.54\" y=\"-271.2\" font-family=\"Times New Roman,serif\" font-size=\"14.00\">0</text>\n",
       "</g>\n",
       "<!-- B&#45;&gt;C -->\n",
       "<g id=\"edge3\" class=\"edge\">\n",
       "<title>B&#45;&gt;C</title>\n",
       "<path fill=\"none\" stroke=\"black\" d=\"M179.23,-284.5C200.78,-284.5 231.11,-284.5 255.11,-284.5\"/>\n",
       "<polygon fill=\"black\" stroke=\"black\" points=\"254.81,-288 264.81,-284.5 254.81,-281 254.81,-288\"/>\n",
       "<text text-anchor=\"middle\" x=\"222.74\" y=\"-302.7\" font-family=\"Times New Roman,serif\" font-size=\"14.00\">man&#45;1</text>\n",
       "<text text-anchor=\"middle\" x=\"222.74\" y=\"-286.95\" font-family=\"Times New Roman,serif\" font-size=\"14.00\">woman&#45;1</text>\n",
       "</g>\n",
       "<!-- hole&#45;&gt;hole -->\n",
       "<g id=\"edge10\" class=\"edge\">\n",
       "<title>hole&#45;&gt;hole</title>\n",
       "<path fill=\"none\" stroke=\"black\" d=\"M837.29,-247.42C829.13,-261.28 836.4,-275.43 859.08,-275.43 875.74,-275.43 884.09,-267.8 884.12,-258.26\"/>\n",
       "<polygon fill=\"black\" stroke=\"black\" points=\"887.53,-257.45 881.32,-248.87 880.82,-259.45 887.53,-257.45\"/>\n",
       "<text text-anchor=\"middle\" x=\"859.08\" y=\"-419.63\" font-family=\"Times New Roman,serif\" font-size=\"14.00\">maths&#45;0</text>\n",
       "<text text-anchor=\"middle\" x=\"859.08\" y=\"-403.88\" font-family=\"Times New Roman,serif\" font-size=\"14.00\">art&#45;0</text>\n",
       "<text text-anchor=\"middle\" x=\"859.08\" y=\"-388.13\" font-family=\"Times New Roman,serif\" font-size=\"14.00\">medicine&#45;0</text>\n",
       "<text text-anchor=\"middle\" x=\"859.08\" y=\"-372.38\" font-family=\"Times New Roman,serif\" font-size=\"14.00\">engineering&#45;0</text>\n",
       "<text text-anchor=\"middle\" x=\"859.08\" y=\"-356.63\" font-family=\"Times New Roman,serif\" font-size=\"14.00\">The&#45;0</text>\n",
       "<text text-anchor=\"middle\" x=\"859.08\" y=\"-340.88\" font-family=\"Times New Roman,serif\" font-size=\"14.00\">man&#45;0</text>\n",
       "<text text-anchor=\"middle\" x=\"859.08\" y=\"-325.13\" font-family=\"Times New Roman,serif\" font-size=\"14.00\">music&#45;0</text>\n",
       "<text text-anchor=\"middle\" x=\"859.08\" y=\"-309.38\" font-family=\"Times New Roman,serif\" font-size=\"14.00\">science&#45;0</text>\n",
       "<text text-anchor=\"middle\" x=\"859.08\" y=\"-293.63\" font-family=\"Times New Roman,serif\" font-size=\"14.00\">studied&#45;0</text>\n",
       "<text text-anchor=\"middle\" x=\"859.08\" y=\"-277.88\" font-family=\"Times New Roman,serif\" font-size=\"14.00\">woman&#45;0</text>\n",
       "</g>\n",
       "<!-- C&#45;&gt;hole -->\n",
       "<g id=\"edge6\" class=\"edge\">\n",
       "<title>C&#45;&gt;hole</title>\n",
       "<path fill=\"none\" stroke=\"black\" d=\"M322.64,-288.77C384.75,-297.79 541.97,-316.23 670.83,-294.5 725.81,-285.23 786.19,-261.66 823.13,-245.6\"/>\n",
       "<polygon fill=\"black\" stroke=\"black\" points=\"824.23,-248.94 831.96,-241.7 821.4,-242.54 824.23,-248.94\"/>\n",
       "<text text-anchor=\"middle\" x=\"560.22\" y=\"-432.95\" font-family=\"Times New Roman,serif\" font-size=\"14.00\">maths&#45;0</text>\n",
       "<text text-anchor=\"middle\" x=\"560.22\" y=\"-417.2\" font-family=\"Times New Roman,serif\" font-size=\"14.00\">art&#45;0</text>\n",
       "<text text-anchor=\"middle\" x=\"560.22\" y=\"-401.45\" font-family=\"Times New Roman,serif\" font-size=\"14.00\">medicine&#45;0</text>\n",
       "<text text-anchor=\"middle\" x=\"560.22\" y=\"-385.7\" font-family=\"Times New Roman,serif\" font-size=\"14.00\">engineering&#45;0</text>\n",
       "<text text-anchor=\"middle\" x=\"560.22\" y=\"-369.95\" font-family=\"Times New Roman,serif\" font-size=\"14.00\">The&#45;0</text>\n",
       "<text text-anchor=\"middle\" x=\"560.22\" y=\"-354.2\" font-family=\"Times New Roman,serif\" font-size=\"14.00\">man&#45;0</text>\n",
       "<text text-anchor=\"middle\" x=\"560.22\" y=\"-338.45\" font-family=\"Times New Roman,serif\" font-size=\"14.00\">music&#45;0</text>\n",
       "<text text-anchor=\"middle\" x=\"560.22\" y=\"-322.7\" font-family=\"Times New Roman,serif\" font-size=\"14.00\">science&#45;0</text>\n",
       "<text text-anchor=\"middle\" x=\"560.22\" y=\"-306.95\" font-family=\"Times New Roman,serif\" font-size=\"14.00\">woman&#45;0</text>\n",
       "</g>\n",
       "<!-- D -->\n",
       "<g id=\"node5\" class=\"node\">\n",
       "<title>D</title>\n",
       "<ellipse fill=\"none\" stroke=\"black\" cx=\"468.72\" cy=\"-224.5\" rx=\"27.93\" ry=\"27.93\"/>\n",
       "<text text-anchor=\"middle\" x=\"468.72\" y=\"-226.95\" font-family=\"Times New Roman,serif\" font-size=\"14.00\">D</text>\n",
       "<text text-anchor=\"middle\" x=\"468.72\" y=\"-211.2\" font-family=\"Times New Roman,serif\" font-size=\"14.00\">0</text>\n",
       "</g>\n",
       "<!-- C&#45;&gt;D -->\n",
       "<g id=\"edge5\" class=\"edge\">\n",
       "<title>C&#45;&gt;D</title>\n",
       "<path fill=\"none\" stroke=\"black\" d=\"M321.32,-275.52C350.48,-265.35 398.2,-248.73 431.19,-237.23\"/>\n",
       "<polygon fill=\"black\" stroke=\"black\" points=\"432.05,-240.64 440.34,-234.04 429.75,-234.03 432.05,-240.64\"/>\n",
       "<text text-anchor=\"middle\" x=\"377.22\" y=\"-269.95\" font-family=\"Times New Roman,serif\" font-size=\"14.00\">studied&#45;1</text>\n",
       "</g>\n",
       "<!-- D&#45;&gt;hole -->\n",
       "<g id=\"edge8\" class=\"edge\">\n",
       "<title>D&#45;&gt;hole</title>\n",
       "<path fill=\"none\" stroke=\"black\" d=\"M497.03,-224.85C564.86,-225.72 741.15,-227.99 819.54,-229\"/>\n",
       "<polygon fill=\"black\" stroke=\"black\" points=\"819.25,-232.5 829.29,-229.13 819.34,-225.5 819.25,-232.5\"/>\n",
       "<text text-anchor=\"middle\" x=\"642.9\" y=\"-277.2\" font-family=\"Times New Roman,serif\" font-size=\"14.00\">The&#45;0</text>\n",
       "<text text-anchor=\"middle\" x=\"642.9\" y=\"-261.45\" font-family=\"Times New Roman,serif\" font-size=\"14.00\">man&#45;0</text>\n",
       "<text text-anchor=\"middle\" x=\"642.9\" y=\"-245.7\" font-family=\"Times New Roman,serif\" font-size=\"14.00\">studied&#45;0</text>\n",
       "<text text-anchor=\"middle\" x=\"642.9\" y=\"-229.95\" font-family=\"Times New Roman,serif\" font-size=\"14.00\">woman&#45;0</text>\n",
       "</g>\n",
       "<!-- E -->\n",
       "<g id=\"node6\" class=\"node\">\n",
       "<title>E</title>\n",
       "<ellipse fill=\"none\" stroke=\"black\" cx=\"642.9\" cy=\"-89.5\" rx=\"27.93\" ry=\"27.93\"/>\n",
       "<text text-anchor=\"middle\" x=\"642.9\" y=\"-91.95\" font-family=\"Times New Roman,serif\" font-size=\"14.00\">E</text>\n",
       "<text text-anchor=\"middle\" x=\"642.9\" y=\"-76.2\" font-family=\"Times New Roman,serif\" font-size=\"14.00\">1</text>\n",
       "</g>\n",
       "<!-- D&#45;&gt;E -->\n",
       "<g id=\"edge7\" class=\"edge\">\n",
       "<title>D&#45;&gt;E</title>\n",
       "<path fill=\"none\" stroke=\"black\" d=\"M475.97,-197.51C483.18,-172.57 497.51,-136.38 523.47,-116 546.08,-98.26 578.22,-91.9 603.31,-89.83\"/>\n",
       "<polygon fill=\"black\" stroke=\"black\" points=\"603.36,-93.33 613.13,-89.23 602.93,-86.35 603.36,-93.33\"/>\n",
       "<text text-anchor=\"middle\" x=\"560.22\" y=\"-197.7\" font-family=\"Times New Roman,serif\" font-size=\"14.00\">medicine&#45;1</text>\n",
       "<text text-anchor=\"middle\" x=\"560.22\" y=\"-181.95\" font-family=\"Times New Roman,serif\" font-size=\"14.00\">science&#45;1</text>\n",
       "<text text-anchor=\"middle\" x=\"560.22\" y=\"-166.2\" font-family=\"Times New Roman,serif\" font-size=\"14.00\">engineering&#45;1</text>\n",
       "<text text-anchor=\"middle\" x=\"560.22\" y=\"-150.45\" font-family=\"Times New Roman,serif\" font-size=\"14.00\">maths&#45;1</text>\n",
       "<text text-anchor=\"middle\" x=\"560.22\" y=\"-134.7\" font-family=\"Times New Roman,serif\" font-size=\"14.00\">art&#45;1</text>\n",
       "<text text-anchor=\"middle\" x=\"560.22\" y=\"-118.95\" font-family=\"Times New Roman,serif\" font-size=\"14.00\">music&#45;1</text>\n",
       "</g>\n",
       "<!-- E&#45;&gt;hole -->\n",
       "<g id=\"edge9\" class=\"edge\">\n",
       "<title>E&#45;&gt;hole</title>\n",
       "<path fill=\"none\" stroke=\"black\" d=\"M664.4,-71.19C671.61,-65.87 680.11,-60.75 688.83,-58 719.99,-48.17 734.16,-41.46 762.33,-58 810.99,-86.56 836.75,-149.83 848.88,-191.03\"/>\n",
       "<polygon fill=\"black\" stroke=\"black\" points=\"845.48,-191.86 851.54,-200.55 852.22,-189.98 845.48,-191.86\"/>\n",
       "<text text-anchor=\"middle\" x=\"725.58\" y=\"-202.7\" font-family=\"Times New Roman,serif\" font-size=\"14.00\">maths&#45;0</text>\n",
       "<text text-anchor=\"middle\" x=\"725.58\" y=\"-186.95\" font-family=\"Times New Roman,serif\" font-size=\"14.00\">art&#45;0</text>\n",
       "<text text-anchor=\"middle\" x=\"725.58\" y=\"-171.2\" font-family=\"Times New Roman,serif\" font-size=\"14.00\">medicine&#45;0</text>\n",
       "<text text-anchor=\"middle\" x=\"725.58\" y=\"-155.45\" font-family=\"Times New Roman,serif\" font-size=\"14.00\">engineering&#45;0</text>\n",
       "<text text-anchor=\"middle\" x=\"725.58\" y=\"-139.7\" font-family=\"Times New Roman,serif\" font-size=\"14.00\">The&#45;0</text>\n",
       "<text text-anchor=\"middle\" x=\"725.58\" y=\"-123.95\" font-family=\"Times New Roman,serif\" font-size=\"14.00\">man&#45;0</text>\n",
       "<text text-anchor=\"middle\" x=\"725.58\" y=\"-108.2\" font-family=\"Times New Roman,serif\" font-size=\"14.00\">music&#45;0</text>\n",
       "<text text-anchor=\"middle\" x=\"725.58\" y=\"-92.45\" font-family=\"Times New Roman,serif\" font-size=\"14.00\">science&#45;0</text>\n",
       "<text text-anchor=\"middle\" x=\"725.58\" y=\"-76.7\" font-family=\"Times New Roman,serif\" font-size=\"14.00\">studied&#45;0</text>\n",
       "<text text-anchor=\"middle\" x=\"725.58\" y=\"-60.95\" font-family=\"Times New Roman,serif\" font-size=\"14.00\">woman&#45;0</text>\n",
       "</g>\n",
       "</g>\n",
       "</svg>\n"
      ],
      "text/plain": [
       "<graphviz.graphs.Digraph at 0x1c2984e0d30>"
      ]
     },
     "metadata": {},
     "output_type": "display_data"
    }
   ],
   "source": [
    "from pythautomata.model_exporters.dot_exporters.wfa_dot_exporting_strategy import WFADotExportingStrategy\n",
    "from IPython.display import display\n",
    "\n",
    "exporter = WFADotExportingStrategy()\n",
    "graph = exporter.create_graph(guiding_wfa)\n",
    "\n",
    "display(graph)"
   ]
  },
  {
   "cell_type": "code",
   "execution_count": 13,
   "metadata": {},
   "outputs": [],
   "source": [
    "from utilities.syncronic_model_guided_language_model import SyncronicModelGuidedLanguageModel\n",
    "from mini_relm_resources.automata_examples.man_woman_wfa import get_man_woman_wfa\n",
    "property_model = get_man_woman_wfa(wrapper.terminal_symbol)\n",
    "syncrhronic_model = SyncronicModelGuidedLanguageModel(wrapper, property_model, model_name=\"GUIDED_GPT2\", max_seq_length=10)"
   ]
  },
  {
   "cell_type": "code",
   "execution_count": 14,
   "metadata": {},
   "outputs": [],
   "source": [
    "from pymodelextractor.teachers.pac_probabilistic_teacher import PACProbabilisticTeacher\n",
    "from pymodelextractor.learners.observation_tree_learners.bounded_pdfa_quantization_n_ary_tree_learner import BoundedPDFAQuantizationNAryTreeLearner\n",
    "from pythautomata.utilities.probability_partitioner import TopKProbabilityPartitioner, QuantizationProbabilityPartitioner, RankingPartitioner\n",
    "from pythautomata.model_comparators.wfa_partition_comparison_strategy import WFAPartitionComparator\n",
    "from pythautomata.utilities.uniform_word_sequence_generator import UniformWordSequenceGenerator\n",
    "partitioner = QuantizationProbabilityPartitioner(10)\n",
    "comparator = WFAPartitionComparator(partitioner)\n",
    "epsilon = 0.1\n",
    "delta = epsilon\n",
    "sequence_generator = generator\n",
    "max_states = 10\n",
    "max_query_length = 10\n"
   ]
  },
  {
   "cell_type": "code",
   "execution_count": 15,
   "metadata": {},
   "outputs": [],
   "source": [
    "teacher  = PACProbabilisticTeacher(syncrhronic_model, epsilon = epsilon, delta = delta, max_seq_length = None, comparator = comparator, sequence_generator=sequence_generator, compute_epsilon_star=False)\n",
    "learner = BoundedPDFAQuantizationNAryTreeLearner(partitioner, max_states, max_query_length, None, generate_partial_hipothesis = True, pre_cache_queries_for_building_hipothesis = True,  check_probabilistic_hipothesis = False)"
   ]
  },
  {
   "cell_type": "code",
   "execution_count": 16,
   "metadata": {},
   "outputs": [
    {
     "name": "stderr",
     "output_type": "stream",
     "text": [
      "We strongly recommend passing in an `attention_mask` since your input_ids may be padded. See https://huggingface.co/docs/transformers/troubleshooting#incorrect-output-when-padding-tokens-arent-masked.\n",
      "You may ignore this warning if your `pad_token_id` (50256) is identical to the `bos_token_id` (50256), `eos_token_id` (50256), or the `sep_token_id` (None), and your input is not padded.\n"
     ]
    },
    {
     "name": "stdout",
     "output_type": "stream",
     "text": [
      "[0.04574393916631516, 0.8960332818254049, 0.001619381634901423, 8.812250230390246e-05, 0.0062237532587543455, 0.04718412197273498, 0.002075388842913763, 0.00032805240811752665, 0.00030460959996819975, 0.00015592336473933488, 0.0002434254238465089] [0, 1, 0, 0, 0, 0, 0, 0, 0, 0, 0]\n",
      "[0.40289263328594505, 0.02194084125338335, 0.041914323999251615, 0.003204878924567717, 0.008062168437993067, 0.20153499326332777, 0.11958741717872891, 0.052551288133534345, 0.11126551560592197, 0.011291937707357619, 0.025754002209988622] [1, 0, 0, 0, 0, 0, 0, 0, 0, 0, 0]\n",
      "[0.04574393916631516, 0.8960332818254049, 0.001619381634901423, 8.812250230390246e-05, 0.0062237532587543455, 0.04718412197273498, 0.002075388842913763, 0.00032805240811752665, 0.00030460959996819975, 0.00015592336473933488, 0.0002434254238465089] [0, 1, 0, 0, 0, 0, 0, 0, 0, 0, 0]\n",
      "[0.40289263328594505, 0.20153499326332777, 0.041914323999251615, 0.008062168437993067, 0.11958741717872891, 0.02194084125338335, 0.003204878924567717, 0.052551288133534345, 0.11126551560592197, 0.011291937707357619, 0.025754002209988622] [1, 0, 0, 0, 0, 0, 0, 0, 0, 0, 0]\n",
      "[0.15117429585362813, 0.06901806054957753, 0.021055421600654343, 0.0008139071670988237, 0.11102928108382255, 0.5658441454139317, 0.06600840155963839, 0.001686430834432757, 0.0044803596335780795, 0.001924495613083588, 0.006965200690554172] [0, 0, 0, 0, 1, 0, 0, 0, 0, 0, 1]\n",
      "[0, 0, 0, 0, 0, 0, 0, 0, 0, 1, 0] [0.34452091330655454, 0.36695607110814993, 0.011602191866699064, 9.316783406624483e-05, 0.22280797525161963, 0.025766916118039957, 0.023099784512082038, 0.0015478369844163235, 0.00014128682058807244, 0.0005142491958460972, 0.00294960700193811]\n",
      "[0, 0, 0, 0, 0, 0, 0, 0, 0, 1, 0] [0.38376335454367216, 0.36611969622469837, 0.021346359032993454, 2.72043315773893e-05, 0.06302397495484907, 0.095693297029905, 0.030082757475104256, 0.0032439348288261015, 0.00016664673563179563, 0.000552593098004456, 0.0359801817447379]\n"
     ]
    },
    {
     "ename": "TypeError",
     "evalue": "'int' object is not iterable",
     "output_type": "error",
     "traceback": [
      "\u001b[1;31m---------------------------------------------------------------------------\u001b[0m",
      "\u001b[1;31mTypeError\u001b[0m                                 Traceback (most recent call last)",
      "Cell \u001b[1;32mIn[16], line 1\u001b[0m\n\u001b[1;32m----> 1\u001b[0m learning_result \u001b[38;5;241m=\u001b[39m \u001b[43mlearner\u001b[49m\u001b[38;5;241;43m.\u001b[39;49m\u001b[43mlearn\u001b[49m\u001b[43m(\u001b[49m\u001b[43mteacher\u001b[49m\u001b[43m,\u001b[49m\u001b[43m \u001b[49m\u001b[43mverbose\u001b[49m\u001b[38;5;241;43m=\u001b[39;49m\u001b[38;5;28;43;01mTrue\u001b[39;49;00m\u001b[43m)\u001b[49m\n",
      "File \u001b[1;32mc:\\Users\\Digital\\anaconda3\\envs\\pymodelextractor_exp\\lib\\site-packages\\pymodelextractor\\learners\\observation_tree_learners\\bounded_pdfa_quantization_n_ary_tree_learner.py:50\u001b[0m, in \u001b[0;36mBoundedPDFAQuantizationNAryTreeLearner.learn\u001b[1;34m(self, teacher, verbose)\u001b[0m\n\u001b[0;32m     48\u001b[0m         \u001b[38;5;28mself\u001b[39m\u001b[38;5;241m.\u001b[39mrun_learning_with_time_bound(teacher, verbose)\n\u001b[0;32m     49\u001b[0m     \u001b[38;5;28;01melse\u001b[39;00m:\n\u001b[1;32m---> 50\u001b[0m         \u001b[38;5;28;43msuper\u001b[39;49m\u001b[43m(\u001b[49m\u001b[43m)\u001b[49m\u001b[38;5;241;43m.\u001b[39;49m\u001b[43mlearn\u001b[49m\u001b[43m(\u001b[49m\u001b[43mteacher\u001b[49m\u001b[43m,\u001b[49m\u001b[43m \u001b[49m\u001b[43mverbose\u001b[49m\u001b[43m)\u001b[49m\n\u001b[0;32m     51\u001b[0m \u001b[38;5;28;01mexcept\u001b[39;00m NumberOfStatesExceededException:\n\u001b[0;32m     52\u001b[0m     \u001b[38;5;28;01mif\u001b[39;00m verbose: \u001b[38;5;28mprint\u001b[39m(\u001b[38;5;124m\"\u001b[39m\u001b[38;5;124mNumberOfStatesExceeded\u001b[39m\u001b[38;5;124m\"\u001b[39m)\n",
      "File \u001b[1;32mc:\\Users\\Digital\\anaconda3\\envs\\pymodelextractor_exp\\lib\\site-packages\\pymodelextractor\\learners\\observation_tree_learners\\pdfa_quantization_n_ary_tree_learner.py:83\u001b[0m, in \u001b[0;36mPDFAQuantizationNAryTreeLearner.learn\u001b[1;34m(self, teacher, verbose)\u001b[0m\n\u001b[0;32m     80\u001b[0m \u001b[38;5;28;01mfor\u001b[39;00m symbol \u001b[38;5;129;01min\u001b[39;00m symbols:\n\u001b[0;32m     81\u001b[0m     \u001b[38;5;28mself\u001b[39m\u001b[38;5;241m.\u001b[39m_tree\u001b[38;5;241m.\u001b[39msift(Sequence([symbol]))\n\u001b[1;32m---> 83\u001b[0m model \u001b[38;5;241m=\u001b[39m \u001b[38;5;28;43mself\u001b[39;49m\u001b[38;5;241;43m.\u001b[39;49m\u001b[43mtentative_hypothesis\u001b[49m\u001b[43m(\u001b[49m\u001b[43m)\u001b[49m\n\u001b[0;32m     84\u001b[0m models\u001b[38;5;241m.\u001b[39mappend(model)\n\u001b[0;32m     85\u001b[0m last_size \u001b[38;5;241m=\u001b[39m \u001b[38;5;28mlen\u001b[39m(model\u001b[38;5;241m.\u001b[39mweighted_states)\n",
      "File \u001b[1;32mc:\\Users\\Digital\\anaconda3\\envs\\pymodelextractor_exp\\lib\\site-packages\\pymodelextractor\\learners\\observation_tree_learners\\pdfa_quantization_n_ary_tree_learner.py:135\u001b[0m, in \u001b[0;36mPDFAQuantizationNAryTreeLearner.tentative_hypothesis\u001b[1;34m(self)\u001b[0m\n\u001b[0;32m    133\u001b[0m \u001b[38;5;28;01mwhile\u001b[39;00m updated_tree:\n\u001b[0;32m    134\u001b[0m     \u001b[38;5;28;01mif\u001b[39;00m \u001b[38;5;28mself\u001b[39m\u001b[38;5;241m.\u001b[39m_pre_cache_queries_for_building_hipothesis:\n\u001b[1;32m--> 135\u001b[0m         \u001b[38;5;28;43mself\u001b[39;49m\u001b[38;5;241;43m.\u001b[39;49m\u001b[43m_tree\u001b[49m\u001b[38;5;241;43m.\u001b[39;49m\u001b[43mcache_queries_for_building_hipothesis\u001b[49m\u001b[43m(\u001b[49m\u001b[43m)\u001b[49m\n\u001b[0;32m    137\u001b[0m     \u001b[38;5;28;01mfor\u001b[39;00m leaf_str, leaf \u001b[38;5;129;01min\u001b[39;00m \u001b[38;5;28mself\u001b[39m\u001b[38;5;241m.\u001b[39m_tree\u001b[38;5;241m.\u001b[39mleaves\u001b[38;5;241m.\u001b[39mitems():\n\u001b[0;32m    138\u001b[0m         initial_weight \u001b[38;5;241m=\u001b[39m \u001b[38;5;241m1\u001b[39m \u001b[38;5;28;01mif\u001b[39;00m leaf_str \u001b[38;5;241m==\u001b[39m epsilon \u001b[38;5;28;01melse\u001b[39;00m \u001b[38;5;241m0\u001b[39m\n",
      "File \u001b[1;32mc:\\Users\\Digital\\anaconda3\\envs\\pymodelextractor_exp\\lib\\site-packages\\pymodelextractor\\learners\\observation_tree_learners\\pdfa_quantization_n_ary_tree_learner.py:235\u001b[0m, in \u001b[0;36mClassificationTree.cache_queries_for_building_hipothesis\u001b[1;34m(self)\u001b[0m\n\u001b[0;32m    233\u001b[0m                 queries\u001b[38;5;241m.\u001b[39madd(query)\n\u001b[0;32m    234\u001b[0m \u001b[38;5;28;01mif\u001b[39;00m \u001b[38;5;28mlen\u001b[39m(queries)\u001b[38;5;241m>\u001b[39m\u001b[38;5;241m0\u001b[39m:\n\u001b[1;32m--> 235\u001b[0m     results \u001b[38;5;241m=\u001b[39m \u001b[38;5;28;43mself\u001b[39;49m\u001b[38;5;241;43m.\u001b[39;49m\u001b[43m_teacher\u001b[49m\u001b[38;5;241;43m.\u001b[39;49m\u001b[43mnext_token_probabilities_batch\u001b[49m\u001b[43m(\u001b[49m\u001b[43mqueries\u001b[49m\u001b[43m)\u001b[49m\n\u001b[0;32m    236\u001b[0m     \u001b[38;5;28mself\u001b[39m\u001b[38;5;241m.\u001b[39m_next_token_probabilities_cache\u001b[38;5;241m.\u001b[39mupdate(results)\n",
      "File \u001b[1;32mc:\\Users\\Digital\\anaconda3\\envs\\pymodelextractor_exp\\lib\\site-packages\\pymodelextractor\\teachers\\probabilistic_teacher.py:107\u001b[0m, in \u001b[0;36mProbabilisticTeacher.next_token_probabilities_batch\u001b[1;34m(self, sequences)\u001b[0m\n\u001b[0;32m    105\u001b[0m \u001b[38;5;28;01melse\u001b[39;00m:        \n\u001b[0;32m    106\u001b[0m     results \u001b[38;5;241m=\u001b[39m \u001b[38;5;28mself\u001b[39m\u001b[38;5;241m.\u001b[39m_target_model\u001b[38;5;241m.\u001b[39mget_last_token_weights_batch(sequences, symbols)\n\u001b[1;32m--> 107\u001b[0m     results_od \u001b[38;5;241m=\u001b[39m [OrderedDict(\u001b[38;5;28mzip\u001b[39m(symbols, x)) \u001b[38;5;28;01mfor\u001b[39;00m x \u001b[38;5;129;01min\u001b[39;00m results]\n\u001b[0;32m    108\u001b[0m     final_results \u001b[38;5;241m=\u001b[39m \u001b[38;5;28mzip\u001b[39m(sequences, results_od)\n\u001b[0;32m    109\u001b[0m \u001b[38;5;28;01mreturn\u001b[39;00m final_results\n",
      "File \u001b[1;32mc:\\Users\\Digital\\anaconda3\\envs\\pymodelextractor_exp\\lib\\site-packages\\pymodelextractor\\teachers\\probabilistic_teacher.py:107\u001b[0m, in \u001b[0;36m<listcomp>\u001b[1;34m(.0)\u001b[0m\n\u001b[0;32m    105\u001b[0m \u001b[38;5;28;01melse\u001b[39;00m:        \n\u001b[0;32m    106\u001b[0m     results \u001b[38;5;241m=\u001b[39m \u001b[38;5;28mself\u001b[39m\u001b[38;5;241m.\u001b[39m_target_model\u001b[38;5;241m.\u001b[39mget_last_token_weights_batch(sequences, symbols)\n\u001b[1;32m--> 107\u001b[0m     results_od \u001b[38;5;241m=\u001b[39m [OrderedDict(\u001b[38;5;28;43mzip\u001b[39;49m\u001b[43m(\u001b[49m\u001b[43msymbols\u001b[49m\u001b[43m,\u001b[49m\u001b[43m \u001b[49m\u001b[43mx\u001b[49m\u001b[43m)\u001b[49m) \u001b[38;5;28;01mfor\u001b[39;00m x \u001b[38;5;129;01min\u001b[39;00m results]\n\u001b[0;32m    108\u001b[0m     final_results \u001b[38;5;241m=\u001b[39m \u001b[38;5;28mzip\u001b[39m(sequences, results_od)\n\u001b[0;32m    109\u001b[0m \u001b[38;5;28;01mreturn\u001b[39;00m final_results\n",
      "\u001b[1;31mTypeError\u001b[0m: 'int' object is not iterable"
     ]
    }
   ],
   "source": [
    "learning_result = learner.learn(teacher, verbose=True)"
   ]
  },
  {
   "cell_type": "code",
   "execution_count": null,
   "metadata": {},
   "outputs": [],
   "source": []
  },
  {
   "cell_type": "code",
   "execution_count": null,
   "metadata": {},
   "outputs": [],
   "source": [
    "from pythautomata.model_exporters.dot_exporters.wfa_dot_exporting_strategy import WFADotExportingStrategy\n",
    "from IPython.display import display\n",
    "\n",
    "exporter = WFADotExportingStrategy()\n",
    "graph = exporter.create_graph(learning_result.model)\n",
    "\n",
    "display(graph)"
   ]
  },
  {
   "cell_type": "code",
   "execution_count": null,
   "metadata": {},
   "outputs": [],
   "source": []
  }
 ],
 "metadata": {
  "kernelspec": {
   "display_name": "pymodelextractor_exp",
   "language": "python",
   "name": "python3"
  },
  "language_info": {
   "codemirror_mode": {
    "name": "ipython",
    "version": 3
   },
   "file_extension": ".py",
   "mimetype": "text/x-python",
   "name": "python",
   "nbconvert_exporter": "python",
   "pygments_lexer": "ipython3",
   "version": "3.9.18"
  }
 },
 "nbformat": 4,
 "nbformat_minor": 2
}
