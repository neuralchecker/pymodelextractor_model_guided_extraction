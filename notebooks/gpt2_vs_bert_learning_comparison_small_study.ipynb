{
 "cells": [
  {
   "cell_type": "markdown",
   "metadata": {},
   "source": [
    "Imports and model name"
   ]
  },
  {
   "cell_type": "code",
   "execution_count": 1,
   "metadata": {},
   "outputs": [
    {
     "name": "stderr",
     "output_type": "stream",
     "text": [
      "e:\\Downloads\\Programs\\conda\\envs\\GuidedNeuralChecker\\lib\\site-packages\\tqdm\\auto.py:21: TqdmWarning: IProgress not found. Please update jupyter and ipywidgets. See https://ipywidgets.readthedocs.io/en/stable/user_install.html\n",
      "  from .autonotebook import tqdm as notebook_tqdm\n"
     ]
    }
   ],
   "source": [
    "from transformers import AutoTokenizer\n",
    "\n",
    "gpt2_model_id = \"gpt2\"\n",
    "bert_model_id = \"prajjwal1/bert-small\""
   ]
  },
  {
   "cell_type": "markdown",
   "metadata": {},
   "source": [
    "Defining tokenizers"
   ]
  },
  {
   "cell_type": "code",
   "execution_count": 2,
   "metadata": {},
   "outputs": [],
   "source": [
    "gpt2_tokenizer_w_ps = AutoTokenizer.from_pretrained(gpt2_model_id, use_fast=True, add_prefix_space=True)\n",
    "gpt2_tokenizer = AutoTokenizer.from_pretrained(gpt2_model_id, use_fast=True, add_prefix_space=False)\n",
    "bert_tokenizer = AutoTokenizer.from_pretrained(bert_model_id, use_fast=True, add_prefix_space=False)"
   ]
  },
  {
   "cell_type": "code",
   "execution_count": 3,
   "metadata": {},
   "outputs": [],
   "source": [
    "def decode_sequence(sequence, tokenizer):\n",
    "    decoded_sequence = []\n",
    "    for token in sequence:\n",
    "        decoded_sequence.append(tokenizer.decode(token))\n",
    "    return decoded_sequence"
   ]
  },
  {
   "cell_type": "code",
   "execution_count": 4,
   "metadata": {},
   "outputs": [],
   "source": [
    "def test_tokenizers(string, gpt2_tokenizer_w_ps, gpt2_tokenizer, bert_tokenizer):\n",
    "    print(f\"String: {string}\")\n",
    "    print(\" \")\n",
    "    encoded_string1 = gpt2_tokenizer_w_ps.encode(string)\n",
    "    print(f\"Encoded sequence using GPT-2 tokenizer with prefix space: {encoded_string1}\")\n",
    "    print(f\"Decoded sequence using GPT-2 tokenizer with prefix space: {gpt2_tokenizer_w_ps.decode(encoded_string1)}\")\n",
    "    print(f\"Decoded segmented sequence using GPT-2 tokenizer with prefix space: {decode_sequence(encoded_string1, gpt2_tokenizer_w_ps)}\")\n",
    "    print(\"---------------------------------------------------------------------------------\")\n",
    "    encoded_string2 = gpt2_tokenizer.encode(string)\n",
    "    print(f\"Encoded sequence using GPT-2 tokenizer without prefix space: {encoded_string2}\")\n",
    "    print(f\"Decoded sequence using GPT-2 tokenizer without prefix space: {gpt2_tokenizer.decode(encoded_string2)}\")\n",
    "    print(f\"Decoded segmented sequence using GPT-2 tokenizer without prefix space: {decode_sequence(encoded_string2, gpt2_tokenizer)}\")\n",
    "    print(\"---------------------------------------------------------------------------------\")\n",
    "    encoded_string3 = bert_tokenizer.encode(string)\n",
    "    print(f\"Encoded sequence using BERT tokenizer without prefix space: {encoded_string3}\")\n",
    "    print(f\"Decoded sequence using BERT tokenizer without prefix space: {bert_tokenizer.decode(encoded_string3)}\")\n",
    "    print(f\"Decoded segmented sequence using BERT tokenizer without prefix space: {decode_sequence(encoded_string3, bert_tokenizer)}\")"
   ]
  },
  {
   "cell_type": "markdown",
   "metadata": {},
   "source": [
    "Testing with \"medicine\""
   ]
  },
  {
   "cell_type": "code",
   "execution_count": 5,
   "metadata": {},
   "outputs": [
    {
     "name": "stdout",
     "output_type": "stream",
     "text": [
      "String: medicine\n",
      " \n",
      "Encoded sequence using GPT-2 tokenizer with prefix space: [9007]\n",
      "Decoded sequence using GPT-2 tokenizer with prefix space:  medicine\n",
      "Decoded segmented sequence using GPT-2 tokenizer with prefix space: [' medicine']\n",
      "---------------------------------------------------------------------------------\n",
      "Encoded sequence using GPT-2 tokenizer without prefix space: [1150, 291, 500]\n",
      "Decoded sequence using GPT-2 tokenizer without prefix space: medicine\n",
      "Decoded segmented sequence using GPT-2 tokenizer without prefix space: ['med', 'ic', 'ine']\n",
      "---------------------------------------------------------------------------------\n",
      "Encoded sequence using BERT tokenizer without prefix space: [101, 4200, 102]\n",
      "Decoded sequence using BERT tokenizer without prefix space: [CLS] medicine [SEP]\n",
      "Decoded segmented sequence using BERT tokenizer without prefix space: ['[CLS]', 'medicine', '[SEP]']\n"
     ]
    }
   ],
   "source": [
    "test_tokenizers(\"medicine\", gpt2_tokenizer_w_ps, gpt2_tokenizer, bert_tokenizer)"
   ]
  },
  {
   "cell_type": "markdown",
   "metadata": {},
   "source": [
    "Testing with \"astrophysics\""
   ]
  },
  {
   "cell_type": "code",
   "execution_count": 6,
   "metadata": {},
   "outputs": [
    {
     "name": "stdout",
     "output_type": "stream",
     "text": [
      "String: astrophysics\n",
      " \n",
      "Encoded sequence using GPT-2 tokenizer with prefix space: [48782, 23154]\n",
      "Decoded sequence using GPT-2 tokenizer with prefix space:  astrophysics\n",
      "Decoded segmented sequence using GPT-2 tokenizer with prefix space: [' astroph', 'ysics']\n",
      "---------------------------------------------------------------------------------\n",
      "Encoded sequence using GPT-2 tokenizer without prefix space: [459, 10051, 23154]\n",
      "Decoded sequence using GPT-2 tokenizer without prefix space: astrophysics\n",
      "Decoded segmented sequence using GPT-2 tokenizer without prefix space: ['ast', 'roph', 'ysics']\n",
      "---------------------------------------------------------------------------------\n",
      "Encoded sequence using BERT tokenizer without prefix space: [101, 28625, 15638, 102]\n",
      "Decoded sequence using BERT tokenizer without prefix space: [CLS] astrophysics [SEP]\n",
      "Decoded segmented sequence using BERT tokenizer without prefix space: ['[CLS]', 'astro', '##physics', '[SEP]']\n"
     ]
    }
   ],
   "source": [
    "test_tokenizers(\"astrophysics\", gpt2_tokenizer_w_ps, gpt2_tokenizer, bert_tokenizer)"
   ]
  },
  {
   "cell_type": "markdown",
   "metadata": {},
   "source": [
    "Create Guide Models"
   ]
  },
  {
   "cell_type": "code",
   "execution_count": 7,
   "metadata": {},
   "outputs": [],
   "source": [
    "from mini_relm_resources.automata_examples.small_study_example import get_small_study_example\n",
    "from pythautomata.base_types.symbol import SymbolStr\n",
    "\n",
    "gpt2_property_model = get_small_study_example(SymbolStr(gpt2_tokenizer.eos_token))\n",
    "bert_property_model = get_small_study_example(SymbolStr(bert_tokenizer.sep_token))"
   ]
  },
  {
   "cell_type": "markdown",
   "metadata": {},
   "source": [
    "Load GPT-2 Model"
   ]
  },
  {
   "cell_type": "code",
   "execution_count": 8,
   "metadata": {},
   "outputs": [
    {
     "name": "stderr",
     "output_type": "stream",
     "text": [
      "If you want to use `BertLMHeadModel` as a standalone, add `is_decoder=True.`\n"
     ]
    }
   ],
   "source": [
    "import torch\n",
    "from transformers import AutoModelForCausalLM\n",
    "\n",
    "device = \"cuda\" if torch.cuda.is_available() else \"cpu\"\n",
    "gpt2_model = AutoModelForCausalLM.from_pretrained(gpt2_model_id,\n",
    "                                            return_dict_in_generate=True,\n",
    "                                            pad_token_id=gpt2_tokenizer.eos_token_id).to(device)\n",
    "bert_model = AutoModelForCausalLM.from_pretrained(bert_model_id,\n",
    "                                            return_dict_in_generate=True,\n",
    "                                            pad_token_id=bert_tokenizer.sep_token_id).to(device)"
   ]
  },
  {
   "cell_type": "code",
   "execution_count": 9,
   "metadata": {},
   "outputs": [],
   "source": [
    "from case_studies.gpt2.gpt2_probabilistic_model_wrapper import GPT2_probabilistic_model_wrapper\n",
    "from case_studies.bert_small.bert_small_probabilistic_model_wrapper import BERT_SMALL_probabilistic_model_wrapper\n",
    "from mini_relm_resources.automata_examples.small_study_example import alphabet\n",
    "\n",
    "gpt2_wrapper_w_ps = GPT2_probabilistic_model_wrapper(50, alphabet, device, gpt2_model, gpt2_tokenizer_w_ps)\n",
    "gpt2_wrapper = GPT2_probabilistic_model_wrapper(50, alphabet, device, gpt2_model, gpt2_tokenizer)\n",
    "bert_wrapper = BERT_SMALL_probabilistic_model_wrapper(50, alphabet, device, bert_model, bert_tokenizer)"
   ]
  },
  {
   "cell_type": "code",
   "execution_count": 10,
   "metadata": {},
   "outputs": [],
   "source": [
    "from pythautomata.utilities.guiding_wfa_sequence_generator import GuidingWDFASequenceGenerator\n",
    "gpt2_guiding_generator = GuidingWDFASequenceGenerator(gpt2_property_model, None)\n",
    "bert_guiding_generator = GuidingWDFASequenceGenerator(bert_property_model, None)"
   ]
  },
  {
   "cell_type": "code",
   "execution_count": 11,
   "metadata": {},
   "outputs": [
    {
     "data": {
      "image/svg+xml": [
       "<?xml version=\"1.0\" encoding=\"UTF-8\" standalone=\"no\"?>\n",
       "<!DOCTYPE svg PUBLIC \"-//W3C//DTD SVG 1.1//EN\"\n",
       " \"http://www.w3.org/Graphics/SVG/1.1/DTD/svg11.dtd\">\n",
       "<!-- Generated by graphviz version 7.1.0 (20230121.1956)\n",
       " -->\n",
       "<!-- Title: weighted_automaton Pages: 1 -->\n",
       "<svg width=\"579pt\" height=\"176pt\"\n",
       " viewBox=\"0.00 0.00 579.02 176.28\" xmlns=\"http://www.w3.org/2000/svg\" xmlns:xlink=\"http://www.w3.org/1999/xlink\">\n",
       "<g id=\"graph0\" class=\"graph\" transform=\"scale(1 1) rotate(0) translate(4 172.28)\">\n",
       "<title>weighted_automaton</title>\n",
       "<polygon fill=\"white\" stroke=\"none\" points=\"-4,4 -4,-172.28 575.02,-172.28 575.02,4 -4,4\"/>\n",
       "<!-- A -->\n",
       "<g id=\"node1\" class=\"node\">\n",
       "<title>A</title>\n",
       "<polygon fill=\"none\" stroke=\"black\" points=\"27,-76 0,-38 27,0 54,-38 27,-76\"/>\n",
       "<text text-anchor=\"middle\" x=\"27\" y=\"-41.8\" font-family=\"Times New Roman,serif\" font-size=\"14.00\">A</text>\n",
       "<text text-anchor=\"middle\" x=\"27\" y=\"-26.8\" font-family=\"Times New Roman,serif\" font-size=\"14.00\">0</text>\n",
       "</g>\n",
       "<!-- B -->\n",
       "<g id=\"node2\" class=\"node\">\n",
       "<title>B</title>\n",
       "<ellipse fill=\"none\" stroke=\"black\" cx=\"177.87\" cy=\"-77\" rx=\"26.74\" ry=\"26.74\"/>\n",
       "<text text-anchor=\"middle\" x=\"177.87\" y=\"-80.8\" font-family=\"Times New Roman,serif\" font-size=\"14.00\">B</text>\n",
       "<text text-anchor=\"middle\" x=\"177.87\" y=\"-65.8\" font-family=\"Times New Roman,serif\" font-size=\"14.00\">0</text>\n",
       "</g>\n",
       "<!-- A&#45;&gt;B -->\n",
       "<g id=\"edge1\" class=\"edge\">\n",
       "<title>A&#45;&gt;B</title>\n",
       "<path fill=\"none\" stroke=\"black\" d=\"M50.29,-43.84C74.17,-50.1 112.45,-60.12 140.66,-67.51\"/>\n",
       "<polygon fill=\"black\" stroke=\"black\" points=\"139.66,-70.87 150.22,-70.02 141.44,-64.1 139.66,-70.87\"/>\n",
       "<text text-anchor=\"middle\" x=\"102.5\" y=\"-68.8\" font-family=\"Times New Roman,serif\" font-size=\"14.00\">I studied&#45;1</text>\n",
       "</g>\n",
       "<!-- hole -->\n",
       "<g id=\"node3\" class=\"node\">\n",
       "<title>hole</title>\n",
       "<ellipse fill=\"none\" stroke=\"black\" cx=\"530.02\" cy=\"-77\" rx=\"28.07\" ry=\"28.07\"/>\n",
       "<text text-anchor=\"middle\" x=\"530.02\" y=\"-80.8\" font-family=\"Times New Roman,serif\" font-size=\"14.00\">hole</text>\n",
       "<text text-anchor=\"middle\" x=\"530.02\" y=\"-65.8\" font-family=\"Times New Roman,serif\" font-size=\"14.00\">0</text>\n",
       "</g>\n",
       "<!-- A&#45;&gt;hole -->\n",
       "<g id=\"edge2\" class=\"edge\">\n",
       "<title>A&#45;&gt;hole</title>\n",
       "<path fill=\"none\" stroke=\"black\" d=\"M53.15,-36.2C111.51,-32.46 260.58,-25.44 383.74,-41 421.18,-45.73 462.89,-56.68 491.99,-65.27\"/>\n",
       "<polygon fill=\"black\" stroke=\"black\" points=\"490.83,-68.58 501.42,-68.11 492.85,-61.87 490.83,-68.58\"/>\n",
       "<text text-anchor=\"middle\" x=\"263.74\" y=\"-52.8\" font-family=\"Times New Roman,serif\" font-size=\"14.00\">medicine&#45;0</text>\n",
       "<text text-anchor=\"middle\" x=\"263.74\" y=\"-37.8\" font-family=\"Times New Roman,serif\" font-size=\"14.00\">astrophysics&#45;0</text>\n",
       "</g>\n",
       "<!-- B&#45;&gt;hole -->\n",
       "<g id=\"edge4\" class=\"edge\">\n",
       "<title>B&#45;&gt;hole</title>\n",
       "<path fill=\"none\" stroke=\"black\" d=\"M197.45,-95.24C204.76,-101.31 213.58,-107.43 222.74,-111 331.01,-153.17 377.29,-172.57 483.74,-126 492.51,-122.16 500.34,-115.69 506.92,-108.7\"/>\n",
       "<polygon fill=\"black\" stroke=\"black\" points=\"509.23,-111.38 513.07,-101.51 503.91,-106.83 509.23,-111.38\"/>\n",
       "<text text-anchor=\"middle\" x=\"353.24\" y=\"-155.8\" font-family=\"Times New Roman,serif\" font-size=\"14.00\">I studied&#45;0</text>\n",
       "</g>\n",
       "<!-- C -->\n",
       "<g id=\"node4\" class=\"node\">\n",
       "<title>C</title>\n",
       "<ellipse fill=\"none\" stroke=\"black\" cx=\"353.24\" cy=\"-77\" rx=\"26.74\" ry=\"26.74\"/>\n",
       "<text text-anchor=\"middle\" x=\"353.24\" y=\"-80.8\" font-family=\"Times New Roman,serif\" font-size=\"14.00\">C</text>\n",
       "<text text-anchor=\"middle\" x=\"353.24\" y=\"-65.8\" font-family=\"Times New Roman,serif\" font-size=\"14.00\">1</text>\n",
       "</g>\n",
       "<!-- B&#45;&gt;C -->\n",
       "<g id=\"edge3\" class=\"edge\">\n",
       "<title>B&#45;&gt;C</title>\n",
       "<path fill=\"none\" stroke=\"black\" d=\"M204.83,-77C234.06,-77 281.82,-77 315.02,-77\"/>\n",
       "<polygon fill=\"black\" stroke=\"black\" points=\"314.59,-80.5 324.59,-77 314.59,-73.5 314.59,-80.5\"/>\n",
       "<text text-anchor=\"middle\" x=\"263.74\" y=\"-95.8\" font-family=\"Times New Roman,serif\" font-size=\"14.00\">medicine&#45;1</text>\n",
       "<text text-anchor=\"middle\" x=\"263.74\" y=\"-80.8\" font-family=\"Times New Roman,serif\" font-size=\"14.00\">astrophysics&#45;1</text>\n",
       "</g>\n",
       "<!-- hole&#45;&gt;hole -->\n",
       "<g id=\"edge6\" class=\"edge\">\n",
       "<title>hole&#45;&gt;hole</title>\n",
       "<path fill=\"none\" stroke=\"black\" d=\"M514.23,-100.34C511.8,-112.41 517.07,-123.28 530.02,-123.28 538.73,-123.28 543.96,-118.37 545.72,-111.49\"/>\n",
       "<polygon fill=\"black\" stroke=\"black\" points=\"549.22,-111.88 545.8,-101.85 542.22,-111.82 549.22,-111.88\"/>\n",
       "<text text-anchor=\"middle\" x=\"530.02\" y=\"-157.08\" font-family=\"Times New Roman,serif\" font-size=\"14.00\">medicine&#45;0</text>\n",
       "<text text-anchor=\"middle\" x=\"530.02\" y=\"-142.08\" font-family=\"Times New Roman,serif\" font-size=\"14.00\">I studied&#45;0</text>\n",
       "<text text-anchor=\"middle\" x=\"530.02\" y=\"-127.08\" font-family=\"Times New Roman,serif\" font-size=\"14.00\">astrophysics&#45;0</text>\n",
       "</g>\n",
       "<!-- C&#45;&gt;hole -->\n",
       "<g id=\"edge5\" class=\"edge\">\n",
       "<title>C&#45;&gt;hole</title>\n",
       "<path fill=\"none\" stroke=\"black\" d=\"M380.41,-77C409.54,-77 456.92,-77 490.34,-77\"/>\n",
       "<polygon fill=\"black\" stroke=\"black\" points=\"490.01,-80.5 500.01,-77 490.01,-73.5 490.01,-80.5\"/>\n",
       "<text text-anchor=\"middle\" x=\"442.74\" y=\"-110.8\" font-family=\"Times New Roman,serif\" font-size=\"14.00\">medicine&#45;0</text>\n",
       "<text text-anchor=\"middle\" x=\"442.74\" y=\"-95.8\" font-family=\"Times New Roman,serif\" font-size=\"14.00\">I studied&#45;0</text>\n",
       "<text text-anchor=\"middle\" x=\"442.74\" y=\"-80.8\" font-family=\"Times New Roman,serif\" font-size=\"14.00\">astrophysics&#45;0</text>\n",
       "</g>\n",
       "</g>\n",
       "</svg>\n"
      ],
      "text/plain": [
       "<graphviz.graphs.Digraph at 0x17415b61d00>"
      ]
     },
     "metadata": {},
     "output_type": "display_data"
    }
   ],
   "source": [
    "from pythautomata.model_exporters.dot_exporters.wfa_dot_exporting_strategy import WFADotExportingStrategy\n",
    "from IPython.display import display\n",
    "\n",
    "exporter = WFADotExportingStrategy()\n",
    "graph = exporter.create_graph(gpt2_property_model)\n",
    "\n",
    "display(graph)"
   ]
  },
  {
   "cell_type": "code",
   "execution_count": 12,
   "metadata": {},
   "outputs": [],
   "source": [
    "from utilities.syncronic_model_guided_language_model import SyncronicModelGuidedLanguageModel\n",
    "\n",
    "gpt2_syncrhronic_model_w_ps = SyncronicModelGuidedLanguageModel(gpt2_wrapper_w_ps, gpt2_property_model, model_name=\"GUIDED_GPT2\", max_seq_length=10, normalize_outputs=True, top_k=3)\n",
    "gpt2_syncrhronic_model = SyncronicModelGuidedLanguageModel(gpt2_wrapper, gpt2_property_model, model_name=\"GUIDED_GPT2\", max_seq_length=10, normalize_outputs=True, top_k=3)\n",
    "bert_syncrhronic_model = SyncronicModelGuidedLanguageModel(bert_wrapper, bert_property_model, model_name=\"GUIDED_BERT_SMALL\", max_seq_length=10, normalize_outputs=True, top_k=3)"
   ]
  },
  {
   "cell_type": "code",
   "execution_count": 13,
   "metadata": {},
   "outputs": [],
   "source": [
    "from utilities.hypothesis_aware_sample_probabilistic_teacher import HypothesisAwareSampleProbabilisticTeacher\n",
    "from pymodelextractor.learners.observation_tree_learners.bounded_pdfa_quantization_n_ary_tree_learner import BoundedPDFAQuantizationNAryTreeLearner\n",
    "from pythautomata.utilities.probability_partitioner import QuantizationProbabilityPartitionerPlus\n",
    "from pythautomata.model_comparators.wfa_partition_comparison_strategy import WFAPartitionComparator\n",
    "partitioner = QuantizationProbabilityPartitionerPlus(1000)\n",
    "comparator = WFAPartitionComparator(partitioner)\n",
    "max_states = 50\n",
    "max_query_length = 50\n"
   ]
  },
  {
   "cell_type": "code",
   "execution_count": 14,
   "metadata": {},
   "outputs": [],
   "source": [
    "gpt2_teacher_w_ps = HypothesisAwareSampleProbabilisticTeacher(gpt2_syncrhronic_model_w_ps, comparator, 30)\n",
    "gpt2_teacher = HypothesisAwareSampleProbabilisticTeacher(gpt2_syncrhronic_model, comparator, 30)\n",
    "bert_teacher = HypothesisAwareSampleProbabilisticTeacher(bert_syncrhronic_model, comparator, 30)"
   ]
  },
  {
   "cell_type": "code",
   "execution_count": 15,
   "metadata": {},
   "outputs": [],
   "source": [
    "learner = BoundedPDFAQuantizationNAryTreeLearner(partitioner, max_states, max_query_length, None, generate_partial_hipothesis = True, pre_cache_queries_for_building_hipothesis = True,  check_probabilistic_hipothesis = False, omit_zero_transitions=True)"
   ]
  },
  {
   "cell_type": "code",
   "execution_count": 16,
   "metadata": {},
   "outputs": [
    {
     "name": "stderr",
     "output_type": "stream",
     "text": [
      "We strongly recommend passing in an `attention_mask` since your input_ids may be padded. See https://huggingface.co/docs/transformers/troubleshooting#incorrect-output-when-padding-tokens-arent-masked.\n",
      "You may ignore this warning if your `pad_token_id` (50256) is identical to the `bos_token_id` (50256), `eos_token_id` (50256), or the `sep_token_id` (None), and your input is not padded.\n"
     ]
    }
   ],
   "source": [
    "gpt2_learning_result_w_ps = learner.learn(gpt2_teacher_w_ps, verbose=False)"
   ]
  },
  {
   "cell_type": "code",
   "execution_count": 17,
   "metadata": {},
   "outputs": [],
   "source": [
    "gpt2_learning_result = learner.learn(gpt2_teacher, verbose=False)"
   ]
  },
  {
   "cell_type": "code",
   "execution_count": 18,
   "metadata": {},
   "outputs": [],
   "source": [
    "bert_learning_result = learner.learn(bert_teacher, verbose=False)"
   ]
  },
  {
   "cell_type": "code",
   "execution_count": 19,
   "metadata": {},
   "outputs": [
    {
     "data": {
      "image/svg+xml": [
       "<?xml version=\"1.0\" encoding=\"UTF-8\" standalone=\"no\"?>\n",
       "<!DOCTYPE svg PUBLIC \"-//W3C//DTD SVG 1.1//EN\"\n",
       " \"http://www.w3.org/Graphics/SVG/1.1/DTD/svg11.dtd\">\n",
       "<!-- Generated by graphviz version 7.1.0 (20230121.1956)\n",
       " -->\n",
       "<!-- Title: weighted_automaton Pages: 1 -->\n",
       "<svg width=\"906pt\" height=\"342pt\"\n",
       " viewBox=\"0.00 0.00 906.39 342.47\" xmlns=\"http://www.w3.org/2000/svg\" xmlns:xlink=\"http://www.w3.org/1999/xlink\">\n",
       "<g id=\"graph0\" class=\"graph\" transform=\"scale(1 1) rotate(0) translate(4 338.47)\">\n",
       "<title>weighted_automaton</title>\n",
       "<polygon fill=\"white\" stroke=\"none\" points=\"-4,4 -4,-338.47 902.39,-338.47 902.39,4 -4,4\"/>\n",
       "<!-- HOLE -->\n",
       "<g id=\"node1\" class=\"node\">\n",
       "<title>HOLE</title>\n",
       "<ellipse fill=\"none\" stroke=\"black\" cx=\"857.39\" cy=\"-233.99\" rx=\"37.45\" ry=\"37.45\"/>\n",
       "<text text-anchor=\"middle\" x=\"857.39\" y=\"-237.79\" font-family=\"Times New Roman,serif\" font-size=\"14.00\">HOLE</text>\n",
       "<text text-anchor=\"middle\" x=\"857.39\" y=\"-222.79\" font-family=\"Times New Roman,serif\" font-size=\"14.00\">1</text>\n",
       "</g>\n",
       "<!-- HOLE&#45;&gt;HOLE -->\n",
       "<g id=\"edge1\" class=\"edge\">\n",
       "<title>HOLE&#45;&gt;HOLE</title>\n",
       "<path fill=\"none\" stroke=\"black\" d=\"M839.33,-267.3C838.84,-279.49 844.86,-289.47 857.39,-289.47 865.81,-289.47 871.29,-284.97 873.83,-278.31\"/>\n",
       "<polygon fill=\"black\" stroke=\"black\" points=\"877.24,-279.2 875.23,-268.8 870.31,-278.18 877.24,-279.2\"/>\n",
       "<text text-anchor=\"middle\" x=\"857.39\" y=\"-323.27\" font-family=\"Times New Roman,serif\" font-size=\"14.00\">I studied&#45;0</text>\n",
       "<text text-anchor=\"middle\" x=\"857.39\" y=\"-308.27\" font-family=\"Times New Roman,serif\" font-size=\"14.00\">astrophysics&#45;0</text>\n",
       "<text text-anchor=\"middle\" x=\"857.39\" y=\"-293.27\" font-family=\"Times New Roman,serif\" font-size=\"14.00\">medicine&#45;0</text>\n",
       "</g>\n",
       "<!-- I studied -->\n",
       "<g id=\"node2\" class=\"node\">\n",
       "<title>I studied</title>\n",
       "<ellipse fill=\"none\" stroke=\"black\" cx=\"220.96\" cy=\"-202.99\" rx=\"45.92\" ry=\"45.92\"/>\n",
       "<text text-anchor=\"middle\" x=\"220.96\" y=\"-206.79\" font-family=\"Times New Roman,serif\" font-size=\"14.00\">I studied</text>\n",
       "<text text-anchor=\"middle\" x=\"220.96\" y=\"-191.79\" font-family=\"Times New Roman,serif\" font-size=\"14.00\">0.0</text>\n",
       "</g>\n",
       "<!-- I studied&#45;&gt;HOLE -->\n",
       "<g id=\"edge3\" class=\"edge\">\n",
       "<title>I studied&#45;&gt;HOLE</title>\n",
       "<path fill=\"none\" stroke=\"black\" d=\"M265.37,-216.16C271.87,-217.71 278.54,-219.07 284.92,-219.99 477.22,-247.9 709.65,-241.31 808.34,-236.67\"/>\n",
       "<polygon fill=\"black\" stroke=\"black\" points=\"808.37,-240.17 818.19,-236.19 808.03,-233.18 808.37,-240.17\"/>\n",
       "<text text-anchor=\"middle\" x=\"602.92\" y=\"-244.79\" font-family=\"Times New Roman,serif\" font-size=\"14.00\">I studied&#45;0</text>\n",
       "</g>\n",
       "<!-- I studied,astrophysics -->\n",
       "<g id=\"node3\" class=\"node\">\n",
       "<title>I studied,astrophysics</title>\n",
       "<ellipse fill=\"none\" stroke=\"black\" cx=\"602.92\" cy=\"-98.99\" rx=\"98.99\" ry=\"98.99\"/>\n",
       "<text text-anchor=\"middle\" x=\"602.92\" y=\"-102.79\" font-family=\"Times New Roman,serif\" font-size=\"14.00\">I studied,astrophysics</text>\n",
       "<text text-anchor=\"middle\" x=\"602.92\" y=\"-87.79\" font-family=\"Times New Roman,serif\" font-size=\"14.00\">1.0</text>\n",
       "</g>\n",
       "<!-- I studied&#45;&gt;I studied,astrophysics -->\n",
       "<g id=\"edge2\" class=\"edge\">\n",
       "<title>I studied&#45;&gt;I studied,astrophysics</title>\n",
       "<path fill=\"none\" stroke=\"black\" d=\"M265.55,-191.06C321.38,-175.78 420.01,-148.79 496.08,-127.97\"/>\n",
       "<polygon fill=\"black\" stroke=\"black\" points=\"496.95,-131.36 505.67,-125.34 495.1,-124.6 496.95,-131.36\"/>\n",
       "<text text-anchor=\"middle\" x=\"385.42\" y=\"-204.79\" font-family=\"Times New Roman,serif\" font-size=\"14.00\">astrophysics&#45;0.14258990784456949</text>\n",
       "<text text-anchor=\"middle\" x=\"385.42\" y=\"-189.79\" font-family=\"Times New Roman,serif\" font-size=\"14.00\">medicine&#45;0.8574100921554305</text>\n",
       "</g>\n",
       "<!-- I studied,astrophysics&#45;&gt;HOLE -->\n",
       "<g id=\"edge4\" class=\"edge\">\n",
       "<title>I studied,astrophysics&#45;&gt;HOLE</title>\n",
       "<path fill=\"none\" stroke=\"black\" d=\"M698.67,-125.44C732.9,-137.49 770.75,-153.87 801.91,-174.99 810.64,-180.91 818.97,-188.49 826.37,-196.22\"/>\n",
       "<polygon fill=\"black\" stroke=\"black\" points=\"823.67,-198.45 832.99,-203.48 828.84,-193.73 823.67,-198.45\"/>\n",
       "<text text-anchor=\"middle\" x=\"760.91\" y=\"-208.79\" font-family=\"Times New Roman,serif\" font-size=\"14.00\">I studied&#45;0</text>\n",
       "<text text-anchor=\"middle\" x=\"760.91\" y=\"-193.79\" font-family=\"Times New Roman,serif\" font-size=\"14.00\">astrophysics&#45;0</text>\n",
       "<text text-anchor=\"middle\" x=\"760.91\" y=\"-178.79\" font-family=\"Times New Roman,serif\" font-size=\"14.00\">medicine&#45;0</text>\n",
       "</g>\n",
       "<!-- ϵ -->\n",
       "<g id=\"node4\" class=\"node\">\n",
       "<title>ϵ</title>\n",
       "<polygon fill=\"none\" stroke=\"black\" points=\"34,-277.99 0,-239.99 34,-201.99 68,-239.99 34,-277.99\"/>\n",
       "<text text-anchor=\"middle\" x=\"34\" y=\"-243.79\" font-family=\"Times New Roman,serif\" font-size=\"14.00\">ϵ</text>\n",
       "<text text-anchor=\"middle\" x=\"34\" y=\"-228.79\" font-family=\"Times New Roman,serif\" font-size=\"14.00\">0.0</text>\n",
       "</g>\n",
       "<!-- ϵ&#45;&gt;HOLE -->\n",
       "<g id=\"edge6\" class=\"edge\">\n",
       "<title>ϵ&#45;&gt;HOLE</title>\n",
       "<path fill=\"none\" stroke=\"black\" d=\"M63.53,-245.41C70.84,-246.7 78.7,-247.98 86,-248.99 125.38,-254.45 135.3,-255.87 175,-257.99 408.85,-270.5 467.87,-268.18 701.91,-259.99 746.44,-258.44 758.27,-261.97 801.91,-252.99 805.04,-252.35 808.23,-251.57 811.43,-250.71\"/>\n",
       "<polygon fill=\"black\" stroke=\"black\" points=\"812.18,-254.14 820.75,-247.9 810.16,-247.43 812.18,-254.14\"/>\n",
       "<text text-anchor=\"middle\" x=\"385.42\" y=\"-285.79\" font-family=\"Times New Roman,serif\" font-size=\"14.00\">astrophysics&#45;0</text>\n",
       "<text text-anchor=\"middle\" x=\"385.42\" y=\"-270.79\" font-family=\"Times New Roman,serif\" font-size=\"14.00\">medicine&#45;0</text>\n",
       "</g>\n",
       "<!-- ϵ&#45;&gt;I studied -->\n",
       "<g id=\"edge5\" class=\"edge\">\n",
       "<title>ϵ&#45;&gt;I studied</title>\n",
       "<path fill=\"none\" stroke=\"black\" d=\"M63.49,-234.29C90.35,-228.92 131.33,-220.72 164.62,-214.07\"/>\n",
       "<polygon fill=\"black\" stroke=\"black\" points=\"164.97,-217.56 174.09,-212.17 163.6,-210.7 164.97,-217.56\"/>\n",
       "<text text-anchor=\"middle\" x=\"121.5\" y=\"-233.79\" font-family=\"Times New Roman,serif\" font-size=\"14.00\">I studied&#45;1.0</text>\n",
       "</g>\n",
       "</g>\n",
       "</svg>\n"
      ],
      "text/plain": [
       "<graphviz.graphs.Digraph at 0x174198d5af0>"
      ]
     },
     "metadata": {},
     "output_type": "display_data"
    }
   ],
   "source": [
    "display(exporter.create_graph(gpt2_learning_result_w_ps.model))"
   ]
  },
  {
   "cell_type": "code",
   "execution_count": 20,
   "metadata": {},
   "outputs": [
    {
     "data": {
      "image/svg+xml": [
       "<?xml version=\"1.0\" encoding=\"UTF-8\" standalone=\"no\"?>\n",
       "<!DOCTYPE svg PUBLIC \"-//W3C//DTD SVG 1.1//EN\"\n",
       " \"http://www.w3.org/Graphics/SVG/1.1/DTD/svg11.dtd\">\n",
       "<!-- Generated by graphviz version 7.1.0 (20230121.1956)\n",
       " -->\n",
       "<!-- Title: weighted_automaton Pages: 1 -->\n",
       "<svg width=\"919pt\" height=\"342pt\"\n",
       " viewBox=\"0.00 0.00 919.39 342.47\" xmlns=\"http://www.w3.org/2000/svg\" xmlns:xlink=\"http://www.w3.org/1999/xlink\">\n",
       "<g id=\"graph0\" class=\"graph\" transform=\"scale(1 1) rotate(0) translate(4 338.47)\">\n",
       "<title>weighted_automaton</title>\n",
       "<polygon fill=\"white\" stroke=\"none\" points=\"-4,4 -4,-338.47 915.39,-338.47 915.39,4 -4,4\"/>\n",
       "<!-- HOLE -->\n",
       "<g id=\"node1\" class=\"node\">\n",
       "<title>HOLE</title>\n",
       "<ellipse fill=\"none\" stroke=\"black\" cx=\"870.39\" cy=\"-233.99\" rx=\"37.45\" ry=\"37.45\"/>\n",
       "<text text-anchor=\"middle\" x=\"870.39\" y=\"-237.79\" font-family=\"Times New Roman,serif\" font-size=\"14.00\">HOLE</text>\n",
       "<text text-anchor=\"middle\" x=\"870.39\" y=\"-222.79\" font-family=\"Times New Roman,serif\" font-size=\"14.00\">1</text>\n",
       "</g>\n",
       "<!-- HOLE&#45;&gt;HOLE -->\n",
       "<g id=\"edge1\" class=\"edge\">\n",
       "<title>HOLE&#45;&gt;HOLE</title>\n",
       "<path fill=\"none\" stroke=\"black\" d=\"M852.33,-267.3C851.84,-279.49 857.86,-289.47 870.39,-289.47 878.81,-289.47 884.29,-284.97 886.83,-278.31\"/>\n",
       "<polygon fill=\"black\" stroke=\"black\" points=\"890.24,-279.2 888.23,-268.8 883.31,-278.18 890.24,-279.2\"/>\n",
       "<text text-anchor=\"middle\" x=\"870.39\" y=\"-323.27\" font-family=\"Times New Roman,serif\" font-size=\"14.00\">I studied&#45;0</text>\n",
       "<text text-anchor=\"middle\" x=\"870.39\" y=\"-308.27\" font-family=\"Times New Roman,serif\" font-size=\"14.00\">astrophysics&#45;0</text>\n",
       "<text text-anchor=\"middle\" x=\"870.39\" y=\"-293.27\" font-family=\"Times New Roman,serif\" font-size=\"14.00\">medicine&#45;0</text>\n",
       "</g>\n",
       "<!-- I studied -->\n",
       "<g id=\"node2\" class=\"node\">\n",
       "<title>I studied</title>\n",
       "<ellipse fill=\"none\" stroke=\"black\" cx=\"220.96\" cy=\"-202.99\" rx=\"45.92\" ry=\"45.92\"/>\n",
       "<text text-anchor=\"middle\" x=\"220.96\" y=\"-206.79\" font-family=\"Times New Roman,serif\" font-size=\"14.00\">I studied</text>\n",
       "<text text-anchor=\"middle\" x=\"220.96\" y=\"-191.79\" font-family=\"Times New Roman,serif\" font-size=\"14.00\">0.0</text>\n",
       "</g>\n",
       "<!-- I studied&#45;&gt;HOLE -->\n",
       "<g id=\"edge3\" class=\"edge\">\n",
       "<title>I studied&#45;&gt;HOLE</title>\n",
       "<path fill=\"none\" stroke=\"black\" d=\"M265.37,-216.16C271.87,-217.71 278.54,-219.07 284.92,-219.99 482.28,-248.58 720.96,-241.53 821.29,-236.71\"/>\n",
       "<polygon fill=\"black\" stroke=\"black\" points=\"821.22,-240.22 831.04,-236.23 820.87,-233.23 821.22,-240.22\"/>\n",
       "<text text-anchor=\"middle\" x=\"615.92\" y=\"-245.79\" font-family=\"Times New Roman,serif\" font-size=\"14.00\">I studied&#45;0</text>\n",
       "</g>\n",
       "<!-- I studied,astrophysics -->\n",
       "<g id=\"node3\" class=\"node\">\n",
       "<title>I studied,astrophysics</title>\n",
       "<ellipse fill=\"none\" stroke=\"black\" cx=\"615.92\" cy=\"-98.99\" rx=\"98.99\" ry=\"98.99\"/>\n",
       "<text text-anchor=\"middle\" x=\"615.92\" y=\"-102.79\" font-family=\"Times New Roman,serif\" font-size=\"14.00\">I studied,astrophysics</text>\n",
       "<text text-anchor=\"middle\" x=\"615.92\" y=\"-87.79\" font-family=\"Times New Roman,serif\" font-size=\"14.00\">1.0</text>\n",
       "</g>\n",
       "<!-- I studied&#45;&gt;I studied,astrophysics -->\n",
       "<g id=\"edge2\" class=\"edge\">\n",
       "<title>I studied&#45;&gt;I studied,astrophysics</title>\n",
       "<path fill=\"none\" stroke=\"black\" d=\"M265.9,-191.37C324.24,-175.93 429.17,-148.16 508.79,-127.08\"/>\n",
       "<polygon fill=\"black\" stroke=\"black\" points=\"509.62,-130.48 518.39,-124.54 507.83,-123.72 509.62,-130.48\"/>\n",
       "<text text-anchor=\"middle\" x=\"391.92\" y=\"-204.79\" font-family=\"Times New Roman,serif\" font-size=\"14.00\">astrophysics&#45;0.0023631367111799917</text>\n",
       "<text text-anchor=\"middle\" x=\"391.92\" y=\"-189.79\" font-family=\"Times New Roman,serif\" font-size=\"14.00\">medicine&#45;0.99763686328882</text>\n",
       "</g>\n",
       "<!-- I studied,astrophysics&#45;&gt;HOLE -->\n",
       "<g id=\"edge4\" class=\"edge\">\n",
       "<title>I studied,astrophysics&#45;&gt;HOLE</title>\n",
       "<path fill=\"none\" stroke=\"black\" d=\"M711.67,-125.44C745.9,-137.49 783.75,-153.87 814.91,-174.99 823.64,-180.91 831.97,-188.49 839.37,-196.22\"/>\n",
       "<polygon fill=\"black\" stroke=\"black\" points=\"836.67,-198.45 845.99,-203.48 841.84,-193.73 836.67,-198.45\"/>\n",
       "<text text-anchor=\"middle\" x=\"773.91\" y=\"-208.79\" font-family=\"Times New Roman,serif\" font-size=\"14.00\">I studied&#45;0</text>\n",
       "<text text-anchor=\"middle\" x=\"773.91\" y=\"-193.79\" font-family=\"Times New Roman,serif\" font-size=\"14.00\">astrophysics&#45;0</text>\n",
       "<text text-anchor=\"middle\" x=\"773.91\" y=\"-178.79\" font-family=\"Times New Roman,serif\" font-size=\"14.00\">medicine&#45;0</text>\n",
       "</g>\n",
       "<!-- ϵ -->\n",
       "<g id=\"node4\" class=\"node\">\n",
       "<title>ϵ</title>\n",
       "<polygon fill=\"none\" stroke=\"black\" points=\"34,-277.99 0,-239.99 34,-201.99 68,-239.99 34,-277.99\"/>\n",
       "<text text-anchor=\"middle\" x=\"34\" y=\"-243.79\" font-family=\"Times New Roman,serif\" font-size=\"14.00\">ϵ</text>\n",
       "<text text-anchor=\"middle\" x=\"34\" y=\"-228.79\" font-family=\"Times New Roman,serif\" font-size=\"14.00\">0.0</text>\n",
       "</g>\n",
       "<!-- ϵ&#45;&gt;HOLE -->\n",
       "<g id=\"edge6\" class=\"edge\">\n",
       "<title>ϵ&#45;&gt;HOLE</title>\n",
       "<path fill=\"none\" stroke=\"black\" d=\"M63.53,-245.41C70.84,-246.7 78.7,-247.98 86,-248.99 125.38,-254.45 135.3,-255.82 175,-257.99 414.61,-271.13 475.14,-270.57 714.91,-260.99 759.46,-259.22 771.29,-262.19 814.91,-252.99 818.04,-252.34 821.23,-251.55 824.42,-250.67\"/>\n",
       "<polygon fill=\"black\" stroke=\"black\" points=\"825.18,-254.1 833.74,-247.85 823.15,-247.4 825.18,-254.1\"/>\n",
       "<text text-anchor=\"middle\" x=\"391.92\" y=\"-287.79\" font-family=\"Times New Roman,serif\" font-size=\"14.00\">astrophysics&#45;0</text>\n",
       "<text text-anchor=\"middle\" x=\"391.92\" y=\"-272.79\" font-family=\"Times New Roman,serif\" font-size=\"14.00\">medicine&#45;0</text>\n",
       "</g>\n",
       "<!-- ϵ&#45;&gt;I studied -->\n",
       "<g id=\"edge5\" class=\"edge\">\n",
       "<title>ϵ&#45;&gt;I studied</title>\n",
       "<path fill=\"none\" stroke=\"black\" d=\"M63.49,-234.29C90.35,-228.92 131.33,-220.72 164.62,-214.07\"/>\n",
       "<polygon fill=\"black\" stroke=\"black\" points=\"164.97,-217.56 174.09,-212.17 163.6,-210.7 164.97,-217.56\"/>\n",
       "<text text-anchor=\"middle\" x=\"121.5\" y=\"-233.79\" font-family=\"Times New Roman,serif\" font-size=\"14.00\">I studied&#45;1.0</text>\n",
       "</g>\n",
       "</g>\n",
       "</svg>\n"
      ],
      "text/plain": [
       "<graphviz.graphs.Digraph at 0x174198d59a0>"
      ]
     },
     "metadata": {},
     "output_type": "display_data"
    }
   ],
   "source": [
    "display(exporter.create_graph(gpt2_learning_result.model))"
   ]
  },
  {
   "cell_type": "code",
   "execution_count": 21,
   "metadata": {},
   "outputs": [
    {
     "data": {
      "image/svg+xml": [
       "<?xml version=\"1.0\" encoding=\"UTF-8\" standalone=\"no\"?>\n",
       "<!DOCTYPE svg PUBLIC \"-//W3C//DTD SVG 1.1//EN\"\n",
       " \"http://www.w3.org/Graphics/SVG/1.1/DTD/svg11.dtd\">\n",
       "<!-- Generated by graphviz version 7.1.0 (20230121.1956)\n",
       " -->\n",
       "<!-- Title: weighted_automaton Pages: 1 -->\n",
       "<svg width=\"923pt\" height=\"342pt\"\n",
       " viewBox=\"0.00 0.00 923.39 342.47\" xmlns=\"http://www.w3.org/2000/svg\" xmlns:xlink=\"http://www.w3.org/1999/xlink\">\n",
       "<g id=\"graph0\" class=\"graph\" transform=\"scale(1 1) rotate(0) translate(4 338.47)\">\n",
       "<title>weighted_automaton</title>\n",
       "<polygon fill=\"white\" stroke=\"none\" points=\"-4,4 -4,-338.47 919.39,-338.47 919.39,4 -4,4\"/>\n",
       "<!-- HOLE -->\n",
       "<g id=\"node1\" class=\"node\">\n",
       "<title>HOLE</title>\n",
       "<ellipse fill=\"none\" stroke=\"black\" cx=\"874.39\" cy=\"-233.99\" rx=\"37.45\" ry=\"37.45\"/>\n",
       "<text text-anchor=\"middle\" x=\"874.39\" y=\"-237.79\" font-family=\"Times New Roman,serif\" font-size=\"14.00\">HOLE</text>\n",
       "<text text-anchor=\"middle\" x=\"874.39\" y=\"-222.79\" font-family=\"Times New Roman,serif\" font-size=\"14.00\">1</text>\n",
       "</g>\n",
       "<!-- HOLE&#45;&gt;HOLE -->\n",
       "<g id=\"edge1\" class=\"edge\">\n",
       "<title>HOLE&#45;&gt;HOLE</title>\n",
       "<path fill=\"none\" stroke=\"black\" d=\"M856.33,-267.3C855.84,-279.49 861.86,-289.47 874.39,-289.47 882.81,-289.47 888.29,-284.97 890.83,-278.31\"/>\n",
       "<polygon fill=\"black\" stroke=\"black\" points=\"894.24,-279.2 892.23,-268.8 887.31,-278.18 894.24,-279.2\"/>\n",
       "<text text-anchor=\"middle\" x=\"874.39\" y=\"-323.27\" font-family=\"Times New Roman,serif\" font-size=\"14.00\">I studied&#45;0</text>\n",
       "<text text-anchor=\"middle\" x=\"874.39\" y=\"-308.27\" font-family=\"Times New Roman,serif\" font-size=\"14.00\">astrophysics&#45;0</text>\n",
       "<text text-anchor=\"middle\" x=\"874.39\" y=\"-293.27\" font-family=\"Times New Roman,serif\" font-size=\"14.00\">medicine&#45;0</text>\n",
       "</g>\n",
       "<!-- I studied -->\n",
       "<g id=\"node2\" class=\"node\">\n",
       "<title>I studied</title>\n",
       "<ellipse fill=\"none\" stroke=\"black\" cx=\"220.96\" cy=\"-202.99\" rx=\"45.92\" ry=\"45.92\"/>\n",
       "<text text-anchor=\"middle\" x=\"220.96\" y=\"-206.79\" font-family=\"Times New Roman,serif\" font-size=\"14.00\">I studied</text>\n",
       "<text text-anchor=\"middle\" x=\"220.96\" y=\"-191.79\" font-family=\"Times New Roman,serif\" font-size=\"14.00\">0.0</text>\n",
       "</g>\n",
       "<!-- I studied&#45;&gt;HOLE -->\n",
       "<g id=\"edge3\" class=\"edge\">\n",
       "<title>I studied&#45;&gt;HOLE</title>\n",
       "<path fill=\"none\" stroke=\"black\" d=\"M265.37,-216.17C271.87,-217.71 278.54,-219.07 284.92,-219.99 483.88,-248.79 724.53,-241.6 825.33,-236.72\"/>\n",
       "<polygon fill=\"black\" stroke=\"black\" points=\"825.31,-240.23 835.13,-236.23 824.96,-233.24 825.31,-240.23\"/>\n",
       "<text text-anchor=\"middle\" x=\"619.92\" y=\"-245.79\" font-family=\"Times New Roman,serif\" font-size=\"14.00\">I studied&#45;0</text>\n",
       "</g>\n",
       "<!-- I studied,astrophysics -->\n",
       "<g id=\"node3\" class=\"node\">\n",
       "<title>I studied,astrophysics</title>\n",
       "<ellipse fill=\"none\" stroke=\"black\" cx=\"619.92\" cy=\"-98.99\" rx=\"98.99\" ry=\"98.99\"/>\n",
       "<text text-anchor=\"middle\" x=\"619.92\" y=\"-102.79\" font-family=\"Times New Roman,serif\" font-size=\"14.00\">I studied,astrophysics</text>\n",
       "<text text-anchor=\"middle\" x=\"619.92\" y=\"-87.79\" font-family=\"Times New Roman,serif\" font-size=\"14.00\">1.0</text>\n",
       "</g>\n",
       "<!-- I studied&#45;&gt;I studied,astrophysics -->\n",
       "<g id=\"edge2\" class=\"edge\">\n",
       "<title>I studied&#45;&gt;I studied,astrophysics</title>\n",
       "<path fill=\"none\" stroke=\"black\" d=\"M265.58,-191.57C324.66,-176.09 432.02,-147.96 512.95,-126.76\"/>\n",
       "<polygon fill=\"black\" stroke=\"black\" points=\"513.43,-130.25 522.22,-124.33 511.66,-123.48 513.43,-130.25\"/>\n",
       "<text text-anchor=\"middle\" x=\"393.92\" y=\"-204.79\" font-family=\"Times New Roman,serif\" font-size=\"14.00\">astrophysics&#45;4.4601346800596365e&#45;06</text>\n",
       "<text text-anchor=\"middle\" x=\"393.92\" y=\"-189.79\" font-family=\"Times New Roman,serif\" font-size=\"14.00\">medicine&#45;0.99999553986532</text>\n",
       "</g>\n",
       "<!-- I studied,astrophysics&#45;&gt;HOLE -->\n",
       "<g id=\"edge4\" class=\"edge\">\n",
       "<title>I studied,astrophysics&#45;&gt;HOLE</title>\n",
       "<path fill=\"none\" stroke=\"black\" d=\"M715.67,-125.44C749.9,-137.49 787.75,-153.87 818.91,-174.99 827.64,-180.91 835.97,-188.49 843.37,-196.22\"/>\n",
       "<polygon fill=\"black\" stroke=\"black\" points=\"840.67,-198.45 849.99,-203.48 845.84,-193.73 840.67,-198.45\"/>\n",
       "<text text-anchor=\"middle\" x=\"777.91\" y=\"-208.79\" font-family=\"Times New Roman,serif\" font-size=\"14.00\">I studied&#45;0</text>\n",
       "<text text-anchor=\"middle\" x=\"777.91\" y=\"-193.79\" font-family=\"Times New Roman,serif\" font-size=\"14.00\">astrophysics&#45;0</text>\n",
       "<text text-anchor=\"middle\" x=\"777.91\" y=\"-178.79\" font-family=\"Times New Roman,serif\" font-size=\"14.00\">medicine&#45;0</text>\n",
       "</g>\n",
       "<!-- ϵ -->\n",
       "<g id=\"node4\" class=\"node\">\n",
       "<title>ϵ</title>\n",
       "<polygon fill=\"none\" stroke=\"black\" points=\"34,-277.99 0,-239.99 34,-201.99 68,-239.99 34,-277.99\"/>\n",
       "<text text-anchor=\"middle\" x=\"34\" y=\"-243.79\" font-family=\"Times New Roman,serif\" font-size=\"14.00\">ϵ</text>\n",
       "<text text-anchor=\"middle\" x=\"34\" y=\"-228.79\" font-family=\"Times New Roman,serif\" font-size=\"14.00\">0.0</text>\n",
       "</g>\n",
       "<!-- ϵ&#45;&gt;HOLE -->\n",
       "<g id=\"edge6\" class=\"edge\">\n",
       "<title>ϵ&#45;&gt;HOLE</title>\n",
       "<path fill=\"none\" stroke=\"black\" d=\"M63.53,-245.41C70.84,-246.7 78.7,-247.98 86,-248.99 125.38,-254.45 135.3,-255.82 175,-257.99 416.38,-271.22 477.36,-270.64 718.91,-260.99 763.46,-259.22 775.29,-262.19 818.91,-252.99 822.04,-252.34 825.23,-251.55 828.42,-250.67\"/>\n",
       "<polygon fill=\"black\" stroke=\"black\" points=\"829.18,-254.1 837.74,-247.85 827.15,-247.4 829.18,-254.1\"/>\n",
       "<text text-anchor=\"middle\" x=\"393.92\" y=\"-287.79\" font-family=\"Times New Roman,serif\" font-size=\"14.00\">astrophysics&#45;0</text>\n",
       "<text text-anchor=\"middle\" x=\"393.92\" y=\"-272.79\" font-family=\"Times New Roman,serif\" font-size=\"14.00\">medicine&#45;0</text>\n",
       "</g>\n",
       "<!-- ϵ&#45;&gt;I studied -->\n",
       "<g id=\"edge5\" class=\"edge\">\n",
       "<title>ϵ&#45;&gt;I studied</title>\n",
       "<path fill=\"none\" stroke=\"black\" d=\"M63.49,-234.29C90.35,-228.92 131.33,-220.72 164.62,-214.07\"/>\n",
       "<polygon fill=\"black\" stroke=\"black\" points=\"164.97,-217.56 174.09,-212.17 163.6,-210.7 164.97,-217.56\"/>\n",
       "<text text-anchor=\"middle\" x=\"121.5\" y=\"-233.79\" font-family=\"Times New Roman,serif\" font-size=\"14.00\">I studied&#45;1.0</text>\n",
       "</g>\n",
       "</g>\n",
       "</svg>\n"
      ],
      "text/plain": [
       "<graphviz.graphs.Digraph at 0x174198d5c70>"
      ]
     },
     "metadata": {},
     "output_type": "display_data"
    }
   ],
   "source": [
    "display(exporter.create_graph(bert_learning_result.model))"
   ]
  }
 ],
 "metadata": {
  "kernelspec": {
   "display_name": "pymodelextractor_exp",
   "language": "python",
   "name": "python3"
  },
  "language_info": {
   "codemirror_mode": {
    "name": "ipython",
    "version": 3
   },
   "file_extension": ".py",
   "mimetype": "text/x-python",
   "name": "python",
   "nbconvert_exporter": "python",
   "pygments_lexer": "ipython3",
   "version": "3.9.19"
  }
 },
 "nbformat": 4,
 "nbformat_minor": 2
}
