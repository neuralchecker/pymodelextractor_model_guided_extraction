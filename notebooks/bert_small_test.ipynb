{
 "cells": [
  {
   "cell_type": "code",
   "execution_count": 1,
   "metadata": {},
   "outputs": [
    {
     "name": "stderr",
     "output_type": "stream",
     "text": [
      "/home/yoni/.local/lib/python3.10/site-packages/tqdm/auto.py:21: TqdmWarning: IProgress not found. Please update jupyter and ipywidgets. See https://ipywidgets.readthedocs.io/en/stable/user_install.html\n",
      "  from .autonotebook import tqdm as notebook_tqdm\n",
      "If you want to use `BertLMHeadModel` as a standalone, add `is_decoder=True.`\n"
     ]
    }
   ],
   "source": [
    "# Load model directly\n",
    "import torch\n",
    "from transformers import AutoModelForCausalLM\n",
    "from transformers import AutoTokenizer\n",
    "\n",
    "torch.manual_seed(17)\n",
    "\n",
    "device = \"cuda\" if torch.cuda.is_available() else \"cpu\"\n",
    "\n",
    "tokenizer = AutoTokenizer.from_pretrained(\"prajjwal1/bert-small\", use_fast=True, \n",
    "                                          add_prefix_space=True)\n",
    "model = AutoModelForCausalLM.from_pretrained(\"prajjwal1/bert-small\", return_dict_in_generate=True, \n",
    "                                             pad_token_id=tokenizer.eos_token_id).to(device)"
   ]
  },
  {
   "cell_type": "code",
   "execution_count": 5,
   "metadata": {},
   "outputs": [
    {
     "name": "stdout",
     "output_type": "stream",
     "text": [
      "['/home/yoni/Desktop/pymodelextractor_model_guided_extraction/notebooks', '/usr/lib/python310.zip', '/usr/lib/python3.10', '/usr/lib/python3.10/lib-dynload', '', '/home/yoni/.local/lib/python3.10/site-packages', '/usr/local/lib/python3.10/dist-packages', '/usr/lib/python3/dist-packages', '/usr/lib/python3.10/dist-packages', '../', './']\n"
     ]
    }
   ],
   "source": [
    "import sys\n",
    "print(sys.path.append(\"..\"))"
   ]
  },
  {
   "cell_type": "code",
   "execution_count": 12,
   "metadata": {},
   "outputs": [
    {
     "ename": "ImportError",
     "evalue": "cannot import name 'BertSmallProbabilisticModelWrapper' from 'case_studies.bert_small.bert_small_probabilistic_model_wrapper' (/home/yoni/Desktop/pymodelextractor_model_guided_extraction/notebooks/../case_studies/bert_small/bert_small_probabilistic_model_wrapper.py)",
     "output_type": "error",
     "traceback": [
      "\u001b[0;31m---------------------------------------------------------------------------\u001b[0m",
      "\u001b[0;31mImportError\u001b[0m                               Traceback (most recent call last)",
      "Cell \u001b[0;32mIn[12], line 1\u001b[0m\n\u001b[0;32m----> 1\u001b[0m \u001b[39mfrom\u001b[39;00m \u001b[39mcase_studies\u001b[39;00m\u001b[39m.\u001b[39;00m\u001b[39mbert_small\u001b[39;00m\u001b[39m.\u001b[39;00m\u001b[39mbert_small_probabilistic_model_wrapper\u001b[39;00m \u001b[39mimport\u001b[39;00m BertSmallProbabilisticModelWrapper\n\u001b[1;32m      2\u001b[0m \u001b[39mfrom\u001b[39;00m \u001b[39mmini_relm_resources\u001b[39;00m\u001b[39m.\u001b[39;00m\u001b[39mautomata_examples\u001b[39;00m\u001b[39m.\u001b[39;00m\u001b[39mman_woman_dfa\u001b[39;00m \u001b[39mimport\u001b[39;00m alphabet\n\u001b[1;32m      4\u001b[0m model_wrapper \u001b[39m=\u001b[39m BertSmallProbabilisticModelWrapper(model, tokenizer, device, alphabet)\n",
      "\u001b[0;31mImportError\u001b[0m: cannot import name 'BertSmallProbabilisticModelWrapper' from 'case_studies.bert_small.bert_small_probabilistic_model_wrapper' (/home/yoni/Desktop/pymodelextractor_model_guided_extraction/notebooks/../case_studies/bert_small/bert_small_probabilistic_model_wrapper.py)"
     ]
    }
   ],
   "source": [
    "from case_studies.bert_small.bert_small_probabilistic_model_wrapper import BertSmallProbabilisticModelWrapper\n",
    "from mini_relm_resources.automata_examples.man_woman_dfa import alphabet\n",
    "\n",
    "model_wrapper = BertSmallProbabilisticModelWrapper(model, tokenizer, device, alphabet)\n"
   ]
  }
 ],
 "metadata": {
  "kernelspec": {
   "display_name": "Python 3",
   "language": "python",
   "name": "python3"
  },
  "language_info": {
   "codemirror_mode": {
    "name": "ipython",
    "version": 3
   },
   "file_extension": ".py",
   "mimetype": "text/x-python",
   "name": "python",
   "nbconvert_exporter": "python",
   "pygments_lexer": "ipython3",
   "version": "3.10.12"
  },
  "orig_nbformat": 4
 },
 "nbformat": 4,
 "nbformat_minor": 2
}
