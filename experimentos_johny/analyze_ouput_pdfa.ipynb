{
 "cells": [
  {
   "cell_type": "code",
   "execution_count": 1,
   "metadata": {},
   "outputs": [],
   "source": [
    "import joblib\n",
    "pdfa = joblib.load('./pdfa_quant_100')"
   ]
  },
  {
   "cell_type": "code",
   "execution_count": 4,
   "metadata": {},
   "outputs": [
    {
     "name": "stdout",
     "output_type": "stream",
     "text": [
      "State: (.,7,2) weights: [0.0, 0.009033193059766097, 0.035900200028017096, 0.014814116780107077, 0.012509524419302021, 0.015442074873055078, 0.009349135233484096, 0.01012457125783571, 0.014952306289020039, 0.008678326337813708, 0.01432851402380318, 0.8548680376977958]\n",
      "[0.         0.00903319 0.0359002  0.01481412 0.01250952 0.01544207\n",
      " 0.00934914 0.01012457 0.01495231 0.00867833 0.01432851 0.85486804]\n",
      "State: (UNKNOWN) weights: [-1.0, -1.0, -1.0, -1.0, -1.0, -1.0, -1.0, -1.0, -1.0, -1.0, -1.0, -1.0]\n",
      "[0.08333333 0.08333333 0.08333333 0.08333333 0.08333333 0.08333333\n",
      " 0.08333333 0.08333333 0.08333333 0.08333333 0.08333333 0.08333333]\n",
      "State: (.,2,0) weights: [0.0, 0.011720432738294331, 0.019488734064281504, 0.012965320902897742, 0.010122161147974316, 0.008798044382191488, 0.007748446174296328, 0.011141132247341026, 0.00729672927495505, 0.005757277929916345, 0.004436744951526604, 0.9005249761863252]\n",
      "[0.         0.01172043 0.01948873 0.01296532 0.01012216 0.00879804\n",
      " 0.00774845 0.01114113 0.00729673 0.00575728 0.00443674 0.90052498]\n",
      "State: (.,8,3) weights: [0.0, 0.003945998826000902, 0.03037518990464832, 0.010513816339540372, 0.009928493842815704, 0.01086263269662832, 0.004240647470762222, 0.006129567363591963, 0.010271909256224293, 0.006566490434070165, 0.009888314297696115, 0.8972769395680216]\n",
      "[0.         0.003946   0.03037519 0.01051382 0.00992849 0.01086263\n",
      " 0.00424065 0.00612957 0.01027191 0.00656649 0.00988831 0.89727694]\n"
     ]
    }
   ],
   "source": [
    "import numpy as np\n",
    "for state in pdfa.weighted_states:\n",
    "    symbols, weights, next_states = state.get_all_symbol_weights()\n",
    "    if np.sum(weights)<1:\n",
    "        print(f'State: ({state.name}) weights: {weights}')        \n",
    "        new_weights = weights/np.sum(weights)\n",
    "        print(new_weights)"
   ]
  },
  {
   "cell_type": "code",
   "execution_count": null,
   "metadata": {},
   "outputs": [],
   "source": []
  }
 ],
 "metadata": {
  "kernelspec": {
   "display_name": "pymodelextractor_exp",
   "language": "python",
   "name": "python3"
  },
  "language_info": {
   "codemirror_mode": {
    "name": "ipython",
    "version": 3
   },
   "file_extension": ".py",
   "mimetype": "text/x-python",
   "name": "python",
   "nbconvert_exporter": "python",
   "pygments_lexer": "ipython3",
   "version": "3.9.19"
  }
 },
 "nbformat": 4,
 "nbformat_minor": 2
}
