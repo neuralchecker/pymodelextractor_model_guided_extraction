{
 "cells": [
  {
   "cell_type": "code",
   "execution_count": null,
   "metadata": {},
   "outputs": [],
   "source": [
    "import torch\n",
    "from transformers import AutoModelForCausalLM\n",
    "from transformers import AutoTokenizer\n",
    "\n",
    "torch.manual_seed(42)\n",
    "\n",
    "device = \"cuda\" if torch.cuda.is_available() else \"cpu\"\n",
    "model_id = \"gpt2\"\n",
    "\n",
    "tokenizer = AutoTokenizer.from_pretrained(model_id, use_fast=True, local_files_only = True)\n",
    "model = AutoModelForCausalLM.from_pretrained(model_id,\n",
    "                                            return_dict_in_generate=True,\n",
    "                                            pad_token_id=tokenizer.eos_token_id).to(device)"
   ]
  },
  {
   "cell_type": "code",
   "execution_count": null,
   "metadata": {},
   "outputs": [],
   "source": [
    "def calculate_probs(prompt, eos):\n",
    "    str_seq = [tokenizer.tokenize(x) for x in prompt]\n",
    "    str_seq = [item for tokens in str_seq for item in tokens]\n",
    "    prompt_ids = tokenizer.convert_tokens_to_ids(str_seq)        \n",
    "    input_ids = torch.tensor(prompt_ids).reshape(1, -1)  \n",
    "    with torch.no_grad():\n",
    "            output = model(input_ids)\n",
    "            logits = output.logits[:, -1, :]\n",
    "            probs = torch.softmax(logits, dim=-1)[0]\n",
    " \n",
    " \n",
    "    numbers = [\"0\", \"1\", \"2\",\"3\",\"4\",\"5\",\"6\",\"7\",\"8\",\"9\"]\n",
    "    indexes = [tokenizer.encode(number) for number in numbers]\n",
    "    if eos:\n",
    "        indexes.append([tokenizer.eos_token_id])\n",
    "    word_probs = {}\n",
    "    for i in indexes:\n",
    "        word_prob = probs[i]\n",
    "        word_probs[tokenizer.decode(i).replace(\" \",\"\")] = word_prob.item()\n",
    "    normalized_word_probs = {}\n",
    "    total = sum(word_probs.values())\n",
    "    for word in word_probs:\n",
    "        normalized_word_probs[word] = word_probs[word] / total\n",
    "    return normalized_word_probs"
   ]
  },
  {
   "cell_type": "code",
   "execution_count": null,
   "metadata": {},
   "outputs": [],
   "source": [
    "results = []\n",
    "import numpy as np\n",
    "import pandas as pd\n",
    "for i in range(10000):\n",
    "    next_token = \"\"\n",
    "    prompt = [tokenizer.decode(tokenizer.bos_token_id) , \".\"]\n",
    "    min_digits = 1\n",
    "    max_digits = 999999\n",
    "    while next_token != tokenizer.decode(tokenizer.eos_token_id):            \n",
    "        if len(prompt) > min_digits+1:\n",
    "            normalized_word_probs = calculate_probs(prompt, True)\n",
    "        else:\n",
    "            normalized_word_probs = calculate_probs(prompt, False)      \n",
    "       \n",
    "        next_token = np.random.choice(a=list(normalized_word_probs), p=list(normalized_word_probs.values()))\n",
    "        if next_token != tokenizer.decode(tokenizer.eos_token_id):\n",
    "            prompt.append(next_token)                        \n",
    "        if len(prompt)>=max_digits:\n",
    "            next_token = tokenizer.decode(tokenizer.eos_token_id)\n",
    "    results.append(''.join(prompt[1:]))\n",
    "    \n",
    "df = pd.DataFrame(results, columns=[\"floating-point\"])\n",
    "df.to_csv(\"floating_points_LLM.csv\", index=False)\n",
    " "
   ]
  }
 ],
 "metadata": {
  "language_info": {
   "name": "python"
  }
 },
 "nbformat": 4,
 "nbformat_minor": 2
}
