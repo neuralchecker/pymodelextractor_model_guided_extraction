{
 "cells": [
  {
   "cell_type": "code",
   "execution_count": 1,
   "metadata": {},
   "outputs": [],
   "source": [
    "import pandas as pd\n",
    "import numpy as np\n",
    "import matplotlib.pyplot as plt\n",
    "import seaborn as sns"
   ]
  },
  {
   "cell_type": "markdown",
   "metadata": {},
   "source": [
    "# Data Loading"
   ]
  },
  {
   "cell_type": "code",
   "execution_count": 2,
   "metadata": {},
   "outputs": [],
   "source": [
    "evaluation_data = pd.read_csv('./results/results_10_04_2024_07_49_18.csv')"
   ]
  },
  {
   "cell_type": "markdown",
   "metadata": {},
   "source": [
    "# Results Analysis"
   ]
  },
  {
   "cell_type": "code",
   "execution_count": 3,
   "metadata": {},
   "outputs": [],
   "source": [
    "evaluation_data.drop('Unnamed: 0', axis = 1, inplace = True)"
   ]
  },
  {
   "cell_type": "code",
   "execution_count": 4,
   "metadata": {},
   "outputs": [
    {
     "name": "stdout",
     "output_type": "stream",
     "text": [
      "1200\n"
     ]
    },
    {
     "data": {
      "text/html": [
       "<div>\n",
       "<style scoped>\n",
       "    .dataframe tbody tr th:only-of-type {\n",
       "        vertical-align: middle;\n",
       "    }\n",
       "\n",
       "    .dataframe tbody tr th {\n",
       "        vertical-align: top;\n",
       "    }\n",
       "\n",
       "    .dataframe thead th {\n",
       "        text-align: right;\n",
       "    }\n",
       "</style>\n",
       "<table border=\"1\" class=\"dataframe\">\n",
       "  <thead>\n",
       "    <tr style=\"text-align: right;\">\n",
       "      <th></th>\n",
       "      <th>Algorithm</th>\n",
       "      <th>Instance</th>\n",
       "      <th>Number of States</th>\n",
       "      <th>Extracted Number of States</th>\n",
       "      <th>RunNumber</th>\n",
       "      <th>Time(s)</th>\n",
       "      <th>LastTokenQuery</th>\n",
       "      <th>EquivalenceQuery</th>\n",
       "      <th>Tree Depth</th>\n",
       "      <th>Inner Nodes</th>\n",
       "      <th>Accuracy_in_target</th>\n",
       "      <th>Accuracy_anywhere</th>\n",
       "      <th>IsEquivalentExact</th>\n",
       "      <th>IsEquivalentOmitZero</th>\n",
       "      <th>IsMinimal</th>\n",
       "    </tr>\n",
       "  </thead>\n",
       "  <tbody>\n",
       "    <tr>\n",
       "      <th>1190</th>\n",
       "      <td>QuantNaryTreeLearner_Standard_Teacher_exact_te...</td>\n",
       "      <td>random_PDFA_nominal_size_500_5</td>\n",
       "      <td>501</td>\n",
       "      <td>501</td>\n",
       "      <td>1</td>\n",
       "      <td>192.098096</td>\n",
       "      <td>108471</td>\n",
       "      <td>98</td>\n",
       "      <td>5</td>\n",
       "      <td>5</td>\n",
       "      <td>1.0</td>\n",
       "      <td>1.0</td>\n",
       "      <td>True</td>\n",
       "      <td>True</td>\n",
       "      <td>True</td>\n",
       "    </tr>\n",
       "    <tr>\n",
       "      <th>1191</th>\n",
       "      <td>QuantNaryTreeLearner_Standard_Teacher_exact_te...</td>\n",
       "      <td>random_PDFA_nominal_size_500_5</td>\n",
       "      <td>501</td>\n",
       "      <td>501</td>\n",
       "      <td>2</td>\n",
       "      <td>193.172475</td>\n",
       "      <td>108471</td>\n",
       "      <td>98</td>\n",
       "      <td>5</td>\n",
       "      <td>5</td>\n",
       "      <td>1.0</td>\n",
       "      <td>1.0</td>\n",
       "      <td>True</td>\n",
       "      <td>True</td>\n",
       "      <td>True</td>\n",
       "    </tr>\n",
       "    <tr>\n",
       "      <th>1192</th>\n",
       "      <td>QuantNaryTreeLearner_Standard_Teacher_exact_te...</td>\n",
       "      <td>random_PDFA_nominal_size_500_5</td>\n",
       "      <td>501</td>\n",
       "      <td>501</td>\n",
       "      <td>3</td>\n",
       "      <td>193.891552</td>\n",
       "      <td>108471</td>\n",
       "      <td>98</td>\n",
       "      <td>5</td>\n",
       "      <td>5</td>\n",
       "      <td>1.0</td>\n",
       "      <td>1.0</td>\n",
       "      <td>True</td>\n",
       "      <td>True</td>\n",
       "      <td>True</td>\n",
       "    </tr>\n",
       "    <tr>\n",
       "      <th>1193</th>\n",
       "      <td>QuantNaryTreeLearner_Standard_Teacher_exact_te...</td>\n",
       "      <td>random_PDFA_nominal_size_500_5</td>\n",
       "      <td>501</td>\n",
       "      <td>501</td>\n",
       "      <td>4</td>\n",
       "      <td>193.806176</td>\n",
       "      <td>108471</td>\n",
       "      <td>98</td>\n",
       "      <td>5</td>\n",
       "      <td>5</td>\n",
       "      <td>1.0</td>\n",
       "      <td>1.0</td>\n",
       "      <td>True</td>\n",
       "      <td>True</td>\n",
       "      <td>True</td>\n",
       "    </tr>\n",
       "    <tr>\n",
       "      <th>1194</th>\n",
       "      <td>QuantNaryTreeLearner_Standard_Teacher_exact_te...</td>\n",
       "      <td>random_PDFA_nominal_size_500_5</td>\n",
       "      <td>501</td>\n",
       "      <td>501</td>\n",
       "      <td>5</td>\n",
       "      <td>193.576843</td>\n",
       "      <td>108471</td>\n",
       "      <td>98</td>\n",
       "      <td>5</td>\n",
       "      <td>5</td>\n",
       "      <td>1.0</td>\n",
       "      <td>1.0</td>\n",
       "      <td>True</td>\n",
       "      <td>True</td>\n",
       "      <td>True</td>\n",
       "    </tr>\n",
       "    <tr>\n",
       "      <th>1195</th>\n",
       "      <td>QuantNaryTreeLearner_Standard_Teacher_exact_te...</td>\n",
       "      <td>random_PDFA_nominal_size_500_5</td>\n",
       "      <td>501</td>\n",
       "      <td>501</td>\n",
       "      <td>6</td>\n",
       "      <td>193.496870</td>\n",
       "      <td>108471</td>\n",
       "      <td>98</td>\n",
       "      <td>5</td>\n",
       "      <td>5</td>\n",
       "      <td>1.0</td>\n",
       "      <td>1.0</td>\n",
       "      <td>True</td>\n",
       "      <td>True</td>\n",
       "      <td>True</td>\n",
       "    </tr>\n",
       "    <tr>\n",
       "      <th>1196</th>\n",
       "      <td>QuantNaryTreeLearner_Standard_Teacher_exact_te...</td>\n",
       "      <td>random_PDFA_nominal_size_500_5</td>\n",
       "      <td>501</td>\n",
       "      <td>501</td>\n",
       "      <td>7</td>\n",
       "      <td>194.374816</td>\n",
       "      <td>108471</td>\n",
       "      <td>98</td>\n",
       "      <td>5</td>\n",
       "      <td>5</td>\n",
       "      <td>1.0</td>\n",
       "      <td>1.0</td>\n",
       "      <td>True</td>\n",
       "      <td>True</td>\n",
       "      <td>True</td>\n",
       "    </tr>\n",
       "    <tr>\n",
       "      <th>1197</th>\n",
       "      <td>QuantNaryTreeLearner_Standard_Teacher_exact_te...</td>\n",
       "      <td>random_PDFA_nominal_size_500_5</td>\n",
       "      <td>501</td>\n",
       "      <td>501</td>\n",
       "      <td>8</td>\n",
       "      <td>192.846274</td>\n",
       "      <td>108471</td>\n",
       "      <td>98</td>\n",
       "      <td>5</td>\n",
       "      <td>5</td>\n",
       "      <td>1.0</td>\n",
       "      <td>1.0</td>\n",
       "      <td>True</td>\n",
       "      <td>True</td>\n",
       "      <td>True</td>\n",
       "    </tr>\n",
       "    <tr>\n",
       "      <th>1198</th>\n",
       "      <td>QuantNaryTreeLearner_Standard_Teacher_exact_te...</td>\n",
       "      <td>random_PDFA_nominal_size_500_5</td>\n",
       "      <td>501</td>\n",
       "      <td>501</td>\n",
       "      <td>9</td>\n",
       "      <td>193.441047</td>\n",
       "      <td>108471</td>\n",
       "      <td>98</td>\n",
       "      <td>5</td>\n",
       "      <td>5</td>\n",
       "      <td>1.0</td>\n",
       "      <td>1.0</td>\n",
       "      <td>True</td>\n",
       "      <td>True</td>\n",
       "      <td>True</td>\n",
       "    </tr>\n",
       "    <tr>\n",
       "      <th>1199</th>\n",
       "      <td>QuantNaryTreeLearner_Standard_Teacher_exact_te...</td>\n",
       "      <td>random_PDFA_nominal_size_500_5</td>\n",
       "      <td>501</td>\n",
       "      <td>501</td>\n",
       "      <td>10</td>\n",
       "      <td>192.974353</td>\n",
       "      <td>108471</td>\n",
       "      <td>98</td>\n",
       "      <td>5</td>\n",
       "      <td>5</td>\n",
       "      <td>1.0</td>\n",
       "      <td>1.0</td>\n",
       "      <td>True</td>\n",
       "      <td>True</td>\n",
       "      <td>True</td>\n",
       "    </tr>\n",
       "  </tbody>\n",
       "</table>\n",
       "</div>"
      ],
      "text/plain": [
       "                                              Algorithm  \\\n",
       "1190  QuantNaryTreeLearner_Standard_Teacher_exact_te...   \n",
       "1191  QuantNaryTreeLearner_Standard_Teacher_exact_te...   \n",
       "1192  QuantNaryTreeLearner_Standard_Teacher_exact_te...   \n",
       "1193  QuantNaryTreeLearner_Standard_Teacher_exact_te...   \n",
       "1194  QuantNaryTreeLearner_Standard_Teacher_exact_te...   \n",
       "1195  QuantNaryTreeLearner_Standard_Teacher_exact_te...   \n",
       "1196  QuantNaryTreeLearner_Standard_Teacher_exact_te...   \n",
       "1197  QuantNaryTreeLearner_Standard_Teacher_exact_te...   \n",
       "1198  QuantNaryTreeLearner_Standard_Teacher_exact_te...   \n",
       "1199  QuantNaryTreeLearner_Standard_Teacher_exact_te...   \n",
       "\n",
       "                            Instance  Number of States  \\\n",
       "1190  random_PDFA_nominal_size_500_5               501   \n",
       "1191  random_PDFA_nominal_size_500_5               501   \n",
       "1192  random_PDFA_nominal_size_500_5               501   \n",
       "1193  random_PDFA_nominal_size_500_5               501   \n",
       "1194  random_PDFA_nominal_size_500_5               501   \n",
       "1195  random_PDFA_nominal_size_500_5               501   \n",
       "1196  random_PDFA_nominal_size_500_5               501   \n",
       "1197  random_PDFA_nominal_size_500_5               501   \n",
       "1198  random_PDFA_nominal_size_500_5               501   \n",
       "1199  random_PDFA_nominal_size_500_5               501   \n",
       "\n",
       "      Extracted Number of States  RunNumber     Time(s)  LastTokenQuery  \\\n",
       "1190                         501          1  192.098096          108471   \n",
       "1191                         501          2  193.172475          108471   \n",
       "1192                         501          3  193.891552          108471   \n",
       "1193                         501          4  193.806176          108471   \n",
       "1194                         501          5  193.576843          108471   \n",
       "1195                         501          6  193.496870          108471   \n",
       "1196                         501          7  194.374816          108471   \n",
       "1197                         501          8  192.846274          108471   \n",
       "1198                         501          9  193.441047          108471   \n",
       "1199                         501         10  192.974353          108471   \n",
       "\n",
       "      EquivalenceQuery  Tree Depth  Inner Nodes  Accuracy_in_target  \\\n",
       "1190                98           5            5                 1.0   \n",
       "1191                98           5            5                 1.0   \n",
       "1192                98           5            5                 1.0   \n",
       "1193                98           5            5                 1.0   \n",
       "1194                98           5            5                 1.0   \n",
       "1195                98           5            5                 1.0   \n",
       "1196                98           5            5                 1.0   \n",
       "1197                98           5            5                 1.0   \n",
       "1198                98           5            5                 1.0   \n",
       "1199                98           5            5                 1.0   \n",
       "\n",
       "      Accuracy_anywhere  IsEquivalentExact  IsEquivalentOmitZero  IsMinimal  \n",
       "1190                1.0               True                  True       True  \n",
       "1191                1.0               True                  True       True  \n",
       "1192                1.0               True                  True       True  \n",
       "1193                1.0               True                  True       True  \n",
       "1194                1.0               True                  True       True  \n",
       "1195                1.0               True                  True       True  \n",
       "1196                1.0               True                  True       True  \n",
       "1197                1.0               True                  True       True  \n",
       "1198                1.0               True                  True       True  \n",
       "1199                1.0               True                  True       True  "
      ]
     },
     "execution_count": 4,
     "metadata": {},
     "output_type": "execute_result"
    }
   ],
   "source": [
    "print(len(evaluation_data))\n",
    "evaluation_data.tail(10)"
   ]
  },
  {
   "cell_type": "code",
   "execution_count": 5,
   "metadata": {},
   "outputs": [],
   "source": [
    "def nearest_value(x, values):\n",
    "    return min(values, key=lambda y: abs(y - x))\n",
    "\n",
    "evaluation_data['Nominal_Size'] = evaluation_data['Number of States'].apply(lambda x: nearest_value(x, [250, 500,750,1000] ))"
   ]
  },
  {
   "cell_type": "code",
   "execution_count": 6,
   "metadata": {},
   "outputs": [],
   "source": [
    "import math\n",
    "\n",
    "evaluation_data['TREE_SIZE'] = evaluation_data['Inner Nodes']+evaluation_data['Extracted Number of States']"
   ]
  },
  {
   "cell_type": "code",
   "execution_count": 7,
   "metadata": {},
   "outputs": [],
   "source": [
    "def IQR(data):\n",
    "    Q1 = data.quantile(0.25)\n",
    "    Q3 = data.quantile(0.75)\n",
    "    res = Q3 - Q1\n",
    "    return res\n",
    "\n",
    "cols_to_agg = ['Time(s)', 'LastTokenQuery', 'EquivalenceQuery', 'Extracted Number of States', 'Accuracy_in_target', 'Accuracy_anywhere', 'TREE_SIZE']\n",
    "funcs =  ['median', IQR]  \n",
    "names = ['median', 'IQR']  \n",
    "grouped_multiple = evaluation_data.groupby(['Algorithm', 'Nominal_Size']).agg({x:funcs for x in cols_to_agg})\n",
    "col_names = [x+\"_\"+fun_name for x in cols_to_agg for fun_name in names]\n",
    "grouped_multiple.columns = col_names\n",
    "#grouped_multiple.columns = ['Time(s)_median','Time(s)_IQR', 'MembershipQuery_median', 'MembershipQuery_IQR', \n",
    "#'EquivalenceQuery_median', 'EquivalenceQuery_IQR', 'Extracted Number of States_median', 'Extracted Number of States_IQR',]\n",
    "grouped_multiple.reset_index(inplace = True)"
   ]
  },
  {
   "cell_type": "code",
   "execution_count": 8,
   "metadata": {},
   "outputs": [
    {
     "data": {
      "text/plain": [
       "Index(['Algorithm', 'Instance', 'Number of States',\n",
       "       'Extracted Number of States', 'RunNumber', 'Time(s)', 'LastTokenQuery',\n",
       "       'EquivalenceQuery', 'Tree Depth', 'Inner Nodes', 'Accuracy_in_target',\n",
       "       'Accuracy_anywhere', 'IsEquivalentExact', 'IsEquivalentOmitZero',\n",
       "       'IsMinimal', 'Nominal_Size', 'TREE_SIZE'],\n",
       "      dtype='object')"
      ]
     },
     "execution_count": 8,
     "metadata": {},
     "output_type": "execute_result"
    }
   ],
   "source": [
    "evaluation_data.columns"
   ]
  },
  {
   "cell_type": "code",
   "execution_count": 9,
   "metadata": {},
   "outputs": [
    {
     "data": {
      "text/plain": [
       "12"
      ]
     },
     "execution_count": 9,
     "metadata": {},
     "output_type": "execute_result"
    }
   ],
   "source": [
    "len(grouped_multiple)"
   ]
  },
  {
   "cell_type": "code",
   "execution_count": 10,
   "metadata": {},
   "outputs": [],
   "source": [
    "evaluation_data_exact = evaluation_data[evaluation_data[\"Algorithm\"].apply(lambda x: 'exact' in str(x))]\n",
    "evaluation_data_sampling =  evaluation_data[evaluation_data[\"Algorithm\"].apply(lambda x: 'exact' not in str(x))]"
   ]
  },
  {
   "cell_type": "code",
   "execution_count": 19,
   "metadata": {},
   "outputs": [
    {
     "data": {
      "image/png": "[encoded data removed]",
      "text/plain": [
       "<Figure size 308.16x238.176 with 1 Axes>"
      ]
     },
     "metadata": {},
     "output_type": "display_data"
    }
   ],
   "source": [
    "sns.set(rc={'figure.figsize':(10.7/2.5,8.27/2.5)})\n",
    "sns.set_style(\"whitegrid\")\n",
    "# Compute quartiles\n",
    "quartiles = evaluation_data_exact.groupby(['Algorithm', 'Nominal_Size'])['Time(s)'].quantile([0.25, 0.5, 0.75]).unstack(level=0)\n",
    "\n",
    "# Calculate means\n",
    "means = evaluation_data_exact.groupby(['Algorithm', 'Nominal_Size'])['Time(s)'].median().unstack(level=0)\n",
    "\n",
    "# Plot quartiles with error bars\n",
    "for algo in evaluation_data_exact['Algorithm'].unique():\n",
    "    sns.lineplot(data=means[algo], marker='o', label=algo, linewidth = 3)\n",
    "    #plt.errorbar(x=means.index, y=means[algo], yerr=[means[algo] - quartiles[algo].loc[:,0.25], quartiles[algo].loc[:,0.75] - means[algo]], fmt='o')\n",
    "    plt.fill_between(x=means.index, y1=quartiles[algo].loc[:,0.25], y2= quartiles[algo].loc[:,0.75], alpha = 0.4)\n",
    "\n",
    "plt.legend(title='Algorithm', fontsize=12, frameon=True, loc = 'upper left')\n",
    "plt.xlabel(\"Nominal Size\", fontsize=12)\n",
    "plt.ylabel(\"Learning Time (s)\", fontsize=12)\n",
    "\n",
    "new_labels = [\"Omit Zero Transitions\",\" Teacher Filter\",\"Standard Algorithm\"]\n",
    "for t, l in zip(plt.gca().get_legend().get_texts(), new_labels):\n",
    "    t.set_text(l)\n",
    "\n",
    "plt.show()"
   ]
  },
  {
   "cell_type": "code",
   "execution_count": 12,
   "metadata": {},
   "outputs": [
    {
     "data": {
      "image/png": "[encoded data removed]",
      "text/plain": [
       "<Figure size 482.4x595.44 with 1 Axes>"
      ]
     },
     "metadata": {},
     "output_type": "display_data"
    }
   ],
   "source": [
    "import seaborn as sns\n",
    "sns.set(rc={'figure.figsize':(6.7,8.27)})\n",
    "sns.set_style(\"whitegrid\")\n",
    "ax = sns.boxplot(x=\"Nominal_Size\", y=\"Time(s)\", hue=\"Algorithm\",\n",
    "                 data=evaluation_data_exact)\n",
    "#plt.legend(title = 'Algorithm', labels=[\"QuaNT\",\"$\\mathrm{L_{P}^*}$\"], fontsize = 12, frameon=True)\n",
    "ax.set_xlabel(\"Nominal Target Size\", fontsize = 12)\n",
    "ax.set_ylabel(\"Learning Time (s)\", fontsize = 12)\n",
    "new_labels = [\"Omit Zero Transitions\",\" Teacher Filter\",\"Standard Algorithm\"]\n",
    "for t, l in zip(ax.get_legend().get_texts(), new_labels):\n",
    "    t.set_text(l)"
   ]
  },
  {
   "cell_type": "code",
   "execution_count": 13,
   "metadata": {},
   "outputs": [
    {
     "data": {
      "image/png": "[encoded data removed]",
      "text/plain": [
       "<Figure size 482.4x595.44 with 1 Axes>"
      ]
     },
     "metadata": {},
     "output_type": "display_data"
    }
   ],
   "source": [
    "import seaborn as sns\n",
    "sns.set(rc={'figure.figsize':(6.7,8.27)})\n",
    "sns.set_style(\"whitegrid\")\n",
    "ax = sns.boxplot(x=\"Nominal_Size\", y=\"LastTokenQuery\", hue=\"Algorithm\",\n",
    "                 data=evaluation_data_exact)\n",
    "#plt.legend(title = 'Algorithm', labels=[\"QuaNT\",\"$\\mathrm{L_{P}^*}$\"], fontsize = 12, frameon=True)\n",
    "ax.set_xlabel(\"Nominal Target Size\", fontsize = 12)\n",
    "ax.set_ylabel(\"Last Token Queries\", fontsize = 12)\n",
    "new_labels = [\"Omit Zero Transitions\",\" Teacher Filter\",\"Standard Algorithm\"]\n",
    "for t, l in zip(ax.get_legend().get_texts(), new_labels):\n",
    "    t.set_text(l)"
   ]
  },
  {
   "cell_type": "code",
   "execution_count": 14,
   "metadata": {},
   "outputs": [
    {
     "data": {
      "image/png": "[encoded data removed]",
      "text/plain": [
       "<Figure size 482.4x595.44 with 1 Axes>"
      ]
     },
     "metadata": {},
     "output_type": "display_data"
    }
   ],
   "source": [
    "import seaborn as sns\n",
    "#sns.set(rc={'figure.figsize':(6.7,8.27)})\n",
    "sns.set_style(\"whitegrid\")\n",
    "ax = sns.boxplot(x=\"Nominal_Size\", y=\"EquivalenceQuery\", hue=\"Algorithm\",\n",
    "                 data=evaluation_data_exact)\n",
    "#plt.legend(title = 'Algorithm', labels=[\"QuaNT\",\"$\\mathrm{L_{P}^*}$\"], fontsize = 12, frameon=True)\n",
    "ax.set_xlabel(\"Nominal Target Size\", fontsize = 12)\n",
    "ax.set_ylabel(\"Equivalence Queries\", fontsize = 12)\n",
    "new_labels = [\"Omit Zero Transitions\",\" Teacher Filter\",\"Standard Algorithm\"]\n",
    "for t, l in zip(ax.get_legend().get_texts(), new_labels):\n",
    "    t.set_text(l)"
   ]
  },
  {
   "cell_type": "code",
   "execution_count": 15,
   "metadata": {},
   "outputs": [
    {
     "data": {
      "image/png": "[encoded data removed]",
      "text/plain": [
       "<Figure size 482.4x595.44 with 1 Axes>"
      ]
     },
     "metadata": {},
     "output_type": "display_data"
    }
   ],
   "source": [
    "import seaborn as sns\n",
    "#sns.set(rc={'figure.figsize':(6.7,8.27)})\n",
    "sns.set_style(\"whitegrid\")\n",
    "ax = sns.boxplot(x=\"Nominal_Size\", y=\"Extracted Number of States\", hue=\"Algorithm\",\n",
    "                 data=evaluation_data_exact)\n",
    "#plt.legend(title = 'Algorithm', labels=[\"QuaNT\",\"$\\mathrm{L_{P}^*}$\"], fontsize = 12, frameon=True)\n",
    "ax.set_xlabel(\"Nominal Target Size\", fontsize = 12)\n",
    "ax.set_ylabel(\"Extracted Number of States\", fontsize = 12)\n",
    "new_labels = [\"Omit Zero Transitions\",\" Teacher Filter\",\"Standard Algorithm\"]\n",
    "for t, l in zip(ax.get_legend().get_texts(), new_labels):\n",
    "    t.set_text(l)"
   ]
  },
  {
   "cell_type": "code",
   "execution_count": 16,
   "metadata": {},
   "outputs": [
    {
     "data": {
      "text/plain": [
       "True    1200\n",
       "Name: IsEquivalentOmitZero, dtype: int64"
      ]
     },
     "execution_count": 16,
     "metadata": {},
     "output_type": "execute_result"
    }
   ],
   "source": [
    "evaluation_data_exact[\"IsEquivalentOmitZero\"].value_counts()"
   ]
  },
  {
   "cell_type": "code",
   "execution_count": 17,
   "metadata": {},
   "outputs": [
    {
     "ename": "ValueError",
     "evalue": "min() arg is an empty sequence",
     "output_type": "error",
     "traceback": [
      "\u001b[1;31m---------------------------------------------------------------------------\u001b[0m",
      "\u001b[1;31mValueError\u001b[0m                                Traceback (most recent call last)",
      "Input \u001b[1;32mIn [17]\u001b[0m, in \u001b[0;36m<module>\u001b[1;34m\u001b[0m\n\u001b[0;32m      2\u001b[0m \u001b[38;5;66;03m#sns.set(rc={'figure.figsize':(6.7,8.27)})\u001b[39;00m\n\u001b[0;32m      3\u001b[0m sns\u001b[38;5;241m.\u001b[39mset_style(\u001b[38;5;124m\"\u001b[39m\u001b[38;5;124mwhitegrid\u001b[39m\u001b[38;5;124m\"\u001b[39m)\n\u001b[1;32m----> 4\u001b[0m ax \u001b[38;5;241m=\u001b[39m \u001b[43msns\u001b[49m\u001b[38;5;241;43m.\u001b[39;49m\u001b[43mboxplot\u001b[49m\u001b[43m(\u001b[49m\u001b[43mx\u001b[49m\u001b[38;5;241;43m=\u001b[39;49m\u001b[38;5;124;43m\"\u001b[39;49m\u001b[38;5;124;43mNominal_Size\u001b[39;49m\u001b[38;5;124;43m\"\u001b[39;49m\u001b[43m,\u001b[49m\u001b[43m \u001b[49m\u001b[43my\u001b[49m\u001b[38;5;241;43m=\u001b[39;49m\u001b[38;5;124;43m\"\u001b[39;49m\u001b[38;5;124;43mTime(s)\u001b[39;49m\u001b[38;5;124;43m\"\u001b[39;49m\u001b[43m,\u001b[49m\u001b[43m \u001b[49m\u001b[43mhue\u001b[49m\u001b[38;5;241;43m=\u001b[39;49m\u001b[38;5;124;43m\"\u001b[39;49m\u001b[38;5;124;43mAlgorithm\u001b[39;49m\u001b[38;5;124;43m\"\u001b[39;49m\u001b[43m,\u001b[49m\n\u001b[0;32m      5\u001b[0m \u001b[43m                 \u001b[49m\u001b[43mdata\u001b[49m\u001b[38;5;241;43m=\u001b[39;49m\u001b[43mevaluation_data_sampling\u001b[49m\u001b[43m)\u001b[49m\n\u001b[0;32m      7\u001b[0m ax\u001b[38;5;241m.\u001b[39mset_xlabel(\u001b[38;5;124m\"\u001b[39m\u001b[38;5;124mNominal Target Size\u001b[39m\u001b[38;5;124m\"\u001b[39m, fontsize \u001b[38;5;241m=\u001b[39m \u001b[38;5;241m12\u001b[39m)\n\u001b[0;32m      8\u001b[0m ax\u001b[38;5;241m.\u001b[39mset_ylabel(\u001b[38;5;124m\"\u001b[39m\u001b[38;5;124mLearning Time (s)\u001b[39m\u001b[38;5;124m\"\u001b[39m, fontsize \u001b[38;5;241m=\u001b[39m \u001b[38;5;241m12\u001b[39m)\n",
      "File \u001b[1;32mc:\\Users\\franz\\anaconda3\\envs\\pymodelextractor_exp\\lib\\site-packages\\seaborn\\_decorators.py:46\u001b[0m, in \u001b[0;36m_deprecate_positional_args.<locals>.inner_f\u001b[1;34m(*args, **kwargs)\u001b[0m\n\u001b[0;32m     36\u001b[0m     warnings\u001b[38;5;241m.\u001b[39mwarn(\n\u001b[0;32m     37\u001b[0m         \u001b[38;5;124m\"\u001b[39m\u001b[38;5;124mPass the following variable\u001b[39m\u001b[38;5;132;01m{}\u001b[39;00m\u001b[38;5;124m as \u001b[39m\u001b[38;5;132;01m{}\u001b[39;00m\u001b[38;5;124mkeyword arg\u001b[39m\u001b[38;5;132;01m{}\u001b[39;00m\u001b[38;5;124m: \u001b[39m\u001b[38;5;132;01m{}\u001b[39;00m\u001b[38;5;124m. \u001b[39m\u001b[38;5;124m\"\u001b[39m\n\u001b[0;32m     38\u001b[0m         \u001b[38;5;124m\"\u001b[39m\u001b[38;5;124mFrom version 0.12, the only valid positional argument \u001b[39m\u001b[38;5;124m\"\u001b[39m\n\u001b[1;32m   (...)\u001b[0m\n\u001b[0;32m     43\u001b[0m         \u001b[38;5;167;01mFutureWarning\u001b[39;00m\n\u001b[0;32m     44\u001b[0m     )\n\u001b[0;32m     45\u001b[0m kwargs\u001b[38;5;241m.\u001b[39mupdate({k: arg \u001b[38;5;28;01mfor\u001b[39;00m k, arg \u001b[38;5;129;01min\u001b[39;00m \u001b[38;5;28mzip\u001b[39m(sig\u001b[38;5;241m.\u001b[39mparameters, args)})\n\u001b[1;32m---> 46\u001b[0m \u001b[38;5;28;01mreturn\u001b[39;00m f(\u001b[38;5;241m*\u001b[39m\u001b[38;5;241m*\u001b[39mkwargs)\n",
      "File \u001b[1;32mc:\\Users\\franz\\anaconda3\\envs\\pymodelextractor_exp\\lib\\site-packages\\seaborn\\categorical.py:2243\u001b[0m, in \u001b[0;36mboxplot\u001b[1;34m(x, y, hue, data, order, hue_order, orient, color, palette, saturation, width, dodge, fliersize, linewidth, whis, ax, **kwargs)\u001b[0m\n\u001b[0;32m   2231\u001b[0m \u001b[38;5;129m@_deprecate_positional_args\u001b[39m\n\u001b[0;32m   2232\u001b[0m \u001b[38;5;28;01mdef\u001b[39;00m \u001b[38;5;21mboxplot\u001b[39m(\n\u001b[0;32m   2233\u001b[0m     \u001b[38;5;241m*\u001b[39m,\n\u001b[1;32m   (...)\u001b[0m\n\u001b[0;32m   2240\u001b[0m     \u001b[38;5;241m*\u001b[39m\u001b[38;5;241m*\u001b[39mkwargs\n\u001b[0;32m   2241\u001b[0m ):\n\u001b[1;32m-> 2243\u001b[0m     plotter \u001b[38;5;241m=\u001b[39m \u001b[43m_BoxPlotter\u001b[49m\u001b[43m(\u001b[49m\u001b[43mx\u001b[49m\u001b[43m,\u001b[49m\u001b[43m \u001b[49m\u001b[43my\u001b[49m\u001b[43m,\u001b[49m\u001b[43m \u001b[49m\u001b[43mhue\u001b[49m\u001b[43m,\u001b[49m\u001b[43m \u001b[49m\u001b[43mdata\u001b[49m\u001b[43m,\u001b[49m\u001b[43m \u001b[49m\u001b[43morder\u001b[49m\u001b[43m,\u001b[49m\u001b[43m \u001b[49m\u001b[43mhue_order\u001b[49m\u001b[43m,\u001b[49m\n\u001b[0;32m   2244\u001b[0m \u001b[43m                          \u001b[49m\u001b[43morient\u001b[49m\u001b[43m,\u001b[49m\u001b[43m \u001b[49m\u001b[43mcolor\u001b[49m\u001b[43m,\u001b[49m\u001b[43m \u001b[49m\u001b[43mpalette\u001b[49m\u001b[43m,\u001b[49m\u001b[43m \u001b[49m\u001b[43msaturation\u001b[49m\u001b[43m,\u001b[49m\n\u001b[0;32m   2245\u001b[0m \u001b[43m                          \u001b[49m\u001b[43mwidth\u001b[49m\u001b[43m,\u001b[49m\u001b[43m \u001b[49m\u001b[43mdodge\u001b[49m\u001b[43m,\u001b[49m\u001b[43m \u001b[49m\u001b[43mfliersize\u001b[49m\u001b[43m,\u001b[49m\u001b[43m \u001b[49m\u001b[43mlinewidth\u001b[49m\u001b[43m)\u001b[49m\n\u001b[0;32m   2247\u001b[0m     \u001b[38;5;28;01mif\u001b[39;00m ax \u001b[38;5;129;01mis\u001b[39;00m \u001b[38;5;28;01mNone\u001b[39;00m:\n\u001b[0;32m   2248\u001b[0m         ax \u001b[38;5;241m=\u001b[39m plt\u001b[38;5;241m.\u001b[39mgca()\n",
      "File \u001b[1;32mc:\\Users\\franz\\anaconda3\\envs\\pymodelextractor_exp\\lib\\site-packages\\seaborn\\categorical.py:407\u001b[0m, in \u001b[0;36m_BoxPlotter.__init__\u001b[1;34m(self, x, y, hue, data, order, hue_order, orient, color, palette, saturation, width, dodge, fliersize, linewidth)\u001b[0m\n\u001b[0;32m    402\u001b[0m \u001b[38;5;28;01mdef\u001b[39;00m \u001b[38;5;21m__init__\u001b[39m(\u001b[38;5;28mself\u001b[39m, x, y, hue, data, order, hue_order,\n\u001b[0;32m    403\u001b[0m              orient, color, palette, saturation,\n\u001b[0;32m    404\u001b[0m              width, dodge, fliersize, linewidth):\n\u001b[0;32m    406\u001b[0m     \u001b[38;5;28mself\u001b[39m\u001b[38;5;241m.\u001b[39mestablish_variables(x, y, hue, data, orient, order, hue_order)\n\u001b[1;32m--> 407\u001b[0m     \u001b[38;5;28;43mself\u001b[39;49m\u001b[38;5;241;43m.\u001b[39;49m\u001b[43mestablish_colors\u001b[49m\u001b[43m(\u001b[49m\u001b[43mcolor\u001b[49m\u001b[43m,\u001b[49m\u001b[43m \u001b[49m\u001b[43mpalette\u001b[49m\u001b[43m,\u001b[49m\u001b[43m \u001b[49m\u001b[43msaturation\u001b[49m\u001b[43m)\u001b[49m\n\u001b[0;32m    409\u001b[0m     \u001b[38;5;28mself\u001b[39m\u001b[38;5;241m.\u001b[39mdodge \u001b[38;5;241m=\u001b[39m dodge\n\u001b[0;32m    410\u001b[0m     \u001b[38;5;28mself\u001b[39m\u001b[38;5;241m.\u001b[39mwidth \u001b[38;5;241m=\u001b[39m width\n",
      "File \u001b[1;32mc:\\Users\\franz\\anaconda3\\envs\\pymodelextractor_exp\\lib\\site-packages\\seaborn\\categorical.py:319\u001b[0m, in \u001b[0;36m_CategoricalPlotter.establish_colors\u001b[1;34m(self, color, palette, saturation)\u001b[0m\n\u001b[0;32m    317\u001b[0m \u001b[38;5;66;03m# Determine the gray color to use for the lines framing the plot\u001b[39;00m\n\u001b[0;32m    318\u001b[0m light_vals \u001b[38;5;241m=\u001b[39m [colorsys\u001b[38;5;241m.\u001b[39mrgb_to_hls(\u001b[38;5;241m*\u001b[39mc)[\u001b[38;5;241m1\u001b[39m] \u001b[38;5;28;01mfor\u001b[39;00m c \u001b[38;5;129;01min\u001b[39;00m rgb_colors]\n\u001b[1;32m--> 319\u001b[0m lum \u001b[38;5;241m=\u001b[39m \u001b[38;5;28;43mmin\u001b[39;49m\u001b[43m(\u001b[49m\u001b[43mlight_vals\u001b[49m\u001b[43m)\u001b[49m \u001b[38;5;241m*\u001b[39m \u001b[38;5;241m.6\u001b[39m\n\u001b[0;32m    320\u001b[0m gray \u001b[38;5;241m=\u001b[39m mpl\u001b[38;5;241m.\u001b[39mcolors\u001b[38;5;241m.\u001b[39mrgb2hex((lum, lum, lum))\n\u001b[0;32m    322\u001b[0m \u001b[38;5;66;03m# Assign object attributes\u001b[39;00m\n",
      "\u001b[1;31mValueError\u001b[0m: min() arg is an empty sequence"
     ]
    }
   ],
   "source": [
    "import seaborn as sns\n",
    "#sns.set(rc={'figure.figsize':(6.7,8.27)})\n",
    "sns.set_style(\"whitegrid\")\n",
    "ax = sns.boxplot(x=\"Nominal_Size\", y=\"Time(s)\", hue=\"Algorithm\",\n",
    "                 data=evaluation_data_sampling)\n",
    "\n",
    "ax.set_xlabel(\"Nominal Target Size\", fontsize = 12)\n",
    "ax.set_ylabel(\"Learning Time (s)\", fontsize = 12)\n",
    "new_labels = [\"Omit Zero Transitions\",\" Teacher Filter\",\"Standard Algorithm\"]\n",
    "for t, l in zip(ax.get_legend().get_texts(), new_labels):\n",
    "    t.set_text(l)"
   ]
  },
  {
   "cell_type": "code",
   "execution_count": null,
   "metadata": {},
   "outputs": [],
   "source": []
  },
  {
   "cell_type": "code",
   "execution_count": null,
   "metadata": {},
   "outputs": [],
   "source": [
    "import seaborn as sns\n",
    "#sns.set(rc={'figure.figsize':(6.7,8.27)})\n",
    "pivot = int(len(grouped_multiple)/3)\n",
    "\n",
    "zero = np.array(grouped_multiple[\"Time(s)_median\"][0:pivot])\n",
    "standard = np.array(grouped_multiple[\"Time(s)_median\"][pivot:2*pivot])\n",
    "teacher_filter = np.array(grouped_multiple[\"Time(s)_median\"][2*pivot:])\n",
    "\n",
    "speedup_filter_vs_zero = teacher_filter/zero\n",
    "speedup_standard_vs_zero = standard / zero\n",
    "\n",
    "sns.set_style(\"whitegrid\")\n",
    "ax = sns.regplot(x=grouped_multiple['Nominal_Size'][0:pivot], y=speedup_filter_vs_zero, order=1, ci=None, label=\"Teacher Filter vs Omit Zero\")\n",
    "ax = sns.regplot(x=grouped_multiple['Nominal_Size'][0:pivot], y=speedup_standard_vs_zero, order=1, ci=None, label=\"Standard Teacher vs Omit Zero\")\n",
    "ax.set_xlabel(\"Nominal_Size\", fontsize = 12)\n",
    "ax.set_ylabel(\"Speedup\", fontsize = 12)\n",
    "ax.legend()"
   ]
  },
  {
   "cell_type": "code",
   "execution_count": null,
   "metadata": {},
   "outputs": [],
   "source": [
    "speedup_filter_vs_zero"
   ]
  },
  {
   "cell_type": "code",
   "execution_count": null,
   "metadata": {},
   "outputs": [],
   "source": []
  },
  {
   "cell_type": "code",
   "execution_count": null,
   "metadata": {},
   "outputs": [],
   "source": [
    "import seaborn as sns\n",
    "#sns.set(rc={'figure.figsize':(6.7,8.27)})\n",
    "sns.set_style(\"whitegrid\")\n",
    "ax = sns.lmplot(x=\"Nominal_Size\", y=\"Accuracy_in_target_median\", hue=\"Algorithm\",\n",
    "                 data=grouped_multiple, legend = True, legend_out = False, order = 2, ci=None, size = 6)\n",
    "#plt.legend(title = 'Algorithm', labels=[\"QuaNT\",\"$\\mathrm{L_{P}^*}$\"], fontsize = 12, frameon=True)\n",
    "ax.axes[0,0].set_xlabel(\"Actual Target Size\", fontsize = 12)\n",
    "ax.axes[0,0].set_ylabel(\"Accuracy in target median\", fontsize = 12)\n",
    "#new_labels = [\"Omit Zero Transitions\",\"Standard Teacher\",\"Teacher Filter\"]\n",
    "#for t, l in zip(ax._legend.texts, new_labels):\n",
    "#    t.set_text(l)"
   ]
  },
  {
   "cell_type": "code",
   "execution_count": null,
   "metadata": {},
   "outputs": [],
   "source": [
    "import seaborn as sns\n",
    "#sns.set(rc={'figure.figsize':(6.7,8.27)})\n",
    "sns.set_style(\"whitegrid\")\n",
    "ax = sns.lmplot(x=\"Nominal_Size\", y=\"Accuracy_anywhere_median\", hue=\"Algorithm\",\n",
    "                 data=grouped_multiple, legend = True, legend_out = False, order = 1, ci=None, size = 6)\n",
    "#plt.legend(title = 'Algorithm', labels=[\"QuaNT\",\"$\\mathrm{L_{P}^*}$\"], fontsize = 12, frameon=True)\n",
    "ax.axes[0,0].set_xlabel(\"Actual Target Size\", fontsize = 12)\n",
    "ax.axes[0,0].set_ylabel(\"Accuracy anywhere median\", fontsize = 12)\n",
    "#new_labels = [\"Omit Zero Transitions\",\"Standard Teacher\",\"Teacher Filter\"]\n",
    "#for t, l in zip(ax._legend.texts, new_labels):\n",
    "#    t.set_text(l)"
   ]
  },
  {
   "cell_type": "code",
   "execution_count": null,
   "metadata": {},
   "outputs": [],
   "source": [
    "import seaborn as sns\n",
    "sns.set(rc={'figure.figsize':(6.7,8.27)})\n",
    "sns.set_style(\"whitegrid\")\n",
    "ax = sns.lmplot(x=\"Nominal_Size\", y=\"Extracted Number of States_median\", hue=\"Algorithm\",\n",
    "                 data=grouped_multiple, legend = True, legend_out = False)\n",
    "#new_labels = [\"Omit Zero Transitions\",\"Standard Teacher\",\"Teacher Filter\"]\n",
    "#for t, l in zip(ax._legend.texts, new_labels):\n",
    "#    t.set_text(l)"
   ]
  },
  {
   "cell_type": "code",
   "execution_count": null,
   "metadata": {},
   "outputs": [],
   "source": [
    "import seaborn as sns\n",
    "sns.set(rc={'figure.figsize':(6.7,8.27)})\n",
    "sns.set_style(\"whitegrid\")\n",
    "ax = sns.lmplot(x=\"Nominal_Size\", y=\"LastTokenQuery_median\", hue=\"Algorithm\",\n",
    "                 data=grouped_multiple, legend = True, legend_out = False)\n",
    "#new_labels = [\"Omit Zero Transitions\",\"Standard Teacher\",\"Teacher Filter\"]\n",
    "#for t, l in zip(ax._legend.texts, new_labels):\n",
    "#    t.set_text(l)"
   ]
  },
  {
   "cell_type": "code",
   "execution_count": null,
   "metadata": {},
   "outputs": [],
   "source": [
    "import seaborn as sns\n",
    "sns.set(rc={'figure.figsize':(6.7,8.27)})\n",
    "sns.set_style(\"whitegrid\")\n",
    "ax = sns.lmplot(x=\"Nominal_Size\", y=\"TREE_SIZE_median\", hue=\"Algorithm\",\n",
    "                 data=grouped_multiple, legend = True, legend_out = False, ci = None, size = 6)\n",
    "ax.axes[0,0].set_xlabel(\"Actual Target Size\", fontsize = 12)\n",
    "ax.axes[0,0].set_ylabel(\"Tree Size Median\", fontsize = 12)\n",
    "#new_labels = [\"Omit Zero Transitions\",\"Standard Teacher\",\"Teacher Filter\"]\n",
    "#for t, l in zip(ax._legend.texts, new_labels):\n",
    "#    t.set_text(l)"
   ]
  },
  {
   "cell_type": "code",
   "execution_count": null,
   "metadata": {},
   "outputs": [],
   "source": []
  }
 ],
 "metadata": {
  "interpreter": {
   "hash": "ccd85e264f409eb34496ed1f618ace649acf293164c04c6c014b744b9959793c"
  },
  "kernelspec": {
   "display_name": "Python 3 (ipykernel)",
   "language": "python",
   "name": "python3"
  },
  "language_info": {
   "codemirror_mode": {
    "name": "ipython",
    "version": 3
   },
   "file_extension": ".py",
   "mimetype": "text/x-python",
   "name": "python",
   "nbconvert_exporter": "python",
   "pygments_lexer": "ipython3",
   "version": "3.9.19"
  }
 },
 "nbformat": 4,
 "nbformat_minor": 2
}
