{
 "cells": [
  {
   "cell_type": "markdown",
   "metadata": {},
   "source": [
    "Load the LLM, in this case we are using gpt2"
   ]
  },
  {
   "cell_type": "code",
   "execution_count": 1,
   "metadata": {},
   "outputs": [],
   "source": [
    "#!pip install transformers"
   ]
  },
  {
   "cell_type": "code",
   "execution_count": 2,
   "metadata": {},
   "outputs": [
    {
     "name": "stderr",
     "output_type": "stream",
     "text": [
      "c:\\Users\\Digital\\anaconda3\\envs\\pymodelextractor_exp\\lib\\site-packages\\tqdm\\auto.py:21: TqdmWarning: IProgress not found. Please update jupyter and ipywidgets. See https://ipywidgets.readthedocs.io/en/stable/user_install.html\n",
      "  from .autonotebook import tqdm as notebook_tqdm\n"
     ]
    }
   ],
   "source": [
    "import torch\n",
    "from transformers import AutoModelForCausalLM\n",
    "from transformers import AutoTokenizer\n",
    "\n",
    "torch.manual_seed(42)\n",
    "\n",
    "device = \"cuda\" if torch.cuda.is_available() else \"cpu\"\n",
    "model_id = \"gpt2\"\n",
    "\n",
    "tokenizer = AutoTokenizer.from_pretrained(model_id, use_fast=True, add_prefix_space=True, local_files_only = True)\n",
    "model = AutoModelForCausalLM.from_pretrained(model_id,\n",
    "                                            return_dict_in_generate=True,\n",
    "                                            pad_token_id=tokenizer.eos_token_id).to(device)"
   ]
  },
  {
   "cell_type": "code",
   "execution_count": 3,
   "metadata": {},
   "outputs": [],
   "source": [
    "tokens_the = tokenizer.tokenize('The')\n",
    "token_ids = tokenizer.convert_tokens_to_ids(tokens_the)\n",
    "token_ids = torch.tensor([token_ids])\n",
    "with torch.no_grad():\n",
    "    output = model(token_ids)\n",
    "    logits = output.logits[:, -1, :]\n",
    "    next_probs = torch.softmax(logits, dim=-1)\n"
   ]
  },
  {
   "cell_type": "code",
   "execution_count": 35,
   "metadata": {},
   "outputs": [
    {
     "data": {
      "text/plain": [
       "tensor(198)"
      ]
     },
     "execution_count": 35,
     "metadata": {},
     "output_type": "execute_result"
    }
   ],
   "source": [
    "np.argmax(next_probs[0])"
   ]
  },
  {
   "cell_type": "code",
   "execution_count": 38,
   "metadata": {},
   "outputs": [],
   "source": [
    "import numpy as np\n",
    "def top_k_indices(distribution, k):\n",
    "    # Use numpy.argsort to get indices of sorted elements\n",
    "    sorted_indices = np.argsort(-1*distribution)\n",
    "\n",
    "    # Get the top k indices (last k elements in the sorted array)\n",
    "    top_k = sorted_indices[:k]\n",
    "\n",
    "    return top_k"
   ]
  },
  {
   "cell_type": "code",
   "execution_count": 39,
   "metadata": {},
   "outputs": [
    {
     "data": {
      "text/plain": [
       "tensor([198, 366])"
      ]
     },
     "execution_count": 39,
     "metadata": {},
     "output_type": "execute_result"
    }
   ],
   "source": [
    "top_k_indices(next_probs[0],2)"
   ]
  },
  {
   "cell_type": "code",
   "execution_count": 40,
   "metadata": {},
   "outputs": [
    {
     "data": {
      "text/plain": [
       "tensor(0.0087)"
      ]
     },
     "execution_count": 40,
     "metadata": {},
     "output_type": "execute_result"
    }
   ],
   "source": [
    "next_probs[0][366]"
   ]
  },
  {
   "cell_type": "code",
   "execution_count": 41,
   "metadata": {},
   "outputs": [
    {
     "data": {
      "text/plain": [
       "' \"'"
      ]
     },
     "execution_count": 41,
     "metadata": {},
     "output_type": "execute_result"
    }
   ],
   "source": [
    "tokenizer.decode(366)"
   ]
  },
  {
   "cell_type": "code",
   "execution_count": 3,
   "metadata": {},
   "outputs": [],
   "source": [
    "#!pip install --upgrade pillow"
   ]
  },
  {
   "cell_type": "code",
   "execution_count": 4,
   "metadata": {},
   "outputs": [],
   "source": [
    "import sys\n",
    "sys.path.append(\"../\")"
   ]
  },
  {
   "cell_type": "code",
   "execution_count": 5,
   "metadata": {},
   "outputs": [],
   "source": [
    "#!pip install ssl"
   ]
  },
  {
   "cell_type": "code",
   "execution_count": 6,
   "metadata": {},
   "outputs": [],
   "source": [
    "from case_studies.gpt2.gpt2_probabilistic_model_wrapper import GPT2_probabilistic_model_wrapper\n",
    "from mini_relm_resources.automata_examples.the_tokenization_wfa import alphabet\n",
    "\n",
    "wrapper = GPT2_probabilistic_model_wrapper(50, alphabet, device, model, tokenizer)\n",
    "#from utilities.mock_probabilistic_model import MockProbabilisticModel\n",
    "#from pythautomata.base_types.symbol import SymbolStr\n",
    "#terminal_symbol = SymbolStr(tokenizer.eos_token)\n",
    "#wrapper = MockProbabilisticModel(alphabet, terminal_symbol)"
   ]
  },
  {
   "cell_type": "code",
   "execution_count": 7,
   "metadata": {},
   "outputs": [],
   "source": [
    "from mini_relm_resources.automata_examples.the_tokenization_wfa import get_the_tokenization_wfa\n",
    "guiding_wfa = get_the_tokenization_wfa(wrapper.terminal_symbol)"
   ]
  },
  {
   "cell_type": "code",
   "execution_count": 8,
   "metadata": {},
   "outputs": [],
   "source": [
    "from utilities.guiding_wfa_sequence_generator import GuidingWDFASequenceGenerator\n",
    "guiding_generator = GuidingWDFASequenceGenerator(guiding_wfa, None)"
   ]
  },
  {
   "cell_type": "code",
   "execution_count": 9,
   "metadata": {},
   "outputs": [
    {
     "data": {
      "text/plain": [
       "[ϵ,\n",
       " T,he,gorilla,\n",
       " The,house,\n",
       " ϵ,\n",
       " The,house,\n",
       " The,gorilla,\n",
       " ϵ,\n",
       " The,\n",
       " Th,\n",
       " Th,e,gorilla]"
      ]
     },
     "execution_count": 9,
     "metadata": {},
     "output_type": "execute_result"
    }
   ],
   "source": [
    "guiding_generator.generate_words(10)"
   ]
  },
  {
   "cell_type": "code",
   "execution_count": 10,
   "metadata": {},
   "outputs": [
    {
     "data": {
      "image/svg+xml": [
       "<?xml version=\"1.0\" encoding=\"UTF-8\" standalone=\"no\"?>\n",
       "<!DOCTYPE svg PUBLIC \"-//W3C//DTD SVG 1.1//EN\"\n",
       " \"http://www.w3.org/Graphics/SVG/1.1/DTD/svg11.dtd\">\n",
       "<!-- Generated by graphviz version 9.0.0 (20230911.1827)\n",
       " -->\n",
       "<!-- Title: weighted_automaton Pages: 1 -->\n",
       "<svg width=\"667pt\" height=\"511pt\"\n",
       " viewBox=\"0.00 0.00 666.58 510.99\" xmlns=\"http://www.w3.org/2000/svg\" xmlns:xlink=\"http://www.w3.org/1999/xlink\">\n",
       "<g id=\"graph0\" class=\"graph\" transform=\"scale(1 1) rotate(0) translate(4 506.99)\">\n",
       "<title>weighted_automaton</title>\n",
       "<polygon fill=\"white\" stroke=\"none\" points=\"-4,4 -4,-506.99 662.58,-506.99 662.58,4 -4,4\"/>\n",
       "<!-- E -->\n",
       "<g id=\"node1\" class=\"node\">\n",
       "<title>E</title>\n",
       "<ellipse fill=\"none\" stroke=\"black\" cx=\"423.65\" cy=\"-243.24\" rx=\"27.93\" ry=\"27.93\"/>\n",
       "<text text-anchor=\"middle\" x=\"423.65\" y=\"-245.69\" font-family=\"Times New Roman,serif\" font-size=\"14.00\">E</text>\n",
       "<text text-anchor=\"middle\" x=\"423.65\" y=\"-229.94\" font-family=\"Times New Roman,serif\" font-size=\"14.00\">1</text>\n",
       "</g>\n",
       "<!-- hole -->\n",
       "<g id=\"node2\" class=\"node\">\n",
       "<title>hole</title>\n",
       "<ellipse fill=\"none\" stroke=\"black\" cx=\"595.58\" cy=\"-158.24\" rx=\"27.93\" ry=\"27.93\"/>\n",
       "<text text-anchor=\"middle\" x=\"595.58\" y=\"-160.69\" font-family=\"Times New Roman,serif\" font-size=\"14.00\">hole</text>\n",
       "<text text-anchor=\"middle\" x=\"595.58\" y=\"-144.94\" font-family=\"Times New Roman,serif\" font-size=\"14.00\">0</text>\n",
       "</g>\n",
       "<!-- E&#45;&gt;hole -->\n",
       "<g id=\"edge1\" class=\"edge\">\n",
       "<title>E&#45;&gt;hole</title>\n",
       "<path fill=\"none\" stroke=\"black\" d=\"M440.17,-220.54C444.1,-214.4 448.18,-207.67 451.58,-201.24 461.1,-183.3 452.67,-170.49 469.58,-159.24 495.08,-142.28 530.45,-143.71 557.06,-148.41\"/>\n",
       "<polygon fill=\"black\" stroke=\"black\" points=\"556.26,-151.82 566.76,-150.37 557.65,-144.96 556.26,-151.82\"/>\n",
       "<text text-anchor=\"middle\" x=\"492.08\" y=\"-271.94\" font-family=\"Times New Roman,serif\" font-size=\"14.00\">e&#45;0</text>\n",
       "<text text-anchor=\"middle\" x=\"492.08\" y=\"-256.19\" font-family=\"Times New Roman,serif\" font-size=\"14.00\">T&#45;0</text>\n",
       "<text text-anchor=\"middle\" x=\"492.08\" y=\"-240.44\" font-family=\"Times New Roman,serif\" font-size=\"14.00\">he&#45;0</text>\n",
       "<text text-anchor=\"middle\" x=\"492.08\" y=\"-224.69\" font-family=\"Times New Roman,serif\" font-size=\"14.00\">Th&#45;0</text>\n",
       "<text text-anchor=\"middle\" x=\"492.08\" y=\"-208.94\" font-family=\"Times New Roman,serif\" font-size=\"14.00\">house&#45;0</text>\n",
       "<text text-anchor=\"middle\" x=\"492.08\" y=\"-193.19\" font-family=\"Times New Roman,serif\" font-size=\"14.00\">gorilla&#45;0</text>\n",
       "<text text-anchor=\"middle\" x=\"492.08\" y=\"-177.44\" font-family=\"Times New Roman,serif\" font-size=\"14.00\">The&#45;0</text>\n",
       "<text text-anchor=\"middle\" x=\"492.08\" y=\"-161.69\" font-family=\"Times New Roman,serif\" font-size=\"14.00\">h&#45;0</text>\n",
       "</g>\n",
       "<!-- hole&#45;&gt;hole -->\n",
       "<g id=\"edge8\" class=\"edge\">\n",
       "<title>hole&#45;&gt;hole</title>\n",
       "<path fill=\"none\" stroke=\"black\" d=\"M577.39,-179.5C573.35,-192.21 579.41,-204.17 595.58,-204.17 606.7,-204.17 613.04,-198.52 614.61,-190.85\"/>\n",
       "<polygon fill=\"black\" stroke=\"black\" points=\"618.11,-190.73 613.89,-181.01 611.13,-191.24 618.11,-190.73\"/>\n",
       "<text text-anchor=\"middle\" x=\"595.58\" y=\"-316.87\" font-family=\"Times New Roman,serif\" font-size=\"14.00\">e&#45;0</text>\n",
       "<text text-anchor=\"middle\" x=\"595.58\" y=\"-301.12\" font-family=\"Times New Roman,serif\" font-size=\"14.00\">T&#45;0</text>\n",
       "<text text-anchor=\"middle\" x=\"595.58\" y=\"-285.37\" font-family=\"Times New Roman,serif\" font-size=\"14.00\">he&#45;0</text>\n",
       "<text text-anchor=\"middle\" x=\"595.58\" y=\"-269.62\" font-family=\"Times New Roman,serif\" font-size=\"14.00\">Th&#45;0</text>\n",
       "<text text-anchor=\"middle\" x=\"595.58\" y=\"-253.87\" font-family=\"Times New Roman,serif\" font-size=\"14.00\">house&#45;0</text>\n",
       "<text text-anchor=\"middle\" x=\"595.58\" y=\"-238.12\" font-family=\"Times New Roman,serif\" font-size=\"14.00\">gorilla&#45;0</text>\n",
       "<text text-anchor=\"middle\" x=\"595.58\" y=\"-222.37\" font-family=\"Times New Roman,serif\" font-size=\"14.00\">The&#45;0</text>\n",
       "<text text-anchor=\"middle\" x=\"595.58\" y=\"-206.62\" font-family=\"Times New Roman,serif\" font-size=\"14.00\">h&#45;0</text>\n",
       "</g>\n",
       "<!-- T -->\n",
       "<g id=\"node3\" class=\"node\">\n",
       "<title>T</title>\n",
       "<ellipse fill=\"none\" stroke=\"black\" cx=\"170.93\" cy=\"-297.24\" rx=\"27.93\" ry=\"27.93\"/>\n",
       "<text text-anchor=\"middle\" x=\"170.93\" y=\"-299.69\" font-family=\"Times New Roman,serif\" font-size=\"14.00\">T</text>\n",
       "<text text-anchor=\"middle\" x=\"170.93\" y=\"-283.94\" font-family=\"Times New Roman,serif\" font-size=\"14.00\">0</text>\n",
       "</g>\n",
       "<!-- T&#45;&gt;hole -->\n",
       "<g id=\"edge3\" class=\"edge\">\n",
       "<title>T&#45;&gt;hole</title>\n",
       "<path fill=\"none\" stroke=\"black\" d=\"M199.34,-297.74C275.79,-298.92 487.59,-300.76 514.58,-285.24 548.49,-265.74 570.13,-225.46 582.24,-195.46\"/>\n",
       "<polygon fill=\"black\" stroke=\"black\" points=\"585.42,-196.94 585.73,-186.35 578.89,-194.43 585.42,-196.94\"/>\n",
       "<text text-anchor=\"middle\" x=\"355.22\" y=\"-395.19\" font-family=\"Times New Roman,serif\" font-size=\"14.00\">e&#45;0</text>\n",
       "<text text-anchor=\"middle\" x=\"355.22\" y=\"-379.44\" font-family=\"Times New Roman,serif\" font-size=\"14.00\">T&#45;0</text>\n",
       "<text text-anchor=\"middle\" x=\"355.22\" y=\"-363.69\" font-family=\"Times New Roman,serif\" font-size=\"14.00\">Th&#45;0</text>\n",
       "<text text-anchor=\"middle\" x=\"355.22\" y=\"-347.94\" font-family=\"Times New Roman,serif\" font-size=\"14.00\">house&#45;0</text>\n",
       "<text text-anchor=\"middle\" x=\"355.22\" y=\"-332.19\" font-family=\"Times New Roman,serif\" font-size=\"14.00\">gorilla&#45;0</text>\n",
       "<text text-anchor=\"middle\" x=\"355.22\" y=\"-316.44\" font-family=\"Times New Roman,serif\" font-size=\"14.00\">The&#45;0</text>\n",
       "<text text-anchor=\"middle\" x=\"355.22\" y=\"-300.69\" font-family=\"Times New Roman,serif\" font-size=\"14.00\">h&#45;0</text>\n",
       "</g>\n",
       "<!-- The -->\n",
       "<g id=\"node4\" class=\"node\">\n",
       "<title>The</title>\n",
       "<ellipse fill=\"none\" stroke=\"black\" cx=\"286.79\" cy=\"-235.24\" rx=\"27.93\" ry=\"27.93\"/>\n",
       "<text text-anchor=\"middle\" x=\"286.79\" y=\"-237.69\" font-family=\"Times New Roman,serif\" font-size=\"14.00\">The</text>\n",
       "<text text-anchor=\"middle\" x=\"286.79\" y=\"-221.94\" font-family=\"Times New Roman,serif\" font-size=\"14.00\">0</text>\n",
       "</g>\n",
       "<!-- T&#45;&gt;The -->\n",
       "<g id=\"edge2\" class=\"edge\">\n",
       "<title>T&#45;&gt;The</title>\n",
       "<path fill=\"none\" stroke=\"black\" d=\"M195.01,-282.42C201.95,-278.12 209.65,-273.5 216.86,-269.49 227.75,-263.44 239.85,-257.25 250.83,-251.83\"/>\n",
       "<polygon fill=\"black\" stroke=\"black\" points=\"252.13,-255.09 259.58,-247.56 249.06,-248.8 252.13,-255.09\"/>\n",
       "<text text-anchor=\"middle\" x=\"228.86\" y=\"-271.69\" font-family=\"Times New Roman,serif\" font-size=\"14.00\">he&#45;1</text>\n",
       "</g>\n",
       "<!-- The&#45;&gt;E -->\n",
       "<g id=\"edge6\" class=\"edge\">\n",
       "<title>The&#45;&gt;E</title>\n",
       "<path fill=\"none\" stroke=\"black\" d=\"M315.08,-236.86C334.92,-238.03 362.03,-239.64 384.08,-240.95\"/>\n",
       "<polygon fill=\"black\" stroke=\"black\" points=\"383.7,-244.43 393.89,-241.53 384.12,-237.45 383.7,-244.43\"/>\n",
       "<text text-anchor=\"middle\" x=\"355.22\" y=\"-259.44\" font-family=\"Times New Roman,serif\" font-size=\"14.00\">house&#45;1</text>\n",
       "<text text-anchor=\"middle\" x=\"355.22\" y=\"-243.69\" font-family=\"Times New Roman,serif\" font-size=\"14.00\">gorilla&#45;1</text>\n",
       "</g>\n",
       "<!-- The&#45;&gt;hole -->\n",
       "<g id=\"edge7\" class=\"edge\">\n",
       "<title>The&#45;&gt;hole</title>\n",
       "<path fill=\"none\" stroke=\"black\" d=\"M300.62,-210.62C317.74,-180.78 351.13,-131.99 395.72,-111.74 450.96,-86.65 521.2,-115.87 561.71,-138.01\"/>\n",
       "<polygon fill=\"black\" stroke=\"black\" points=\"559.83,-140.97 570.26,-142.85 563.28,-134.88 559.83,-140.97\"/>\n",
       "<text text-anchor=\"middle\" x=\"423.65\" y=\"-193.44\" font-family=\"Times New Roman,serif\" font-size=\"14.00\">e&#45;0</text>\n",
       "<text text-anchor=\"middle\" x=\"423.65\" y=\"-177.69\" font-family=\"Times New Roman,serif\" font-size=\"14.00\">T&#45;0</text>\n",
       "<text text-anchor=\"middle\" x=\"423.65\" y=\"-161.94\" font-family=\"Times New Roman,serif\" font-size=\"14.00\">he&#45;0</text>\n",
       "<text text-anchor=\"middle\" x=\"423.65\" y=\"-146.19\" font-family=\"Times New Roman,serif\" font-size=\"14.00\">Th&#45;0</text>\n",
       "<text text-anchor=\"middle\" x=\"423.65\" y=\"-130.44\" font-family=\"Times New Roman,serif\" font-size=\"14.00\">The&#45;0</text>\n",
       "<text text-anchor=\"middle\" x=\"423.65\" y=\"-114.69\" font-family=\"Times New Roman,serif\" font-size=\"14.00\">h&#45;0</text>\n",
       "</g>\n",
       "<!-- Th -->\n",
       "<g id=\"node5\" class=\"node\">\n",
       "<title>Th</title>\n",
       "<ellipse fill=\"none\" stroke=\"black\" cx=\"170.93\" cy=\"-171.24\" rx=\"27.93\" ry=\"27.93\"/>\n",
       "<text text-anchor=\"middle\" x=\"170.93\" y=\"-173.69\" font-family=\"Times New Roman,serif\" font-size=\"14.00\">Th</text>\n",
       "<text text-anchor=\"middle\" x=\"170.93\" y=\"-157.94\" font-family=\"Times New Roman,serif\" font-size=\"14.00\">0</text>\n",
       "</g>\n",
       "<!-- Th&#45;&gt;hole -->\n",
       "<g id=\"edge5\" class=\"edge\">\n",
       "<title>Th&#45;&gt;hole</title>\n",
       "<path fill=\"none\" stroke=\"black\" d=\"M186.35,-147.54C210.9,-109.77 264.82,-37.29 332.72,-8.99 425.18,29.55 525.78,-73 570.65,-127.18\"/>\n",
       "<polygon fill=\"black\" stroke=\"black\" points=\"567.89,-129.34 576.92,-134.89 573.33,-124.92 567.89,-129.34\"/>\n",
       "<text text-anchor=\"middle\" x=\"355.22\" y=\"-106.19\" font-family=\"Times New Roman,serif\" font-size=\"14.00\">T&#45;0</text>\n",
       "<text text-anchor=\"middle\" x=\"355.22\" y=\"-90.44\" font-family=\"Times New Roman,serif\" font-size=\"14.00\">he&#45;0</text>\n",
       "<text text-anchor=\"middle\" x=\"355.22\" y=\"-74.69\" font-family=\"Times New Roman,serif\" font-size=\"14.00\">Th&#45;0</text>\n",
       "<text text-anchor=\"middle\" x=\"355.22\" y=\"-58.94\" font-family=\"Times New Roman,serif\" font-size=\"14.00\">house&#45;0</text>\n",
       "<text text-anchor=\"middle\" x=\"355.22\" y=\"-43.19\" font-family=\"Times New Roman,serif\" font-size=\"14.00\">gorilla&#45;0</text>\n",
       "<text text-anchor=\"middle\" x=\"355.22\" y=\"-27.44\" font-family=\"Times New Roman,serif\" font-size=\"14.00\">The&#45;0</text>\n",
       "<text text-anchor=\"middle\" x=\"355.22\" y=\"-11.69\" font-family=\"Times New Roman,serif\" font-size=\"14.00\">h&#45;0</text>\n",
       "</g>\n",
       "<!-- Th&#45;&gt;The -->\n",
       "<g id=\"edge4\" class=\"edge\">\n",
       "<title>Th&#45;&gt;The</title>\n",
       "<path fill=\"none\" stroke=\"black\" d=\"M196.88,-182.72C210.15,-189.05 226.62,-197.28 240.86,-205.49 245.06,-207.91 249.39,-210.56 253.64,-213.26\"/>\n",
       "<polygon fill=\"black\" stroke=\"black\" points=\"251.72,-216.19 262.01,-218.72 255.54,-210.33 251.72,-216.19\"/>\n",
       "<text text-anchor=\"middle\" x=\"228.86\" y=\"-208.69\" font-family=\"Times New Roman,serif\" font-size=\"14.00\">e&#45;1</text>\n",
       "</g>\n",
       "<!-- start -->\n",
       "<g id=\"node6\" class=\"node\">\n",
       "<title>start</title>\n",
       "<polygon fill=\"none\" stroke=\"black\" points=\"40,-305.74 0,-266.24 40,-226.74 80,-266.24 40,-305.74\"/>\n",
       "<text text-anchor=\"middle\" x=\"40\" y=\"-268.69\" font-family=\"Times New Roman,serif\" font-size=\"14.00\">start</text>\n",
       "<text text-anchor=\"middle\" x=\"40\" y=\"-252.94\" font-family=\"Times New Roman,serif\" font-size=\"14.00\">0</text>\n",
       "</g>\n",
       "<!-- start&#45;&gt;hole -->\n",
       "<g id=\"edge12\" class=\"edge\">\n",
       "<title>start&#45;&gt;hole</title>\n",
       "<path fill=\"none\" stroke=\"black\" d=\"M50.14,-295.96C66.27,-341.73 104.43,-424.24 169.93,-424.24 169.93,-424.24 169.93,-424.24 424.65,-424.24 531.29,-424.24 574,-270.55 588.35,-196.81\"/>\n",
       "<polygon fill=\"black\" stroke=\"black\" points=\"591.75,-197.66 590.14,-187.19 584.87,-196.38 591.75,-197.66\"/>\n",
       "<text text-anchor=\"middle\" x=\"286.79\" y=\"-489.69\" font-family=\"Times New Roman,serif\" font-size=\"14.00\">e&#45;0</text>\n",
       "<text text-anchor=\"middle\" x=\"286.79\" y=\"-473.94\" font-family=\"Times New Roman,serif\" font-size=\"14.00\">he&#45;0</text>\n",
       "<text text-anchor=\"middle\" x=\"286.79\" y=\"-458.19\" font-family=\"Times New Roman,serif\" font-size=\"14.00\">house&#45;0</text>\n",
       "<text text-anchor=\"middle\" x=\"286.79\" y=\"-442.44\" font-family=\"Times New Roman,serif\" font-size=\"14.00\">gorilla&#45;0</text>\n",
       "<text text-anchor=\"middle\" x=\"286.79\" y=\"-426.69\" font-family=\"Times New Roman,serif\" font-size=\"14.00\">h&#45;0</text>\n",
       "</g>\n",
       "<!-- start&#45;&gt;T -->\n",
       "<g id=\"edge11\" class=\"edge\">\n",
       "<title>start&#45;&gt;T</title>\n",
       "<path fill=\"none\" stroke=\"black\" d=\"M72.87,-273.9C90.99,-278.26 113.77,-283.73 132.7,-288.29\"/>\n",
       "<polygon fill=\"black\" stroke=\"black\" points=\"131.62,-291.63 142.16,-290.56 133.25,-284.82 131.62,-291.63\"/>\n",
       "<text text-anchor=\"middle\" x=\"111.5\" y=\"-288.69\" font-family=\"Times New Roman,serif\" font-size=\"14.00\">T&#45;1</text>\n",
       "</g>\n",
       "<!-- start&#45;&gt;The -->\n",
       "<g id=\"edge9\" class=\"edge\">\n",
       "<title>start&#45;&gt;The</title>\n",
       "<path fill=\"none\" stroke=\"black\" d=\"M72.49,-258.28C92.55,-253.53 119.15,-247.79 143,-244.49 178.15,-239.63 218.52,-237.31 247.35,-236.21\"/>\n",
       "<polygon fill=\"black\" stroke=\"black\" points=\"247.18,-239.72 257.05,-235.88 246.94,-232.73 247.18,-239.72\"/>\n",
       "<text text-anchor=\"middle\" x=\"170.93\" y=\"-246.69\" font-family=\"Times New Roman,serif\" font-size=\"14.00\">The&#45;1</text>\n",
       "</g>\n",
       "<!-- start&#45;&gt;Th -->\n",
       "<g id=\"edge10\" class=\"edge\">\n",
       "<title>start&#45;&gt;Th</title>\n",
       "<path fill=\"none\" stroke=\"black\" d=\"M58.04,-244.34C68.58,-231.83 82.93,-216.49 98,-205.49 108.97,-197.48 122.11,-190.57 134.14,-185.1\"/>\n",
       "<polygon fill=\"black\" stroke=\"black\" points=\"135.18,-188.47 142.96,-181.27 132.39,-182.04 135.18,-188.47\"/>\n",
       "<text text-anchor=\"middle\" x=\"111.5\" y=\"-208.69\" font-family=\"Times New Roman,serif\" font-size=\"14.00\">Th&#45;1</text>\n",
       "</g>\n",
       "</g>\n",
       "</svg>\n"
      ],
      "text/plain": [
       "<graphviz.graphs.Digraph at 0x26c001735e0>"
      ]
     },
     "metadata": {},
     "output_type": "display_data"
    }
   ],
   "source": [
    "from pythautomata.model_exporters.dot_exporters.wfa_dot_exporting_strategy import WFADotExportingStrategy\n",
    "from IPython.display import display\n",
    "\n",
    "exporter = WFADotExportingStrategy()\n",
    "graph = exporter.create_graph(guiding_wfa)\n",
    "\n",
    "display(graph)"
   ]
  },
  {
   "cell_type": "code",
   "execution_count": 11,
   "metadata": {},
   "outputs": [],
   "source": [
    "from utilities.syncronic_model_guided_language_model import SyncronicModelGuidedLanguageModel\n",
    "property_model = guiding_wfa\n",
    "syncrhronic_model = SyncronicModelGuidedLanguageModel(wrapper, property_model, model_name=\"GUIDED_GPT2\", max_seq_length=10,normalize_outputs=True)"
   ]
  },
  {
   "cell_type": "code",
   "execution_count": 12,
   "metadata": {},
   "outputs": [],
   "source": [
    "from pymodelextractor.teachers.pac_probabilistic_teacher import PACProbabilisticTeacher\n",
    "from pymodelextractor.learners.observation_tree_learners.bounded_pdfa_quantization_n_ary_tree_learner import BoundedPDFAQuantizationNAryTreeLearner\n",
    "from pythautomata.utilities.probability_partitioner import TopKProbabilityPartitioner, QuantizationProbabilityPartitioner, RankingPartitioner\n",
    "from pythautomata.model_comparators.wfa_partition_comparison_strategy import WFAPartitionComparator\n",
    "from pythautomata.utilities.uniform_word_sequence_generator import UniformWordSequenceGenerator\n",
    "partitioner = QuantizationProbabilityPartitioner(100000)\n",
    "comparator = WFAPartitionComparator(partitioner)\n",
    "epsilon = 0.1\n",
    "delta = epsilon\n",
    "sequence_generator = guiding_generator\n",
    "max_states = 30\n",
    "max_query_length = 100\n"
   ]
  },
  {
   "cell_type": "code",
   "execution_count": 13,
   "metadata": {},
   "outputs": [],
   "source": [
    "teacher  = PACProbabilisticTeacher(syncrhronic_model, epsilon = epsilon, delta = delta, max_seq_length = None, comparator = comparator, sequence_generator=guiding_generator, compute_epsilon_star=False)\n",
    "learner = BoundedPDFAQuantizationNAryTreeLearner(partitioner, max_states, max_query_length, None, generate_partial_hipothesis = True, pre_cache_queries_for_building_hipothesis = True,  check_probabilistic_hipothesis = False)"
   ]
  },
  {
   "cell_type": "code",
   "execution_count": 14,
   "metadata": {},
   "outputs": [
    {
     "name": "stderr",
     "output_type": "stream",
     "text": [
      "We strongly recommend passing in an `attention_mask` since your input_ids may be padded. See https://huggingface.co/docs/transformers/troubleshooting#incorrect-output-when-padding-tokens-arent-masked.\n",
      "You may ignore this warning if your `pad_token_id` (50256) is identical to the `bos_token_id` (50256), `eos_token_id` (50256), or the `sep_token_id` (None), and your input is not padded.\n"
     ]
    }
   ],
   "source": [
    "learning_result = learner.learn(teacher, verbose=True)"
   ]
  },
  {
   "cell_type": "code",
   "execution_count": 15,
   "metadata": {},
   "outputs": [],
   "source": [
    "from collections import OrderedDict\n",
    "def next_token_probabilities(model, sequence):\n",
    "        symbols = list(model.alphabet.symbols)\n",
    "        symbols.sort()\n",
    "        symbols = [model.terminal_symbol] + symbols\n",
    "        probabilities = model.get_last_token_weights(sequence, symbols)\n",
    "        probabilities = OrderedDict(zip(symbols, probabilities))\n",
    "        return probabilities"
   ]
  },
  {
   "cell_type": "code",
   "execution_count": 16,
   "metadata": {},
   "outputs": [],
   "source": [
    "from pythautomata.utilities.uniform_length_sequence_generator import UniformLengthSequenceGenerator\n",
    "generator = UniformLengthSequenceGenerator(alphabet, 100)\n"
   ]
  },
  {
   "cell_type": "code",
   "execution_count": 17,
   "metadata": {},
   "outputs": [
    {
     "name": "stdout",
     "output_type": "stream",
     "text": [
      "ϵ [0.0, 0.06449618075436277, 0.003969447616699461, 0.9315343716289378, 0.0, 0.0, 0.0, 0.0, 0.0]\n",
      "T [0.0, 0.0, 0.0, 0.0, 0.0, 0.0, 0.0, 1.0, 0.0]\n",
      "Th [0.0, 0.0, 0.0, 0.0, 1.0, 0.0, 0.0, 0.0, 0.0]\n",
      "The [0.0, 0.0, 0.0, 0.0, 0.0, 0.027002964198380858, 0.0, 0.0, 0.9729970358016191]\n",
      "T,he [0.0, 0.0, 0.0, 0.0, 0.0, 0.013823626394468453, 0.0, 0.0, 0.9861763736055316]\n",
      "Th,e [0.0, 0.0, 0.0, 0.0, 0.0, 0.01435753071573932, 0.0, 0.0, 0.9856424692842607]\n",
      "The,gorilla [1.0, 0.0, 0.0, 0.0, 0.0, 0.0, 0.0, 0.0, 0.0]\n",
      "The,house [1.0, 0.0, 0.0, 0.0, 0.0, 0.0, 0.0, 0.0, 0.0]\n",
      "T,he,gorilla [1.0, 0.0, 0.0, 0.0, 0.0, 0.0, 0.0, 0.0, 0.0]\n",
      "T,he,house [1.0, 0.0, 0.0, 0.0, 0.0, 0.0, 0.0, 0.0, 0.0]\n",
      "Th,e,gorilla [1.0, 0.0, 0.0, 0.0, 0.0, 0.0, 0.0, 0.0, 0.0]\n",
      "Th,e,house [1.0, 0.0, 0.0, 0.0, 0.0, 0.0, 0.0, 0.0, 0.0]\n"
     ]
    },
    {
     "ename": "KeyboardInterrupt",
     "evalue": "",
     "output_type": "error",
     "traceback": [
      "\u001b[1;31m---------------------------------------------------------------------------\u001b[0m",
      "\u001b[1;31mKeyboardInterrupt\u001b[0m                         Traceback (most recent call last)",
      "Cell \u001b[1;32mIn[17], line 5\u001b[0m\n\u001b[0;32m      3\u001b[0m words \u001b[38;5;241m=\u001b[39m generator\u001b[38;5;241m.\u001b[39mgenerate_all_words()\n\u001b[0;32m      4\u001b[0m \u001b[38;5;28;01mfor\u001b[39;00m word \u001b[38;5;129;01min\u001b[39;00m words:\n\u001b[1;32m----> 5\u001b[0m     probs \u001b[38;5;241m=\u001b[39m \u001b[38;5;28mlist\u001b[39m(\u001b[43mnext_token_probabilities\u001b[49m\u001b[43m(\u001b[49m\u001b[43msyncrhronic_model\u001b[49m\u001b[43m,\u001b[49m\u001b[43m \u001b[49m\u001b[43mword\u001b[49m\u001b[43m)\u001b[49m\u001b[38;5;241m.\u001b[39mvalues())\n\u001b[0;32m      6\u001b[0m     \u001b[38;5;28;01mif\u001b[39;00m np\u001b[38;5;241m.\u001b[39msum(probs) \u001b[38;5;241m>\u001b[39m \u001b[38;5;241m0\u001b[39m:\n\u001b[0;32m      7\u001b[0m         \u001b[38;5;28mprint\u001b[39m(word, probs)\n",
      "Cell \u001b[1;32mIn[15], line 6\u001b[0m, in \u001b[0;36mnext_token_probabilities\u001b[1;34m(model, sequence)\u001b[0m\n\u001b[0;32m      4\u001b[0m symbols\u001b[38;5;241m.\u001b[39msort()\n\u001b[0;32m      5\u001b[0m symbols \u001b[38;5;241m=\u001b[39m [model\u001b[38;5;241m.\u001b[39mterminal_symbol] \u001b[38;5;241m+\u001b[39m symbols\n\u001b[1;32m----> 6\u001b[0m probabilities \u001b[38;5;241m=\u001b[39m \u001b[43mmodel\u001b[49m\u001b[38;5;241;43m.\u001b[39;49m\u001b[43mget_last_token_weights\u001b[49m\u001b[43m(\u001b[49m\u001b[43msequence\u001b[49m\u001b[43m,\u001b[49m\u001b[43m \u001b[49m\u001b[43msymbols\u001b[49m\u001b[43m)\u001b[49m\n\u001b[0;32m      7\u001b[0m probabilities \u001b[38;5;241m=\u001b[39m OrderedDict(\u001b[38;5;28mzip\u001b[39m(symbols, probabilities))\n\u001b[0;32m      8\u001b[0m \u001b[38;5;28;01mreturn\u001b[39;00m probabilities\n",
      "File \u001b[1;32mc:\\Repos\\pymodelextractor_model_guided_extraction\\notebooks\\..\\utilities\\syncronic_model_guided_language_model.py:113\u001b[0m, in \u001b[0;36mSyncronicModelGuidedLanguageModel.get_last_token_weights\u001b[1;34m(self, sequence, required_suffixes)\u001b[0m\n\u001b[0;32m    111\u001b[0m guiding_results \u001b[38;5;241m=\u001b[39m \u001b[38;5;28mself\u001b[39m\u001b[38;5;241m.\u001b[39m_guiding_model\u001b[38;5;241m.\u001b[39mget_last_token_weights(sequence, required_suffixes)\n\u001b[0;32m    112\u001b[0m required_suffixes \u001b[38;5;241m=\u001b[39m [required_suffixes[i] \u001b[38;5;28;01mfor\u001b[39;00m i \u001b[38;5;129;01min\u001b[39;00m \u001b[38;5;28mrange\u001b[39m(\u001b[38;5;28mlen\u001b[39m(required_suffixes)) \u001b[38;5;28;01mif\u001b[39;00m guiding_results[i]]\n\u001b[1;32m--> 113\u001b[0m model_results \u001b[38;5;241m=\u001b[39m \u001b[38;5;28;43mself\u001b[39;49m\u001b[38;5;241;43m.\u001b[39;49m\u001b[43m_model\u001b[49m\u001b[38;5;241;43m.\u001b[39;49m\u001b[43mget_last_token_weights\u001b[49m\u001b[43m(\u001b[49m\u001b[43msequence\u001b[49m\u001b[43m,\u001b[49m\u001b[43m \u001b[49m\u001b[43mrequired_suffixes\u001b[49m\u001b[43m)\u001b[49m\n\u001b[0;32m    114\u001b[0m model_results_full \u001b[38;5;241m=\u001b[39m []\n\u001b[0;32m    115\u001b[0m j\u001b[38;5;241m=\u001b[39m\u001b[38;5;241m0\u001b[39m\n",
      "File \u001b[1;32mc:\\Repos\\pymodelextractor_model_guided_extraction\\notebooks\\..\\case_studies\\gpt2\\gpt2_probabilistic_model_wrapper.py:49\u001b[0m, in \u001b[0;36mGPT2_probabilistic_model_wrapper.get_last_token_weights\u001b[1;34m(self, sequence, required_suffixes)\u001b[0m\n\u001b[0;32m     46\u001b[0m weights \u001b[38;5;241m=\u001b[39m \u001b[38;5;28mlist\u001b[39m()\n\u001b[0;32m     47\u001b[0m \u001b[38;5;66;03m#alphabet_symbols_weights = self.next_symbol_probas(sequence)\u001b[39;00m\n\u001b[0;32m     48\u001b[0m \u001b[38;5;66;03m#alphabet_symbols_weights = {Sequence() + k: alphabet_symbols_weights[k] for k in alphabet_symbols_weights.keys()}\u001b[39;00m\n\u001b[1;32m---> 49\u001b[0m alphabet_symbols_weights \u001b[38;5;241m=\u001b[39m \u001b[38;5;28;43mself\u001b[39;49m\u001b[38;5;241;43m.\u001b[39;49m\u001b[43mlast_token_probability\u001b[49m\u001b[43m(\u001b[49m\u001b[43msequence\u001b[49m\u001b[43m,\u001b[49m\u001b[43m \u001b[49m\u001b[43mrequired_suffixes\u001b[49m\u001b[43m)\u001b[49m\n\u001b[0;32m     50\u001b[0m \u001b[38;5;28;01mfor\u001b[39;00m suffix \u001b[38;5;129;01min\u001b[39;00m required_suffixes:\n\u001b[0;32m     51\u001b[0m     \u001b[38;5;28;01mif\u001b[39;00m suffix \u001b[38;5;129;01min\u001b[39;00m alphabet_symbols_weights:\n",
      "File \u001b[1;32mc:\\Repos\\pymodelextractor_model_guided_extraction\\notebooks\\..\\case_studies\\gpt2\\gpt2_probabilistic_model_wrapper.py:42\u001b[0m, in \u001b[0;36mGPT2_probabilistic_model_wrapper.last_token_probability\u001b[1;34m(self, sequence, symbols)\u001b[0m\n\u001b[0;32m     40\u001b[0m     symbols \u001b[38;5;241m=\u001b[39m \u001b[38;5;28mset\u001b[39m(\u001b[38;5;28mself\u001b[39m\u001b[38;5;241m.\u001b[39m_alphabet\u001b[38;5;241m.\u001b[39msymbols)\n\u001b[0;32m     41\u001b[0m     symbols\u001b[38;5;241m.\u001b[39madd(\u001b[38;5;28mself\u001b[39m\u001b[38;5;241m.\u001b[39mterminal_symbol)\n\u001b[1;32m---> 42\u001b[0m \u001b[38;5;28;01mreturn\u001b[39;00m \u001b[38;5;28;43mself\u001b[39;49m\u001b[38;5;241;43m.\u001b[39;49m\u001b[43m_get_probability\u001b[49m\u001b[43m(\u001b[49m\u001b[43msequence\u001b[49m\u001b[43m,\u001b[49m\u001b[43m \u001b[49m\u001b[43msymbols\u001b[49m\u001b[43m)\u001b[49m\n",
      "File \u001b[1;32mc:\\Repos\\pymodelextractor_model_guided_extraction\\notebooks\\..\\case_studies\\gpt2\\gpt2_probabilistic_model_wrapper.py:83\u001b[0m, in \u001b[0;36mGPT2_probabilistic_model_wrapper._get_probability\u001b[1;34m(self, sequence, symbols)\u001b[0m\n\u001b[0;32m     80\u001b[0m     input_ids \u001b[38;5;241m=\u001b[39m \u001b[38;5;28mself\u001b[39m\u001b[38;5;241m.\u001b[39mbuild_ids_sequence_from_tokens(str_seq)\n\u001b[0;32m     82\u001b[0m \u001b[38;5;28;01mwith\u001b[39;00m torch\u001b[38;5;241m.\u001b[39mno_grad():\n\u001b[1;32m---> 83\u001b[0m     output \u001b[38;5;241m=\u001b[39m \u001b[38;5;28;43mself\u001b[39;49m\u001b[38;5;241;43m.\u001b[39;49m\u001b[43mmodel\u001b[49m\u001b[43m(\u001b[49m\u001b[43minput_ids\u001b[49m\u001b[43m)\u001b[49m\n\u001b[0;32m     84\u001b[0m     \u001b[38;5;66;03m# logits = output[0]\u001b[39;00m\n\u001b[0;32m     85\u001b[0m     \u001b[38;5;66;03m# probs = logits.softmax(-1)\u001b[39;00m\n\u001b[0;32m     86\u001b[0m     logits \u001b[38;5;241m=\u001b[39m output\u001b[38;5;241m.\u001b[39mlogits[:, \u001b[38;5;241m-\u001b[39m\u001b[38;5;241m1\u001b[39m, :]\n",
      "File \u001b[1;32mc:\\Users\\Digital\\anaconda3\\envs\\pymodelextractor_exp\\lib\\site-packages\\torch\\nn\\modules\\module.py:1511\u001b[0m, in \u001b[0;36mModule._wrapped_call_impl\u001b[1;34m(self, *args, **kwargs)\u001b[0m\n\u001b[0;32m   1509\u001b[0m     \u001b[38;5;28;01mreturn\u001b[39;00m \u001b[38;5;28mself\u001b[39m\u001b[38;5;241m.\u001b[39m_compiled_call_impl(\u001b[38;5;241m*\u001b[39margs, \u001b[38;5;241m*\u001b[39m\u001b[38;5;241m*\u001b[39mkwargs)  \u001b[38;5;66;03m# type: ignore[misc]\u001b[39;00m\n\u001b[0;32m   1510\u001b[0m \u001b[38;5;28;01melse\u001b[39;00m:\n\u001b[1;32m-> 1511\u001b[0m     \u001b[38;5;28;01mreturn\u001b[39;00m \u001b[38;5;28mself\u001b[39m\u001b[38;5;241m.\u001b[39m_call_impl(\u001b[38;5;241m*\u001b[39margs, \u001b[38;5;241m*\u001b[39m\u001b[38;5;241m*\u001b[39mkwargs)\n",
      "File \u001b[1;32mc:\\Users\\Digital\\anaconda3\\envs\\pymodelextractor_exp\\lib\\site-packages\\torch\\nn\\modules\\module.py:1520\u001b[0m, in \u001b[0;36mModule._call_impl\u001b[1;34m(self, *args, **kwargs)\u001b[0m\n\u001b[0;32m   1515\u001b[0m \u001b[38;5;66;03m# If we don't have any hooks, we want to skip the rest of the logic in\u001b[39;00m\n\u001b[0;32m   1516\u001b[0m \u001b[38;5;66;03m# this function, and just call forward.\u001b[39;00m\n\u001b[0;32m   1517\u001b[0m \u001b[38;5;28;01mif\u001b[39;00m \u001b[38;5;129;01mnot\u001b[39;00m (\u001b[38;5;28mself\u001b[39m\u001b[38;5;241m.\u001b[39m_backward_hooks \u001b[38;5;129;01mor\u001b[39;00m \u001b[38;5;28mself\u001b[39m\u001b[38;5;241m.\u001b[39m_backward_pre_hooks \u001b[38;5;129;01mor\u001b[39;00m \u001b[38;5;28mself\u001b[39m\u001b[38;5;241m.\u001b[39m_forward_hooks \u001b[38;5;129;01mor\u001b[39;00m \u001b[38;5;28mself\u001b[39m\u001b[38;5;241m.\u001b[39m_forward_pre_hooks\n\u001b[0;32m   1518\u001b[0m         \u001b[38;5;129;01mor\u001b[39;00m _global_backward_pre_hooks \u001b[38;5;129;01mor\u001b[39;00m _global_backward_hooks\n\u001b[0;32m   1519\u001b[0m         \u001b[38;5;129;01mor\u001b[39;00m _global_forward_hooks \u001b[38;5;129;01mor\u001b[39;00m _global_forward_pre_hooks):\n\u001b[1;32m-> 1520\u001b[0m     \u001b[38;5;28;01mreturn\u001b[39;00m forward_call(\u001b[38;5;241m*\u001b[39margs, \u001b[38;5;241m*\u001b[39m\u001b[38;5;241m*\u001b[39mkwargs)\n\u001b[0;32m   1522\u001b[0m \u001b[38;5;28;01mtry\u001b[39;00m:\n\u001b[0;32m   1523\u001b[0m     result \u001b[38;5;241m=\u001b[39m \u001b[38;5;28;01mNone\u001b[39;00m\n",
      "File \u001b[1;32mc:\\Users\\Digital\\anaconda3\\envs\\pymodelextractor_exp\\lib\\site-packages\\transformers\\models\\gpt2\\modeling_gpt2.py:1074\u001b[0m, in \u001b[0;36mGPT2LMHeadModel.forward\u001b[1;34m(self, input_ids, past_key_values, attention_mask, token_type_ids, position_ids, head_mask, inputs_embeds, encoder_hidden_states, encoder_attention_mask, labels, use_cache, output_attentions, output_hidden_states, return_dict)\u001b[0m\n\u001b[0;32m   1066\u001b[0m \u001b[38;5;250m\u001b[39m\u001b[38;5;124mr\u001b[39m\u001b[38;5;124;03m\"\"\"\u001b[39;00m\n\u001b[0;32m   1067\u001b[0m \u001b[38;5;124;03mlabels (`torch.LongTensor` of shape `(batch_size, sequence_length)`, *optional*):\u001b[39;00m\n\u001b[0;32m   1068\u001b[0m \u001b[38;5;124;03m    Labels for language modeling. Note that the labels **are shifted** inside the model, i.e. you can set\u001b[39;00m\n\u001b[0;32m   1069\u001b[0m \u001b[38;5;124;03m    `labels = input_ids` Indices are selected in `[-100, 0, ..., config.vocab_size]` All labels set to `-100`\u001b[39;00m\n\u001b[0;32m   1070\u001b[0m \u001b[38;5;124;03m    are ignored (masked), the loss is only computed for labels in `[0, ..., config.vocab_size]`\u001b[39;00m\n\u001b[0;32m   1071\u001b[0m \u001b[38;5;124;03m\"\"\"\u001b[39;00m\n\u001b[0;32m   1072\u001b[0m return_dict \u001b[38;5;241m=\u001b[39m return_dict \u001b[38;5;28;01mif\u001b[39;00m return_dict \u001b[38;5;129;01mis\u001b[39;00m \u001b[38;5;129;01mnot\u001b[39;00m \u001b[38;5;28;01mNone\u001b[39;00m \u001b[38;5;28;01melse\u001b[39;00m \u001b[38;5;28mself\u001b[39m\u001b[38;5;241m.\u001b[39mconfig\u001b[38;5;241m.\u001b[39muse_return_dict\n\u001b[1;32m-> 1074\u001b[0m transformer_outputs \u001b[38;5;241m=\u001b[39m \u001b[38;5;28;43mself\u001b[39;49m\u001b[38;5;241;43m.\u001b[39;49m\u001b[43mtransformer\u001b[49m\u001b[43m(\u001b[49m\n\u001b[0;32m   1075\u001b[0m \u001b[43m    \u001b[49m\u001b[43minput_ids\u001b[49m\u001b[43m,\u001b[49m\n\u001b[0;32m   1076\u001b[0m \u001b[43m    \u001b[49m\u001b[43mpast_key_values\u001b[49m\u001b[38;5;241;43m=\u001b[39;49m\u001b[43mpast_key_values\u001b[49m\u001b[43m,\u001b[49m\n\u001b[0;32m   1077\u001b[0m \u001b[43m    \u001b[49m\u001b[43mattention_mask\u001b[49m\u001b[38;5;241;43m=\u001b[39;49m\u001b[43mattention_mask\u001b[49m\u001b[43m,\u001b[49m\n\u001b[0;32m   1078\u001b[0m \u001b[43m    \u001b[49m\u001b[43mtoken_type_ids\u001b[49m\u001b[38;5;241;43m=\u001b[39;49m\u001b[43mtoken_type_ids\u001b[49m\u001b[43m,\u001b[49m\n\u001b[0;32m   1079\u001b[0m \u001b[43m    \u001b[49m\u001b[43mposition_ids\u001b[49m\u001b[38;5;241;43m=\u001b[39;49m\u001b[43mposition_ids\u001b[49m\u001b[43m,\u001b[49m\n\u001b[0;32m   1080\u001b[0m \u001b[43m    \u001b[49m\u001b[43mhead_mask\u001b[49m\u001b[38;5;241;43m=\u001b[39;49m\u001b[43mhead_mask\u001b[49m\u001b[43m,\u001b[49m\n\u001b[0;32m   1081\u001b[0m \u001b[43m    \u001b[49m\u001b[43minputs_embeds\u001b[49m\u001b[38;5;241;43m=\u001b[39;49m\u001b[43minputs_embeds\u001b[49m\u001b[43m,\u001b[49m\n\u001b[0;32m   1082\u001b[0m \u001b[43m    \u001b[49m\u001b[43mencoder_hidden_states\u001b[49m\u001b[38;5;241;43m=\u001b[39;49m\u001b[43mencoder_hidden_states\u001b[49m\u001b[43m,\u001b[49m\n\u001b[0;32m   1083\u001b[0m \u001b[43m    \u001b[49m\u001b[43mencoder_attention_mask\u001b[49m\u001b[38;5;241;43m=\u001b[39;49m\u001b[43mencoder_attention_mask\u001b[49m\u001b[43m,\u001b[49m\n\u001b[0;32m   1084\u001b[0m \u001b[43m    \u001b[49m\u001b[43muse_cache\u001b[49m\u001b[38;5;241;43m=\u001b[39;49m\u001b[43muse_cache\u001b[49m\u001b[43m,\u001b[49m\n\u001b[0;32m   1085\u001b[0m \u001b[43m    \u001b[49m\u001b[43moutput_attentions\u001b[49m\u001b[38;5;241;43m=\u001b[39;49m\u001b[43moutput_attentions\u001b[49m\u001b[43m,\u001b[49m\n\u001b[0;32m   1086\u001b[0m \u001b[43m    \u001b[49m\u001b[43moutput_hidden_states\u001b[49m\u001b[38;5;241;43m=\u001b[39;49m\u001b[43moutput_hidden_states\u001b[49m\u001b[43m,\u001b[49m\n\u001b[0;32m   1087\u001b[0m \u001b[43m    \u001b[49m\u001b[43mreturn_dict\u001b[49m\u001b[38;5;241;43m=\u001b[39;49m\u001b[43mreturn_dict\u001b[49m\u001b[43m,\u001b[49m\n\u001b[0;32m   1088\u001b[0m \u001b[43m\u001b[49m\u001b[43m)\u001b[49m\n\u001b[0;32m   1089\u001b[0m hidden_states \u001b[38;5;241m=\u001b[39m transformer_outputs[\u001b[38;5;241m0\u001b[39m]\n\u001b[0;32m   1091\u001b[0m \u001b[38;5;66;03m# Set device for model parallelism\u001b[39;00m\n",
      "File \u001b[1;32mc:\\Users\\Digital\\anaconda3\\envs\\pymodelextractor_exp\\lib\\site-packages\\torch\\nn\\modules\\module.py:1511\u001b[0m, in \u001b[0;36mModule._wrapped_call_impl\u001b[1;34m(self, *args, **kwargs)\u001b[0m\n\u001b[0;32m   1509\u001b[0m     \u001b[38;5;28;01mreturn\u001b[39;00m \u001b[38;5;28mself\u001b[39m\u001b[38;5;241m.\u001b[39m_compiled_call_impl(\u001b[38;5;241m*\u001b[39margs, \u001b[38;5;241m*\u001b[39m\u001b[38;5;241m*\u001b[39mkwargs)  \u001b[38;5;66;03m# type: ignore[misc]\u001b[39;00m\n\u001b[0;32m   1510\u001b[0m \u001b[38;5;28;01melse\u001b[39;00m:\n\u001b[1;32m-> 1511\u001b[0m     \u001b[38;5;28;01mreturn\u001b[39;00m \u001b[38;5;28mself\u001b[39m\u001b[38;5;241m.\u001b[39m_call_impl(\u001b[38;5;241m*\u001b[39margs, \u001b[38;5;241m*\u001b[39m\u001b[38;5;241m*\u001b[39mkwargs)\n",
      "File \u001b[1;32mc:\\Users\\Digital\\anaconda3\\envs\\pymodelextractor_exp\\lib\\site-packages\\torch\\nn\\modules\\module.py:1520\u001b[0m, in \u001b[0;36mModule._call_impl\u001b[1;34m(self, *args, **kwargs)\u001b[0m\n\u001b[0;32m   1515\u001b[0m \u001b[38;5;66;03m# If we don't have any hooks, we want to skip the rest of the logic in\u001b[39;00m\n\u001b[0;32m   1516\u001b[0m \u001b[38;5;66;03m# this function, and just call forward.\u001b[39;00m\n\u001b[0;32m   1517\u001b[0m \u001b[38;5;28;01mif\u001b[39;00m \u001b[38;5;129;01mnot\u001b[39;00m (\u001b[38;5;28mself\u001b[39m\u001b[38;5;241m.\u001b[39m_backward_hooks \u001b[38;5;129;01mor\u001b[39;00m \u001b[38;5;28mself\u001b[39m\u001b[38;5;241m.\u001b[39m_backward_pre_hooks \u001b[38;5;129;01mor\u001b[39;00m \u001b[38;5;28mself\u001b[39m\u001b[38;5;241m.\u001b[39m_forward_hooks \u001b[38;5;129;01mor\u001b[39;00m \u001b[38;5;28mself\u001b[39m\u001b[38;5;241m.\u001b[39m_forward_pre_hooks\n\u001b[0;32m   1518\u001b[0m         \u001b[38;5;129;01mor\u001b[39;00m _global_backward_pre_hooks \u001b[38;5;129;01mor\u001b[39;00m _global_backward_hooks\n\u001b[0;32m   1519\u001b[0m         \u001b[38;5;129;01mor\u001b[39;00m _global_forward_hooks \u001b[38;5;129;01mor\u001b[39;00m _global_forward_pre_hooks):\n\u001b[1;32m-> 1520\u001b[0m     \u001b[38;5;28;01mreturn\u001b[39;00m forward_call(\u001b[38;5;241m*\u001b[39margs, \u001b[38;5;241m*\u001b[39m\u001b[38;5;241m*\u001b[39mkwargs)\n\u001b[0;32m   1522\u001b[0m \u001b[38;5;28;01mtry\u001b[39;00m:\n\u001b[0;32m   1523\u001b[0m     result \u001b[38;5;241m=\u001b[39m \u001b[38;5;28;01mNone\u001b[39;00m\n",
      "File \u001b[1;32mc:\\Users\\Digital\\anaconda3\\envs\\pymodelextractor_exp\\lib\\site-packages\\transformers\\models\\gpt2\\modeling_gpt2.py:888\u001b[0m, in \u001b[0;36mGPT2Model.forward\u001b[1;34m(self, input_ids, past_key_values, attention_mask, token_type_ids, position_ids, head_mask, inputs_embeds, encoder_hidden_states, encoder_attention_mask, use_cache, output_attentions, output_hidden_states, return_dict)\u001b[0m\n\u001b[0;32m    876\u001b[0m     outputs \u001b[38;5;241m=\u001b[39m \u001b[38;5;28mself\u001b[39m\u001b[38;5;241m.\u001b[39m_gradient_checkpointing_func(\n\u001b[0;32m    877\u001b[0m         block\u001b[38;5;241m.\u001b[39m\u001b[38;5;21m__call__\u001b[39m,\n\u001b[0;32m    878\u001b[0m         hidden_states,\n\u001b[1;32m   (...)\u001b[0m\n\u001b[0;32m    885\u001b[0m         output_attentions,\n\u001b[0;32m    886\u001b[0m     )\n\u001b[0;32m    887\u001b[0m \u001b[38;5;28;01melse\u001b[39;00m:\n\u001b[1;32m--> 888\u001b[0m     outputs \u001b[38;5;241m=\u001b[39m \u001b[43mblock\u001b[49m\u001b[43m(\u001b[49m\n\u001b[0;32m    889\u001b[0m \u001b[43m        \u001b[49m\u001b[43mhidden_states\u001b[49m\u001b[43m,\u001b[49m\n\u001b[0;32m    890\u001b[0m \u001b[43m        \u001b[49m\u001b[43mlayer_past\u001b[49m\u001b[38;5;241;43m=\u001b[39;49m\u001b[43mlayer_past\u001b[49m\u001b[43m,\u001b[49m\n\u001b[0;32m    891\u001b[0m \u001b[43m        \u001b[49m\u001b[43mattention_mask\u001b[49m\u001b[38;5;241;43m=\u001b[39;49m\u001b[43mattention_mask\u001b[49m\u001b[43m,\u001b[49m\n\u001b[0;32m    892\u001b[0m \u001b[43m        \u001b[49m\u001b[43mhead_mask\u001b[49m\u001b[38;5;241;43m=\u001b[39;49m\u001b[43mhead_mask\u001b[49m\u001b[43m[\u001b[49m\u001b[43mi\u001b[49m\u001b[43m]\u001b[49m\u001b[43m,\u001b[49m\n\u001b[0;32m    893\u001b[0m \u001b[43m        \u001b[49m\u001b[43mencoder_hidden_states\u001b[49m\u001b[38;5;241;43m=\u001b[39;49m\u001b[43mencoder_hidden_states\u001b[49m\u001b[43m,\u001b[49m\n\u001b[0;32m    894\u001b[0m \u001b[43m        \u001b[49m\u001b[43mencoder_attention_mask\u001b[49m\u001b[38;5;241;43m=\u001b[39;49m\u001b[43mencoder_attention_mask\u001b[49m\u001b[43m,\u001b[49m\n\u001b[0;32m    895\u001b[0m \u001b[43m        \u001b[49m\u001b[43muse_cache\u001b[49m\u001b[38;5;241;43m=\u001b[39;49m\u001b[43muse_cache\u001b[49m\u001b[43m,\u001b[49m\n\u001b[0;32m    896\u001b[0m \u001b[43m        \u001b[49m\u001b[43moutput_attentions\u001b[49m\u001b[38;5;241;43m=\u001b[39;49m\u001b[43moutput_attentions\u001b[49m\u001b[43m,\u001b[49m\n\u001b[0;32m    897\u001b[0m \u001b[43m    \u001b[49m\u001b[43m)\u001b[49m\n\u001b[0;32m    899\u001b[0m hidden_states \u001b[38;5;241m=\u001b[39m outputs[\u001b[38;5;241m0\u001b[39m]\n\u001b[0;32m    900\u001b[0m \u001b[38;5;28;01mif\u001b[39;00m use_cache \u001b[38;5;129;01mis\u001b[39;00m \u001b[38;5;28;01mTrue\u001b[39;00m:\n",
      "File \u001b[1;32mc:\\Users\\Digital\\anaconda3\\envs\\pymodelextractor_exp\\lib\\site-packages\\torch\\nn\\modules\\module.py:1511\u001b[0m, in \u001b[0;36mModule._wrapped_call_impl\u001b[1;34m(self, *args, **kwargs)\u001b[0m\n\u001b[0;32m   1509\u001b[0m     \u001b[38;5;28;01mreturn\u001b[39;00m \u001b[38;5;28mself\u001b[39m\u001b[38;5;241m.\u001b[39m_compiled_call_impl(\u001b[38;5;241m*\u001b[39margs, \u001b[38;5;241m*\u001b[39m\u001b[38;5;241m*\u001b[39mkwargs)  \u001b[38;5;66;03m# type: ignore[misc]\u001b[39;00m\n\u001b[0;32m   1510\u001b[0m \u001b[38;5;28;01melse\u001b[39;00m:\n\u001b[1;32m-> 1511\u001b[0m     \u001b[38;5;28;01mreturn\u001b[39;00m \u001b[38;5;28mself\u001b[39m\u001b[38;5;241m.\u001b[39m_call_impl(\u001b[38;5;241m*\u001b[39margs, \u001b[38;5;241m*\u001b[39m\u001b[38;5;241m*\u001b[39mkwargs)\n",
      "File \u001b[1;32mc:\\Users\\Digital\\anaconda3\\envs\\pymodelextractor_exp\\lib\\site-packages\\torch\\nn\\modules\\module.py:1520\u001b[0m, in \u001b[0;36mModule._call_impl\u001b[1;34m(self, *args, **kwargs)\u001b[0m\n\u001b[0;32m   1515\u001b[0m \u001b[38;5;66;03m# If we don't have any hooks, we want to skip the rest of the logic in\u001b[39;00m\n\u001b[0;32m   1516\u001b[0m \u001b[38;5;66;03m# this function, and just call forward.\u001b[39;00m\n\u001b[0;32m   1517\u001b[0m \u001b[38;5;28;01mif\u001b[39;00m \u001b[38;5;129;01mnot\u001b[39;00m (\u001b[38;5;28mself\u001b[39m\u001b[38;5;241m.\u001b[39m_backward_hooks \u001b[38;5;129;01mor\u001b[39;00m \u001b[38;5;28mself\u001b[39m\u001b[38;5;241m.\u001b[39m_backward_pre_hooks \u001b[38;5;129;01mor\u001b[39;00m \u001b[38;5;28mself\u001b[39m\u001b[38;5;241m.\u001b[39m_forward_hooks \u001b[38;5;129;01mor\u001b[39;00m \u001b[38;5;28mself\u001b[39m\u001b[38;5;241m.\u001b[39m_forward_pre_hooks\n\u001b[0;32m   1518\u001b[0m         \u001b[38;5;129;01mor\u001b[39;00m _global_backward_pre_hooks \u001b[38;5;129;01mor\u001b[39;00m _global_backward_hooks\n\u001b[0;32m   1519\u001b[0m         \u001b[38;5;129;01mor\u001b[39;00m _global_forward_hooks \u001b[38;5;129;01mor\u001b[39;00m _global_forward_pre_hooks):\n\u001b[1;32m-> 1520\u001b[0m     \u001b[38;5;28;01mreturn\u001b[39;00m forward_call(\u001b[38;5;241m*\u001b[39margs, \u001b[38;5;241m*\u001b[39m\u001b[38;5;241m*\u001b[39mkwargs)\n\u001b[0;32m   1522\u001b[0m \u001b[38;5;28;01mtry\u001b[39;00m:\n\u001b[0;32m   1523\u001b[0m     result \u001b[38;5;241m=\u001b[39m \u001b[38;5;28;01mNone\u001b[39;00m\n",
      "File \u001b[1;32mc:\\Users\\Digital\\anaconda3\\envs\\pymodelextractor_exp\\lib\\site-packages\\transformers\\models\\gpt2\\modeling_gpt2.py:427\u001b[0m, in \u001b[0;36mGPT2Block.forward\u001b[1;34m(self, hidden_states, layer_past, attention_mask, head_mask, encoder_hidden_states, encoder_attention_mask, use_cache, output_attentions)\u001b[0m\n\u001b[0;32m    425\u001b[0m residual \u001b[38;5;241m=\u001b[39m hidden_states\n\u001b[0;32m    426\u001b[0m hidden_states \u001b[38;5;241m=\u001b[39m \u001b[38;5;28mself\u001b[39m\u001b[38;5;241m.\u001b[39mln_2(hidden_states)\n\u001b[1;32m--> 427\u001b[0m feed_forward_hidden_states \u001b[38;5;241m=\u001b[39m \u001b[38;5;28;43mself\u001b[39;49m\u001b[38;5;241;43m.\u001b[39;49m\u001b[43mmlp\u001b[49m\u001b[43m(\u001b[49m\u001b[43mhidden_states\u001b[49m\u001b[43m)\u001b[49m\n\u001b[0;32m    428\u001b[0m \u001b[38;5;66;03m# residual connection\u001b[39;00m\n\u001b[0;32m    429\u001b[0m hidden_states \u001b[38;5;241m=\u001b[39m residual \u001b[38;5;241m+\u001b[39m feed_forward_hidden_states\n",
      "File \u001b[1;32mc:\\Users\\Digital\\anaconda3\\envs\\pymodelextractor_exp\\lib\\site-packages\\torch\\nn\\modules\\module.py:1511\u001b[0m, in \u001b[0;36mModule._wrapped_call_impl\u001b[1;34m(self, *args, **kwargs)\u001b[0m\n\u001b[0;32m   1509\u001b[0m     \u001b[38;5;28;01mreturn\u001b[39;00m \u001b[38;5;28mself\u001b[39m\u001b[38;5;241m.\u001b[39m_compiled_call_impl(\u001b[38;5;241m*\u001b[39margs, \u001b[38;5;241m*\u001b[39m\u001b[38;5;241m*\u001b[39mkwargs)  \u001b[38;5;66;03m# type: ignore[misc]\u001b[39;00m\n\u001b[0;32m   1510\u001b[0m \u001b[38;5;28;01melse\u001b[39;00m:\n\u001b[1;32m-> 1511\u001b[0m     \u001b[38;5;28;01mreturn\u001b[39;00m \u001b[38;5;28mself\u001b[39m\u001b[38;5;241m.\u001b[39m_call_impl(\u001b[38;5;241m*\u001b[39margs, \u001b[38;5;241m*\u001b[39m\u001b[38;5;241m*\u001b[39mkwargs)\n",
      "File \u001b[1;32mc:\\Users\\Digital\\anaconda3\\envs\\pymodelextractor_exp\\lib\\site-packages\\torch\\nn\\modules\\module.py:1520\u001b[0m, in \u001b[0;36mModule._call_impl\u001b[1;34m(self, *args, **kwargs)\u001b[0m\n\u001b[0;32m   1515\u001b[0m \u001b[38;5;66;03m# If we don't have any hooks, we want to skip the rest of the logic in\u001b[39;00m\n\u001b[0;32m   1516\u001b[0m \u001b[38;5;66;03m# this function, and just call forward.\u001b[39;00m\n\u001b[0;32m   1517\u001b[0m \u001b[38;5;28;01mif\u001b[39;00m \u001b[38;5;129;01mnot\u001b[39;00m (\u001b[38;5;28mself\u001b[39m\u001b[38;5;241m.\u001b[39m_backward_hooks \u001b[38;5;129;01mor\u001b[39;00m \u001b[38;5;28mself\u001b[39m\u001b[38;5;241m.\u001b[39m_backward_pre_hooks \u001b[38;5;129;01mor\u001b[39;00m \u001b[38;5;28mself\u001b[39m\u001b[38;5;241m.\u001b[39m_forward_hooks \u001b[38;5;129;01mor\u001b[39;00m \u001b[38;5;28mself\u001b[39m\u001b[38;5;241m.\u001b[39m_forward_pre_hooks\n\u001b[0;32m   1518\u001b[0m         \u001b[38;5;129;01mor\u001b[39;00m _global_backward_pre_hooks \u001b[38;5;129;01mor\u001b[39;00m _global_backward_hooks\n\u001b[0;32m   1519\u001b[0m         \u001b[38;5;129;01mor\u001b[39;00m _global_forward_hooks \u001b[38;5;129;01mor\u001b[39;00m _global_forward_pre_hooks):\n\u001b[1;32m-> 1520\u001b[0m     \u001b[38;5;28;01mreturn\u001b[39;00m forward_call(\u001b[38;5;241m*\u001b[39margs, \u001b[38;5;241m*\u001b[39m\u001b[38;5;241m*\u001b[39mkwargs)\n\u001b[0;32m   1522\u001b[0m \u001b[38;5;28;01mtry\u001b[39;00m:\n\u001b[0;32m   1523\u001b[0m     result \u001b[38;5;241m=\u001b[39m \u001b[38;5;28;01mNone\u001b[39;00m\n",
      "File \u001b[1;32mc:\\Users\\Digital\\anaconda3\\envs\\pymodelextractor_exp\\lib\\site-packages\\transformers\\models\\gpt2\\modeling_gpt2.py:354\u001b[0m, in \u001b[0;36mGPT2MLP.forward\u001b[1;34m(self, hidden_states)\u001b[0m\n\u001b[0;32m    353\u001b[0m \u001b[38;5;28;01mdef\u001b[39;00m \u001b[38;5;21mforward\u001b[39m(\u001b[38;5;28mself\u001b[39m, hidden_states: Optional[Tuple[torch\u001b[38;5;241m.\u001b[39mFloatTensor]]) \u001b[38;5;241m-\u001b[39m\u001b[38;5;241m>\u001b[39m torch\u001b[38;5;241m.\u001b[39mFloatTensor:\n\u001b[1;32m--> 354\u001b[0m     hidden_states \u001b[38;5;241m=\u001b[39m \u001b[38;5;28;43mself\u001b[39;49m\u001b[38;5;241;43m.\u001b[39;49m\u001b[43mc_fc\u001b[49m\u001b[43m(\u001b[49m\u001b[43mhidden_states\u001b[49m\u001b[43m)\u001b[49m\n\u001b[0;32m    355\u001b[0m     hidden_states \u001b[38;5;241m=\u001b[39m \u001b[38;5;28mself\u001b[39m\u001b[38;5;241m.\u001b[39mact(hidden_states)\n\u001b[0;32m    356\u001b[0m     hidden_states \u001b[38;5;241m=\u001b[39m \u001b[38;5;28mself\u001b[39m\u001b[38;5;241m.\u001b[39mc_proj(hidden_states)\n",
      "File \u001b[1;32mc:\\Users\\Digital\\anaconda3\\envs\\pymodelextractor_exp\\lib\\site-packages\\torch\\nn\\modules\\module.py:1511\u001b[0m, in \u001b[0;36mModule._wrapped_call_impl\u001b[1;34m(self, *args, **kwargs)\u001b[0m\n\u001b[0;32m   1509\u001b[0m     \u001b[38;5;28;01mreturn\u001b[39;00m \u001b[38;5;28mself\u001b[39m\u001b[38;5;241m.\u001b[39m_compiled_call_impl(\u001b[38;5;241m*\u001b[39margs, \u001b[38;5;241m*\u001b[39m\u001b[38;5;241m*\u001b[39mkwargs)  \u001b[38;5;66;03m# type: ignore[misc]\u001b[39;00m\n\u001b[0;32m   1510\u001b[0m \u001b[38;5;28;01melse\u001b[39;00m:\n\u001b[1;32m-> 1511\u001b[0m     \u001b[38;5;28;01mreturn\u001b[39;00m \u001b[38;5;28mself\u001b[39m\u001b[38;5;241m.\u001b[39m_call_impl(\u001b[38;5;241m*\u001b[39margs, \u001b[38;5;241m*\u001b[39m\u001b[38;5;241m*\u001b[39mkwargs)\n",
      "File \u001b[1;32mc:\\Users\\Digital\\anaconda3\\envs\\pymodelextractor_exp\\lib\\site-packages\\torch\\nn\\modules\\module.py:1520\u001b[0m, in \u001b[0;36mModule._call_impl\u001b[1;34m(self, *args, **kwargs)\u001b[0m\n\u001b[0;32m   1515\u001b[0m \u001b[38;5;66;03m# If we don't have any hooks, we want to skip the rest of the logic in\u001b[39;00m\n\u001b[0;32m   1516\u001b[0m \u001b[38;5;66;03m# this function, and just call forward.\u001b[39;00m\n\u001b[0;32m   1517\u001b[0m \u001b[38;5;28;01mif\u001b[39;00m \u001b[38;5;129;01mnot\u001b[39;00m (\u001b[38;5;28mself\u001b[39m\u001b[38;5;241m.\u001b[39m_backward_hooks \u001b[38;5;129;01mor\u001b[39;00m \u001b[38;5;28mself\u001b[39m\u001b[38;5;241m.\u001b[39m_backward_pre_hooks \u001b[38;5;129;01mor\u001b[39;00m \u001b[38;5;28mself\u001b[39m\u001b[38;5;241m.\u001b[39m_forward_hooks \u001b[38;5;129;01mor\u001b[39;00m \u001b[38;5;28mself\u001b[39m\u001b[38;5;241m.\u001b[39m_forward_pre_hooks\n\u001b[0;32m   1518\u001b[0m         \u001b[38;5;129;01mor\u001b[39;00m _global_backward_pre_hooks \u001b[38;5;129;01mor\u001b[39;00m _global_backward_hooks\n\u001b[0;32m   1519\u001b[0m         \u001b[38;5;129;01mor\u001b[39;00m _global_forward_hooks \u001b[38;5;129;01mor\u001b[39;00m _global_forward_pre_hooks):\n\u001b[1;32m-> 1520\u001b[0m     \u001b[38;5;28;01mreturn\u001b[39;00m forward_call(\u001b[38;5;241m*\u001b[39margs, \u001b[38;5;241m*\u001b[39m\u001b[38;5;241m*\u001b[39mkwargs)\n\u001b[0;32m   1522\u001b[0m \u001b[38;5;28;01mtry\u001b[39;00m:\n\u001b[0;32m   1523\u001b[0m     result \u001b[38;5;241m=\u001b[39m \u001b[38;5;28;01mNone\u001b[39;00m\n",
      "File \u001b[1;32mc:\\Users\\Digital\\anaconda3\\envs\\pymodelextractor_exp\\lib\\site-packages\\transformers\\pytorch_utils.py:102\u001b[0m, in \u001b[0;36mConv1D.forward\u001b[1;34m(self, x)\u001b[0m\n\u001b[0;32m    100\u001b[0m \u001b[38;5;28;01mdef\u001b[39;00m \u001b[38;5;21mforward\u001b[39m(\u001b[38;5;28mself\u001b[39m, x):\n\u001b[0;32m    101\u001b[0m     size_out \u001b[38;5;241m=\u001b[39m x\u001b[38;5;241m.\u001b[39msize()[:\u001b[38;5;241m-\u001b[39m\u001b[38;5;241m1\u001b[39m] \u001b[38;5;241m+\u001b[39m (\u001b[38;5;28mself\u001b[39m\u001b[38;5;241m.\u001b[39mnf,)\n\u001b[1;32m--> 102\u001b[0m     x \u001b[38;5;241m=\u001b[39m \u001b[43mtorch\u001b[49m\u001b[38;5;241;43m.\u001b[39;49m\u001b[43maddmm\u001b[49m\u001b[43m(\u001b[49m\u001b[38;5;28;43mself\u001b[39;49m\u001b[38;5;241;43m.\u001b[39;49m\u001b[43mbias\u001b[49m\u001b[43m,\u001b[49m\u001b[43m \u001b[49m\u001b[43mx\u001b[49m\u001b[38;5;241;43m.\u001b[39;49m\u001b[43mview\u001b[49m\u001b[43m(\u001b[49m\u001b[38;5;241;43m-\u001b[39;49m\u001b[38;5;241;43m1\u001b[39;49m\u001b[43m,\u001b[49m\u001b[43m \u001b[49m\u001b[43mx\u001b[49m\u001b[38;5;241;43m.\u001b[39;49m\u001b[43msize\u001b[49m\u001b[43m(\u001b[49m\u001b[38;5;241;43m-\u001b[39;49m\u001b[38;5;241;43m1\u001b[39;49m\u001b[43m)\u001b[49m\u001b[43m)\u001b[49m\u001b[43m,\u001b[49m\u001b[43m \u001b[49m\u001b[38;5;28;43mself\u001b[39;49m\u001b[38;5;241;43m.\u001b[39;49m\u001b[43mweight\u001b[49m\u001b[43m)\u001b[49m\n\u001b[0;32m    103\u001b[0m     x \u001b[38;5;241m=\u001b[39m x\u001b[38;5;241m.\u001b[39mview(size_out)\n\u001b[0;32m    104\u001b[0m     \u001b[38;5;28;01mreturn\u001b[39;00m x\n",
      "\u001b[1;31mKeyboardInterrupt\u001b[0m: "
     ]
    }
   ],
   "source": [
    "import numpy as np\n",
    "res = list()\n",
    "words = generator.generate_all_words()\n",
    "for word in words:\n",
    "    probs = list(next_token_probabilities(syncrhronic_model, word).values())\n",
    "    if np.sum(probs) > 0:\n",
    "        print(word, probs)\n",
    "        res.append((word, probs))\n",
    "    if len(res)>1000:\n",
    "        break"
   ]
  },
  {
   "cell_type": "code",
   "execution_count": null,
   "metadata": {},
   "outputs": [],
   "source": [
    "from pythautomata.base_types.sequence import Sequence\n",
    "from pythautomata.base_types.symbol import SymbolStr\n",
    "the_man_studied = Sequence([SymbolStr(\"The\"),SymbolStr(\"man\"),SymbolStr(\"studied\")])\n",
    "the_woman_studied = Sequence([SymbolStr(\"The\"),SymbolStr(\"woman\"),SymbolStr(\"studied\")])"
   ]
  },
  {
   "cell_type": "code",
   "execution_count": null,
   "metadata": {},
   "outputs": [],
   "source": [
    "man = next_token_probabilities(syncrhronic_model, the_man_studied).values()\n",
    "woman = next_token_probabilities(syncrhronic_model, the_woman_studied).values()"
   ]
  },
  {
   "cell_type": "code",
   "execution_count": null,
   "metadata": {},
   "outputs": [],
   "source": [
    "next_token_probabilities(syncrhronic_model, the_woman_studied)"
   ]
  },
  {
   "cell_type": "code",
   "execution_count": null,
   "metadata": {},
   "outputs": [],
   "source": [
    "wrapper_res = next_token_probabilities(wrapper, the_woman_studied).values()"
   ]
  },
  {
   "cell_type": "code",
   "execution_count": null,
   "metadata": {},
   "outputs": [],
   "source": [
    "partitioner.get_partition(woman)"
   ]
  },
  {
   "cell_type": "code",
   "execution_count": null,
   "metadata": {},
   "outputs": [],
   "source": [
    "partitioner.get_partition(man)"
   ]
  },
  {
   "cell_type": "code",
   "execution_count": null,
   "metadata": {},
   "outputs": [],
   "source": [
    "partitioner.are_in_same_partition(wrapper_res, woman)"
   ]
  },
  {
   "cell_type": "code",
   "execution_count": null,
   "metadata": {},
   "outputs": [],
   "source": [
    "next_token_probabilities(wrapper, test_seq)"
   ]
  },
  {
   "cell_type": "code",
   "execution_count": null,
   "metadata": {},
   "outputs": [],
   "source": [
    "next_token_probabilities(guiding_wfa, test_seq)"
   ]
  },
  {
   "cell_type": "code",
   "execution_count": null,
   "metadata": {},
   "outputs": [],
   "source": [
    "next_token_probabilities(syncrhronic_model, test_seq)"
   ]
  },
  {
   "cell_type": "code",
   "execution_count": 18,
   "metadata": {},
   "outputs": [
    {
     "data": {
      "image/svg+xml": [
       "<?xml version=\"1.0\" encoding=\"UTF-8\" standalone=\"no\"?>\n",
       "<!DOCTYPE svg PUBLIC \"-//W3C//DTD SVG 1.1//EN\"\n",
       " \"http://www.w3.org/Graphics/SVG/1.1/DTD/svg11.dtd\">\n",
       "<!-- Generated by graphviz version 9.0.0 (20230911.1827)\n",
       " -->\n",
       "<!-- Title: weighted_automaton Pages: 1 -->\n",
       "<svg width=\"1067pt\" height=\"743pt\"\n",
       " viewBox=\"0.00 0.00 1066.86 743.25\" xmlns=\"http://www.w3.org/2000/svg\" xmlns:xlink=\"http://www.w3.org/1999/xlink\">\n",
       "<g id=\"graph0\" class=\"graph\" transform=\"scale(1 1) rotate(0) translate(4 739.25)\">\n",
       "<title>weighted_automaton</title>\n",
       "<polygon fill=\"white\" stroke=\"none\" points=\"-4,4 -4,-739.25 1062.86,-739.25 1062.86,4 -4,4\"/>\n",
       "<!-- T -->\n",
       "<g id=\"node1\" class=\"node\">\n",
       "<title>T</title>\n",
       "<ellipse fill=\"none\" stroke=\"black\" cx=\"327.12\" cy=\"-454\" rx=\"27.93\" ry=\"27.93\"/>\n",
       "<text text-anchor=\"middle\" x=\"327.12\" y=\"-456.45\" font-family=\"Times New Roman,serif\" font-size=\"14.00\">T</text>\n",
       "<text text-anchor=\"middle\" x=\"327.12\" y=\"-440.7\" font-family=\"Times New Roman,serif\" font-size=\"14.00\">0.0</text>\n",
       "</g>\n",
       "<!-- e -->\n",
       "<g id=\"node2\" class=\"node\">\n",
       "<title>e</title>\n",
       "<ellipse fill=\"none\" stroke=\"black\" cx=\"995.86\" cy=\"-217\" rx=\"27.93\" ry=\"27.93\"/>\n",
       "<text text-anchor=\"middle\" x=\"995.86\" y=\"-219.45\" font-family=\"Times New Roman,serif\" font-size=\"14.00\">e</text>\n",
       "<text text-anchor=\"middle\" x=\"995.86\" y=\"-203.7\" font-family=\"Times New Roman,serif\" font-size=\"14.00\">0</text>\n",
       "</g>\n",
       "<!-- T&#45;&gt;e -->\n",
       "<g id=\"edge1\" class=\"edge\">\n",
       "<title>T&#45;&gt;e</title>\n",
       "<path fill=\"none\" stroke=\"black\" d=\"M349.6,-470.92C423.95,-527.29 674.85,-699.16 841.36,-590 956.11,-514.77 985.13,-336.19 992.43,-256.53\"/>\n",
       "<polygon fill=\"black\" stroke=\"black\" points=\"995.91,-256.84 993.26,-246.59 988.94,-256.26 995.91,-256.84\"/>\n",
       "<text text-anchor=\"middle\" x=\"631.81\" y=\"-721.95\" font-family=\"Times New Roman,serif\" font-size=\"14.00\">T&#45;0.0</text>\n",
       "<text text-anchor=\"middle\" x=\"631.81\" y=\"-706.2\" font-family=\"Times New Roman,serif\" font-size=\"14.00\">Th&#45;0.0</text>\n",
       "<text text-anchor=\"middle\" x=\"631.81\" y=\"-690.45\" font-family=\"Times New Roman,serif\" font-size=\"14.00\">The&#45;0.0</text>\n",
       "<text text-anchor=\"middle\" x=\"631.81\" y=\"-674.7\" font-family=\"Times New Roman,serif\" font-size=\"14.00\">e&#45;0.0</text>\n",
       "<text text-anchor=\"middle\" x=\"631.81\" y=\"-658.95\" font-family=\"Times New Roman,serif\" font-size=\"14.00\">gorilla&#45;0.0</text>\n",
       "<text text-anchor=\"middle\" x=\"631.81\" y=\"-643.2\" font-family=\"Times New Roman,serif\" font-size=\"14.00\">h&#45;0.0</text>\n",
       "<text text-anchor=\"middle\" x=\"631.81\" y=\"-627.45\" font-family=\"Times New Roman,serif\" font-size=\"14.00\">house&#45;0.0</text>\n",
       "</g>\n",
       "<!-- T,he -->\n",
       "<g id=\"node3\" class=\"node\">\n",
       "<title>T,he</title>\n",
       "<ellipse fill=\"none\" stroke=\"black\" cx=\"499.34\" cy=\"-454\" rx=\"29.34\" ry=\"29.34\"/>\n",
       "<text text-anchor=\"middle\" x=\"499.34\" y=\"-456.45\" font-family=\"Times New Roman,serif\" font-size=\"14.00\">T,he</text>\n",
       "<text text-anchor=\"middle\" x=\"499.34\" y=\"-440.7\" font-family=\"Times New Roman,serif\" font-size=\"14.00\">0.0</text>\n",
       "</g>\n",
       "<!-- T&#45;&gt;T,he -->\n",
       "<g id=\"edge2\" class=\"edge\">\n",
       "<title>T&#45;&gt;T,he</title>\n",
       "<path fill=\"none\" stroke=\"black\" d=\"M355.47,-454C383.22,-454 426.48,-454 458.14,-454\"/>\n",
       "<polygon fill=\"black\" stroke=\"black\" points=\"458.13,-457.5 468.13,-454 458.13,-450.5 458.13,-457.5\"/>\n",
       "<text text-anchor=\"middle\" x=\"434.75\" y=\"-456.45\" font-family=\"Times New Roman,serif\" font-size=\"14.00\">he&#45;1.0</text>\n",
       "</g>\n",
       "<!-- e&#45;&gt;e -->\n",
       "<g id=\"edge12\" class=\"edge\">\n",
       "<title>e&#45;&gt;e</title>\n",
       "<path fill=\"none\" stroke=\"black\" d=\"M976.91,-237.78C972.34,-250.67 978.65,-262.93 995.86,-262.93 1007.82,-262.93 1014.52,-257 1015.96,-249.06\"/>\n",
       "<polygon fill=\"black\" stroke=\"black\" points=\"1019.46,-248.88 1014.96,-239.29 1012.49,-249.59 1019.46,-248.88\"/>\n",
       "<text text-anchor=\"middle\" x=\"995.86\" y=\"-375.63\" font-family=\"Times New Roman,serif\" font-size=\"14.00\">T&#45;0</text>\n",
       "<text text-anchor=\"middle\" x=\"995.86\" y=\"-359.88\" font-family=\"Times New Roman,serif\" font-size=\"14.00\">Th&#45;0</text>\n",
       "<text text-anchor=\"middle\" x=\"995.86\" y=\"-344.13\" font-family=\"Times New Roman,serif\" font-size=\"14.00\">The&#45;0</text>\n",
       "<text text-anchor=\"middle\" x=\"995.86\" y=\"-328.38\" font-family=\"Times New Roman,serif\" font-size=\"14.00\">e&#45;0</text>\n",
       "<text text-anchor=\"middle\" x=\"995.86\" y=\"-312.63\" font-family=\"Times New Roman,serif\" font-size=\"14.00\">gorilla&#45;0</text>\n",
       "<text text-anchor=\"middle\" x=\"995.86\" y=\"-296.88\" font-family=\"Times New Roman,serif\" font-size=\"14.00\">h&#45;0</text>\n",
       "<text text-anchor=\"middle\" x=\"995.86\" y=\"-281.13\" font-family=\"Times New Roman,serif\" font-size=\"14.00\">he&#45;0</text>\n",
       "<text text-anchor=\"middle\" x=\"995.86\" y=\"-265.38\" font-family=\"Times New Roman,serif\" font-size=\"14.00\">house&#45;0</text>\n",
       "</g>\n",
       "<!-- T,he&#45;&gt;e -->\n",
       "<g id=\"edge3\" class=\"edge\">\n",
       "<title>T,he&#45;&gt;e</title>\n",
       "<path fill=\"none\" stroke=\"black\" d=\"M526.26,-466.69C532.78,-469.3 539.86,-471.66 546.69,-473 675.65,-498.41 728.4,-515.19 841.36,-448 915.93,-403.65 961.57,-307.29 982.06,-254.11\"/>\n",
       "<polygon fill=\"black\" stroke=\"black\" points=\"985.3,-255.46 985.53,-244.87 978.74,-253.01 985.3,-255.46\"/>\n",
       "<text text-anchor=\"middle\" x=\"788.15\" y=\"-572.2\" font-family=\"Times New Roman,serif\" font-size=\"14.00\">T&#45;0.0</text>\n",
       "<text text-anchor=\"middle\" x=\"788.15\" y=\"-556.45\" font-family=\"Times New Roman,serif\" font-size=\"14.00\">Th&#45;0.0</text>\n",
       "<text text-anchor=\"middle\" x=\"788.15\" y=\"-540.7\" font-family=\"Times New Roman,serif\" font-size=\"14.00\">The&#45;0.0</text>\n",
       "<text text-anchor=\"middle\" x=\"788.15\" y=\"-524.95\" font-family=\"Times New Roman,serif\" font-size=\"14.00\">e&#45;0.0</text>\n",
       "<text text-anchor=\"middle\" x=\"788.15\" y=\"-509.2\" font-family=\"Times New Roman,serif\" font-size=\"14.00\">h&#45;0.0</text>\n",
       "<text text-anchor=\"middle\" x=\"788.15\" y=\"-493.45\" font-family=\"Times New Roman,serif\" font-size=\"14.00\">he&#45;0.0</text>\n",
       "</g>\n",
       "<!-- The,gorilla -->\n",
       "<g id=\"node4\" class=\"node\">\n",
       "<title>The,gorilla</title>\n",
       "<ellipse fill=\"none\" stroke=\"black\" cx=\"788.15\" cy=\"-267\" rx=\"53.21\" ry=\"53.21\"/>\n",
       "<text text-anchor=\"middle\" x=\"788.15\" y=\"-269.45\" font-family=\"Times New Roman,serif\" font-size=\"14.00\">The,gorilla</text>\n",
       "<text text-anchor=\"middle\" x=\"788.15\" y=\"-253.7\" font-family=\"Times New Roman,serif\" font-size=\"14.00\">1.0</text>\n",
       "</g>\n",
       "<!-- T,he&#45;&gt;The,gorilla -->\n",
       "<g id=\"edge4\" class=\"edge\">\n",
       "<title>T,he&#45;&gt;The,gorilla</title>\n",
       "<path fill=\"none\" stroke=\"black\" d=\"M527.62,-444.71C570.71,-429.19 655.89,-394.98 716.94,-348 728.11,-339.4 738.82,-328.8 748.36,-318.13\"/>\n",
       "<polygon fill=\"black\" stroke=\"black\" points=\"750.86,-320.6 754.76,-310.75 745.56,-316.02 750.86,-320.6\"/>\n",
       "<text text-anchor=\"middle\" x=\"631.81\" y=\"-455.2\" font-family=\"Times New Roman,serif\" font-size=\"14.00\">gorilla&#45;0.013823626394468453</text>\n",
       "<text text-anchor=\"middle\" x=\"631.81\" y=\"-439.45\" font-family=\"Times New Roman,serif\" font-size=\"14.00\">house&#45;0.9861763736055316</text>\n",
       "</g>\n",
       "<!-- The,gorilla&#45;&gt;e -->\n",
       "<g id=\"edge11\" class=\"edge\">\n",
       "<title>The,gorilla&#45;&gt;e</title>\n",
       "<path fill=\"none\" stroke=\"black\" d=\"M829.26,-232.98C838.59,-226.84 848.88,-221.34 859.36,-218 891.04,-207.91 929.03,-208.66 956.71,-211.35\"/>\n",
       "<polygon fill=\"black\" stroke=\"black\" points=\"956.07,-214.8 966.39,-212.43 956.84,-207.84 956.07,-214.8\"/>\n",
       "<text text-anchor=\"middle\" x=\"887.11\" y=\"-330.7\" font-family=\"Times New Roman,serif\" font-size=\"14.00\">T&#45;0.0</text>\n",
       "<text text-anchor=\"middle\" x=\"887.11\" y=\"-314.95\" font-family=\"Times New Roman,serif\" font-size=\"14.00\">Th&#45;0.0</text>\n",
       "<text text-anchor=\"middle\" x=\"887.11\" y=\"-299.2\" font-family=\"Times New Roman,serif\" font-size=\"14.00\">The&#45;0.0</text>\n",
       "<text text-anchor=\"middle\" x=\"887.11\" y=\"-283.45\" font-family=\"Times New Roman,serif\" font-size=\"14.00\">e&#45;0.0</text>\n",
       "<text text-anchor=\"middle\" x=\"887.11\" y=\"-267.7\" font-family=\"Times New Roman,serif\" font-size=\"14.00\">gorilla&#45;0.0</text>\n",
       "<text text-anchor=\"middle\" x=\"887.11\" y=\"-251.95\" font-family=\"Times New Roman,serif\" font-size=\"14.00\">h&#45;0.0</text>\n",
       "<text text-anchor=\"middle\" x=\"887.11\" y=\"-236.2\" font-family=\"Times New Roman,serif\" font-size=\"14.00\">he&#45;0.0</text>\n",
       "<text text-anchor=\"middle\" x=\"887.11\" y=\"-220.45\" font-family=\"Times New Roman,serif\" font-size=\"14.00\">house&#45;0.0</text>\n",
       "</g>\n",
       "<!-- Th -->\n",
       "<g id=\"node5\" class=\"node\">\n",
       "<title>Th</title>\n",
       "<ellipse fill=\"none\" stroke=\"black\" cx=\"327.12\" cy=\"-187\" rx=\"27.93\" ry=\"27.93\"/>\n",
       "<text text-anchor=\"middle\" x=\"327.12\" y=\"-189.45\" font-family=\"Times New Roman,serif\" font-size=\"14.00\">Th</text>\n",
       "<text text-anchor=\"middle\" x=\"327.12\" y=\"-173.7\" font-family=\"Times New Roman,serif\" font-size=\"14.00\">0.0</text>\n",
       "</g>\n",
       "<!-- Th&#45;&gt;e -->\n",
       "<g id=\"edge5\" class=\"edge\">\n",
       "<title>Th&#45;&gt;e</title>\n",
       "<path fill=\"none\" stroke=\"black\" d=\"M355.37,-185.48C396.71,-183.25 477.77,-179.21 546.69,-177.75 622.34,-176.15 641.46,-172.45 716.94,-177.75 803.25,-183.81 903.54,-200.35 956.89,-209.91\"/>\n",
       "<polygon fill=\"black\" stroke=\"black\" points=\"956.21,-213.35 966.67,-211.69 957.46,-206.46 956.21,-213.35\"/>\n",
       "<text text-anchor=\"middle\" x=\"631.81\" y=\"-274.95\" font-family=\"Times New Roman,serif\" font-size=\"14.00\">T&#45;0.0</text>\n",
       "<text text-anchor=\"middle\" x=\"631.81\" y=\"-259.2\" font-family=\"Times New Roman,serif\" font-size=\"14.00\">Th&#45;0.0</text>\n",
       "<text text-anchor=\"middle\" x=\"631.81\" y=\"-243.45\" font-family=\"Times New Roman,serif\" font-size=\"14.00\">The&#45;0.0</text>\n",
       "<text text-anchor=\"middle\" x=\"631.81\" y=\"-227.7\" font-family=\"Times New Roman,serif\" font-size=\"14.00\">gorilla&#45;0.0</text>\n",
       "<text text-anchor=\"middle\" x=\"631.81\" y=\"-211.95\" font-family=\"Times New Roman,serif\" font-size=\"14.00\">h&#45;0.0</text>\n",
       "<text text-anchor=\"middle\" x=\"631.81\" y=\"-196.2\" font-family=\"Times New Roman,serif\" font-size=\"14.00\">he&#45;0.0</text>\n",
       "<text text-anchor=\"middle\" x=\"631.81\" y=\"-180.45\" font-family=\"Times New Roman,serif\" font-size=\"14.00\">house&#45;0.0</text>\n",
       "</g>\n",
       "<!-- Th,e -->\n",
       "<g id=\"node6\" class=\"node\">\n",
       "<title>Th,e</title>\n",
       "<ellipse fill=\"none\" stroke=\"black\" cx=\"499.34\" cy=\"-314\" rx=\"29.34\" ry=\"29.34\"/>\n",
       "<text text-anchor=\"middle\" x=\"499.34\" y=\"-316.45\" font-family=\"Times New Roman,serif\" font-size=\"14.00\">Th,e</text>\n",
       "<text text-anchor=\"middle\" x=\"499.34\" y=\"-300.7\" font-family=\"Times New Roman,serif\" font-size=\"14.00\">0.0</text>\n",
       "</g>\n",
       "<!-- Th&#45;&gt;Th,e -->\n",
       "<g id=\"edge6\" class=\"edge\">\n",
       "<title>Th&#45;&gt;Th,e</title>\n",
       "<path fill=\"none\" stroke=\"black\" d=\"M350.03,-203.34C379.5,-225.33 432.11,-264.59 466.1,-289.95\"/>\n",
       "<polygon fill=\"black\" stroke=\"black\" points=\"463.84,-292.62 473.95,-295.8 468.03,-287.01 463.84,-292.62\"/>\n",
       "<text text-anchor=\"middle\" x=\"434.75\" y=\"-279.45\" font-family=\"Times New Roman,serif\" font-size=\"14.00\">e&#45;1.0</text>\n",
       "</g>\n",
       "<!-- Th,e&#45;&gt;e -->\n",
       "<g id=\"edge7\" class=\"edge\">\n",
       "<title>Th,e&#45;&gt;e</title>\n",
       "<path fill=\"none\" stroke=\"black\" d=\"M521.91,-333.52C529.25,-338.97 537.85,-344.17 546.69,-347 566.33,-353.28 911.03,-346.15 914.86,-344 948.95,-324.84 970.57,-284.5 982.61,-254.4\"/>\n",
       "<polygon fill=\"black\" stroke=\"black\" points=\"985.81,-255.84 986.09,-245.24 979.27,-253.35 985.81,-255.84\"/>\n",
       "<text text-anchor=\"middle\" x=\"788.15\" y=\"-430.2\" font-family=\"Times New Roman,serif\" font-size=\"14.00\">T&#45;0.0</text>\n",
       "<text text-anchor=\"middle\" x=\"788.15\" y=\"-414.45\" font-family=\"Times New Roman,serif\" font-size=\"14.00\">Th&#45;0.0</text>\n",
       "<text text-anchor=\"middle\" x=\"788.15\" y=\"-398.7\" font-family=\"Times New Roman,serif\" font-size=\"14.00\">The&#45;0.0</text>\n",
       "<text text-anchor=\"middle\" x=\"788.15\" y=\"-382.95\" font-family=\"Times New Roman,serif\" font-size=\"14.00\">e&#45;0.0</text>\n",
       "<text text-anchor=\"middle\" x=\"788.15\" y=\"-367.2\" font-family=\"Times New Roman,serif\" font-size=\"14.00\">h&#45;0.0</text>\n",
       "<text text-anchor=\"middle\" x=\"788.15\" y=\"-351.45\" font-family=\"Times New Roman,serif\" font-size=\"14.00\">he&#45;0.0</text>\n",
       "</g>\n",
       "<!-- Th,e&#45;&gt;The,gorilla -->\n",
       "<g id=\"edge8\" class=\"edge\">\n",
       "<title>Th,e&#45;&gt;The,gorilla</title>\n",
       "<path fill=\"none\" stroke=\"black\" d=\"M529.08,-313.28C570.9,-311.73 650.75,-306.92 716.94,-292 720.3,-291.24 723.73,-290.37 727.16,-289.42\"/>\n",
       "<polygon fill=\"black\" stroke=\"black\" points=\"728.08,-292.8 736.66,-286.57 726.08,-286.09 728.08,-292.8\"/>\n",
       "<text text-anchor=\"middle\" x=\"631.81\" y=\"-331.2\" font-family=\"Times New Roman,serif\" font-size=\"14.00\">gorilla&#45;0.01435753071573932</text>\n",
       "<text text-anchor=\"middle\" x=\"631.81\" y=\"-315.45\" font-family=\"Times New Roman,serif\" font-size=\"14.00\">house&#45;0.9856424692842607</text>\n",
       "</g>\n",
       "<!-- The -->\n",
       "<g id=\"node7\" class=\"node\">\n",
       "<title>The</title>\n",
       "<ellipse fill=\"none\" stroke=\"black\" cx=\"499.34\" cy=\"-125\" rx=\"27.93\" ry=\"27.93\"/>\n",
       "<text text-anchor=\"middle\" x=\"499.34\" y=\"-127.45\" font-family=\"Times New Roman,serif\" font-size=\"14.00\">The</text>\n",
       "<text text-anchor=\"middle\" x=\"499.34\" y=\"-111.7\" font-family=\"Times New Roman,serif\" font-size=\"14.00\">0.0</text>\n",
       "</g>\n",
       "<!-- The&#45;&gt;e -->\n",
       "<g id=\"edge9\" class=\"edge\">\n",
       "<title>The&#45;&gt;e</title>\n",
       "<path fill=\"none\" stroke=\"black\" d=\"M523.75,-110.99C530.9,-107.23 538.93,-103.52 546.69,-101 671.83,-60.36 719.05,-23.99 841.36,-72.5 898.2,-95.04 946.23,-149.71 972.74,-184.96\"/>\n",
       "<polygon fill=\"black\" stroke=\"black\" points=\"969.68,-186.71 978.42,-192.7 975.32,-182.57 969.68,-186.71\"/>\n",
       "<text text-anchor=\"middle\" x=\"788.15\" y=\"-154.2\" font-family=\"Times New Roman,serif\" font-size=\"14.00\">T&#45;0.0</text>\n",
       "<text text-anchor=\"middle\" x=\"788.15\" y=\"-138.45\" font-family=\"Times New Roman,serif\" font-size=\"14.00\">Th&#45;0.0</text>\n",
       "<text text-anchor=\"middle\" x=\"788.15\" y=\"-122.7\" font-family=\"Times New Roman,serif\" font-size=\"14.00\">The&#45;0.0</text>\n",
       "<text text-anchor=\"middle\" x=\"788.15\" y=\"-106.95\" font-family=\"Times New Roman,serif\" font-size=\"14.00\">e&#45;0.0</text>\n",
       "<text text-anchor=\"middle\" x=\"788.15\" y=\"-91.2\" font-family=\"Times New Roman,serif\" font-size=\"14.00\">h&#45;0.0</text>\n",
       "<text text-anchor=\"middle\" x=\"788.15\" y=\"-75.45\" font-family=\"Times New Roman,serif\" font-size=\"14.00\">he&#45;0.0</text>\n",
       "</g>\n",
       "<!-- The&#45;&gt;The,gorilla -->\n",
       "<g id=\"edge10\" class=\"edge\">\n",
       "<title>The&#45;&gt;The,gorilla</title>\n",
       "<path fill=\"none\" stroke=\"black\" d=\"M526.41,-117.24C569.68,-106.01 657.44,-90.36 716.94,-127.5 720.97,-130.02 741.68,-171.68 759.56,-208.82\"/>\n",
       "<polygon fill=\"black\" stroke=\"black\" points=\"756.38,-210.28 763.86,-217.78 762.69,-207.25 756.38,-210.28\"/>\n",
       "<text text-anchor=\"middle\" x=\"631.81\" y=\"-146.2\" font-family=\"Times New Roman,serif\" font-size=\"14.00\">gorilla&#45;0.027002964198380858</text>\n",
       "<text text-anchor=\"middle\" x=\"631.81\" y=\"-130.45\" font-family=\"Times New Roman,serif\" font-size=\"14.00\">house&#45;0.9729970358016191</text>\n",
       "</g>\n",
       "<!-- ϵ -->\n",
       "<g id=\"node8\" class=\"node\">\n",
       "<title>ϵ</title>\n",
       "<polygon fill=\"none\" stroke=\"black\" points=\"33.25,-180.5 0,-141 33.25,-101.5 66.5,-141 33.25,-180.5\"/>\n",
       "<text text-anchor=\"middle\" x=\"33.25\" y=\"-143.45\" font-family=\"Times New Roman,serif\" font-size=\"14.00\">ϵ</text>\n",
       "<text text-anchor=\"middle\" x=\"33.25\" y=\"-127.7\" font-family=\"Times New Roman,serif\" font-size=\"14.00\">0.0</text>\n",
       "</g>\n",
       "<!-- ϵ&#45;&gt;T -->\n",
       "<g id=\"edge13\" class=\"edge\">\n",
       "<title>ϵ&#45;&gt;T</title>\n",
       "<path fill=\"none\" stroke=\"black\" d=\"M51.2,-159.18C99.89,-211.39 240.42,-362.09 299.48,-425.43\"/>\n",
       "<polygon fill=\"black\" stroke=\"black\" points=\"296.84,-427.73 306.22,-432.66 301.96,-422.96 296.84,-427.73\"/>\n",
       "<text text-anchor=\"middle\" x=\"160.62\" y=\"-355.45\" font-family=\"Times New Roman,serif\" font-size=\"14.00\">T&#45;0.06449618075436277</text>\n",
       "</g>\n",
       "<!-- ϵ&#45;&gt;e -->\n",
       "<g id=\"edge16\" class=\"edge\">\n",
       "<title>ϵ&#45;&gt;e</title>\n",
       "<path fill=\"none\" stroke=\"black\" d=\"M52.88,-124.55C97.01,-87.36 212.73,0 326.12,0 326.12,0 326.12,0 789.15,0 887.58,0 953.05,-119.05 980.39,-180.79\"/>\n",
       "<polygon fill=\"black\" stroke=\"black\" points=\"977.13,-182.07 984.3,-189.87 983.56,-179.3 977.13,-182.07\"/>\n",
       "<text text-anchor=\"middle\" x=\"499.34\" y=\"-65.45\" font-family=\"Times New Roman,serif\" font-size=\"14.00\">e&#45;0.0</text>\n",
       "<text text-anchor=\"middle\" x=\"499.34\" y=\"-49.7\" font-family=\"Times New Roman,serif\" font-size=\"14.00\">gorilla&#45;0.0</text>\n",
       "<text text-anchor=\"middle\" x=\"499.34\" y=\"-33.95\" font-family=\"Times New Roman,serif\" font-size=\"14.00\">h&#45;0.0</text>\n",
       "<text text-anchor=\"middle\" x=\"499.34\" y=\"-18.2\" font-family=\"Times New Roman,serif\" font-size=\"14.00\">he&#45;0.0</text>\n",
       "<text text-anchor=\"middle\" x=\"499.34\" y=\"-2.45\" font-family=\"Times New Roman,serif\" font-size=\"14.00\">house&#45;0.0</text>\n",
       "</g>\n",
       "<!-- ϵ&#45;&gt;Th -->\n",
       "<g id=\"edge14\" class=\"edge\">\n",
       "<title>ϵ&#45;&gt;Th</title>\n",
       "<path fill=\"none\" stroke=\"black\" d=\"M63.03,-145.54C116.02,-153.89 228.99,-171.69 288.17,-181.02\"/>\n",
       "<polygon fill=\"black\" stroke=\"black\" points=\"287.34,-184.43 297.76,-182.53 288.43,-177.52 287.34,-184.43\"/>\n",
       "<text text-anchor=\"middle\" x=\"160.62\" y=\"-175.45\" font-family=\"Times New Roman,serif\" font-size=\"14.00\">Th&#45;0.003969447616699461</text>\n",
       "</g>\n",
       "<!-- ϵ&#45;&gt;The -->\n",
       "<g id=\"edge15\" class=\"edge\">\n",
       "<title>ϵ&#45;&gt;The</title>\n",
       "<path fill=\"none\" stroke=\"black\" d=\"M66.15,-139.9C148.86,-137.05 370,-129.42 459.72,-126.33\"/>\n",
       "<polygon fill=\"black\" stroke=\"black\" points=\"459.6,-129.84 469.47,-126 459.36,-122.84 459.6,-129.84\"/>\n",
       "<text text-anchor=\"middle\" x=\"327.12\" y=\"-136.45\" font-family=\"Times New Roman,serif\" font-size=\"14.00\">The&#45;0.9315343716289378</text>\n",
       "</g>\n",
       "</g>\n",
       "</svg>\n"
      ],
      "text/plain": [
       "<graphviz.graphs.Digraph at 0x26c03416d30>"
      ]
     },
     "metadata": {},
     "output_type": "display_data"
    }
   ],
   "source": [
    "from pythautomata.model_exporters.dot_exporters.wfa_dot_exporting_strategy import WFADotExportingStrategy\n",
    "from IPython.display import display\n",
    "\n",
    "exporter = WFADotExportingStrategy()\n",
    "graph = exporter.create_graph(learning_result.model)\n",
    "\n",
    "display(graph)"
   ]
  },
  {
   "cell_type": "code",
   "execution_count": null,
   "metadata": {},
   "outputs": [],
   "source": []
  }
 ],
 "metadata": {
  "kernelspec": {
   "display_name": "pymodelextractor_exp",
   "language": "python",
   "name": "python3"
  },
  "language_info": {
   "codemirror_mode": {
    "name": "ipython",
    "version": 3
   },
   "file_extension": ".py",
   "mimetype": "text/x-python",
   "name": "python",
   "nbconvert_exporter": "python",
   "pygments_lexer": "ipython3",
   "version": "3.9.18"
  }
 },
 "nbformat": 4,
 "nbformat_minor": 2
}
