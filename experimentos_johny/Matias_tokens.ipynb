{
 "cells": [
  {
   "cell_type": "code",
   "execution_count": null,
   "id": "f253f7de",
   "metadata": {},
   "outputs": [],
   "source": [
    "import torch\n",
    "from transformers import AutoModelForCausalLM\n",
    "from transformers import AutoTokenizer\n",
    "\n",
    "torch.manual_seed(42)\n",
    "\n",
    "device = \"cuda\" if torch.cuda.is_available() else \"cpu\"\n",
    "model_id = \"gpt2\"\n",
    "\n",
    "tokenizer = AutoTokenizer.from_pretrained(model_id, use_fast=True, add_prefix_space=False, local_files_only = True)\n",
    "model = AutoModelForCausalLM.from_pretrained(model_id,\n",
    "                                            return_dict_in_generate=True,\n",
    "                                            pad_token_id=tokenizer.eos_token_id).to(device)"
   ]
  },
  {
   "cell_type": "code",
   "execution_count": null,
   "id": "314d8ec5",
   "metadata": {},
   "outputs": [],
   "source": [
    "prompt = tokenizer.decode(tokenizer.bos_token_id) + \".\"\n",
    "input_ids = torch.tensor(tokenizer.encode(prompt)).reshape(1, -1).to(device)\n",
    "\n",
    "with torch.no_grad():\n",
    "    output = model(input_ids)\n",
    "    logits = output[0]\n",
    "    probs = torch.softmax(logits, dim=-1)"
   ]
  },
  {
   "cell_type": "code",
   "execution_count": null,
   "id": "b7005285",
   "metadata": {},
   "outputs": [],
   "source": [
    "numbers = [\"0\", \"1\", \"2\",\"3\",\"4\",\"5\",\"6\",\"7\",\"8\",\"9\"]\n",
    "indexes = [tokenizer.encode(number) for number in numbers]\n",
    "indexes.append([tokenizer.eos_token_id])\n",
    "\n",
    "\n",
    "word_probs = {}\n",
    "for i in indexes:\n",
    "    word_prob = torch.prod(torch.stack([probs[0, -1, idx] for idx in i]))\n",
    "    word_probs[tokenizer.decode(i)] = word_prob.item()\n",
    "    print(f\"Probability of {tokenizer.decode(i)} is {word_prob:.4f}\")"
   ]
  },
  {
   "cell_type": "code",
   "execution_count": null,
   "id": "a5638acb",
   "metadata": {
    "scrolled": false
   },
   "outputs": [],
   "source": [
    "normalized_word_probs = {}\n",
    "total = sum(word_probs.values())\n",
    "for word in word_probs:\n",
    "    normalized_word_probs[word] = word_probs[word] / total\n",
    "\n",
    "print(normalized_word_probs[\"<|endoftext|>\"])"
   ]
  },
  {
   "cell_type": "code",
   "execution_count": null,
   "id": "2c4abdf5",
   "metadata": {},
   "outputs": [],
   "source": [
    "import numpy as np\n",
    "\n",
    "results = []\n",
    "\n",
    "for i in range(10000):\n",
    "    result = [\".\"]\n",
    "    next_token = \"\"\n",
    "    while next_token != tokenizer.decode(tokenizer.eos_token_id):\n",
    "        next_token = np.random.choice(a=list(normalized_word_probs), p=list(normalized_word_probs.values()))\n",
    "        result.append(next_token)\n",
    "    results.append(result)"
   ]
  },
  {
   "cell_type": "code",
   "execution_count": null,
   "id": "f8275a59",
   "metadata": {
    "scrolled": true
   },
   "outputs": [],
   "source": [
    "for r in results:\n",
    "    print(r)"
   ]
  },
  {
   "cell_type": "code",
   "execution_count": null,
   "id": "690f8f0b",
   "metadata": {},
   "outputs": [],
   "source": [
    "import re\n",
    "import numpy as np\n",
    "\n",
    "def calculate_probs(prompt, eos):\n",
    "    input_ids = torch.tensor(tokenizer.encode(prompt)).reshape(1, -1).to(device)\n",
    "    \n",
    "    with torch.no_grad():\n",
    "            output = model(input_ids)\n",
    "            logits = output[0]\n",
    "            probs = torch.softmax(logits, dim=-1)\n",
    "\n",
    "    word_probs = {}\n",
    "\n",
    "    for i in range(probs.shape[-1]):\n",
    "        prob = probs[0, -1, i].item()\n",
    "        if re.fullmatch(\"[0-9]+\", tokenizer.decode(i)):\n",
    "            word_probs[(tokenizer.decode(i)).replace(\" \", \"\")] = prob\n",
    "            \n",
    "    if eos:\n",
    "        # eos prob is hardcoded!!!\n",
    "        word_probs[tokenizer.decode(tokenizer.eos_token_id)] = probs[0, -1, 50256].item()\n",
    "    \n",
    "    \n",
    "    normalized_word_probs = {}\n",
    "    total = sum(word_probs.values())\n",
    "    for word in word_probs:\n",
    "        normalized_word_probs[word] = word_probs[word] / total   \n",
    "        \n",
    "    return normalized_word_probs"
   ]
  },
  {
   "cell_type": "code",
   "execution_count": null,
   "id": "971ff289",
   "metadata": {
    "scrolled": true
   },
   "outputs": [],
   "source": [
    "prompt = tokenizer.decode(tokenizer.bos_token_id) + \".\"\n",
    "input_ids = torch.tensor(tokenizer.encode(prompt)).reshape(1, -1).to(device)\n",
    "results = []\n",
    "import pandas as pd\n",
    "\n",
    "for i in range(3370):\n",
    "\n",
    "    next_token = \"\"\n",
    "    result = \".\"\n",
    "    prompt = tokenizer.decode(tokenizer.bos_token_id) + \".\"\n",
    "    min_digits = 1\n",
    "    max_digits = 4\n",
    "    while next_token != tokenizer.decode(tokenizer.eos_token_id):\n",
    "        if max_digits == 0:\n",
    "            break\n",
    "        \n",
    "        if min_digits <= 0:\n",
    "            normalized_word_probs = calculate_probs(prompt, True)\n",
    "        else:\n",
    "            normalized_word_probs = calculate_probs(prompt, False)\n",
    "\n",
    "        next_token = np.random.choice(a=list(normalized_word_probs), p=list(normalized_word_probs.values()))\n",
    "\n",
    "        if next_token != tokenizer.decode(tokenizer.eos_token_id):\n",
    "            result += next_token\n",
    "        else:\n",
    "            break\n",
    "        prompt = result\n",
    "        min_digits -= 1\n",
    "        max_digits -= 1\n",
    "        \n",
    "    print(result)  \n",
    "    results.append(result)\n",
    "    \n",
    "df = pd.DataFrame(results, columns=[\"floating-point\"])\n",
    "df.to_csv(\"floating_points_LLM_allTokens.csv\", index=False)\n"
   ]
  },
  {
   "cell_type": "code",
   "execution_count": null,
   "id": "ac9384fa",
   "metadata": {},
   "outputs": [],
   "source": []
  }
 ],
 "metadata": {
  "kernelspec": {
   "display_name": "Python 3 (ipykernel)",
   "language": "python",
   "name": "python3"
  },
  "language_info": {
   "codemirror_mode": {
    "name": "ipython",
    "version": 3
   },
   "file_extension": ".py",
   "mimetype": "text/x-python",
   "name": "python",
   "nbconvert_exporter": "python",
   "pygments_lexer": "ipython3",
   "version": "3.9.7"
  }
 },
 "nbformat": 4,
 "nbformat_minor": 5
}
